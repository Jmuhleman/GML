{
 "cells": [
  {
   "cell_type": "code",
   "execution_count": 1,
   "metadata": {},
   "outputs": [],
   "source": [
    "#!pip install import-ipynb\n",
    "import import_ipynb\n",
    "import utils\n",
    "from importlib import reload\n",
    "reload(utils)\n",
    "import pandas as pd\n",
    "import os"
   ]
  },
  {
   "cell_type": "code",
   "execution_count": 2,
   "metadata": {},
   "outputs": [],
   "source": [
    "# Dictionnaire pour renommer les pays dont les noms diffèrent dans le sens nom CSV : nom référence\n",
    "rename_dict = {\n",
    "    \"Micronesia, Fed. Sts.\" : \"Federated States of Micronesia\",\n",
    "    \"UK\" : \"Great Britain\",\n",
    "    \"Hong Kong, China\" : \"Hong Kong China\",\n",
    "    \"Cote d'Ivoire\" : \"Ivory Coast\",\n",
    "    \"Kyrgyz Republic\" : \"Kyrgyzstan\",\n",
    "    \"Slovak Republic\" : \"Slovakia\",\n",
    "    \"Congo, Rep.\" : \"Congo Rep.\",\n",
    "    \"Congo, Dem. Rep.\" : \"Congo Dem. Rep.\"\n",
    "}"
   ]
  },
  {
   "cell_type": "code",
   "execution_count": 3,
   "metadata": {},
   "outputs": [
    {
     "data": {
      "text/plain": [
       "'\\n+Afghanistan\\n+Antigua and Barbuda\\n+Belize\\n+Bhutan\\n+Bolivia\\n+Brunei\\n+Cambodia\\n+Chad\\n+Comoros\\n+Dominica\\n+Equatorial Guinea\\n+Gambia\\n+Guinea\\n+Lao\\n+Lesotho\\n+Libya\\n+Malawi\\n+Maldives\\n+Marshall Islands\\n+Mauritania\\n+Nepal\\n+Niger\\n+Palau\\n+Palestine\\n+Sao Tome and Principe\\n+South Sudan\\n+St. Vincent and the Grenadines\\n+Timor-Leste\\n+Tuvalu\\n+Vanuatu\\n+Yemen\\n'"
      ]
     },
     "execution_count": 3,
     "metadata": {},
     "output_type": "execute_result"
    }
   ],
   "source": [
    "# Tableau des pays à supprimer\n",
    "countries_to_remove = [\n",
    "    \"Afghanistan\", \"Antigua and Barbuda\", \"Belize\", \"Bhutan\", \"Bolivia\", \"Brunei\", \n",
    "    \"Cambodia\", \"Chad\", \"Comoros\", \"Dominica\", \"Equatorial Guinea\", \"Gambia\", \n",
    "    \"Guinea\", \"Lao\", \"Lesotho\", \"Libya\", \"Malawi\", \"Maldives\", \"Marshall Islands\", \n",
    "    \"Mauritania\", \"Nepal\", \"Niger\", \"Palau\", \"Palestine\", \"Sao Tome and Principe\", \n",
    "    \"South Sudan\", \"St. Vincent and the Grenadines\", \"Timor-Leste\", \"Tuvalu\", \n",
    "    \"Vanuatu\", \"Yemen\", \"Holy See\", \"Liechtenstein\", \"Taiwan\",\n",
    "    \n",
    "\t\"Andorra\",\n",
    "\t\"Bahrain\",\n",
    "\t\"Barbados\",\n",
    "\t\"Cape Verde\",\n",
    "\t\"Congo Rep.\",\n",
    "\t\"Federated States of Micronesia\",\n",
    "\t\"Grenada\",\n",
    "\t\"Kiribati\",\n",
    "\t\"Malta\",\n",
    "\t\"Mauritius\",\n",
    "\t\"Monaco\",\n",
    "\t\"Nauru\",\n",
    "\t\"North Macedonia\",\n",
    "\t\"Samoa\",\n",
    "\t\"San Marino\",\n",
    "\t\"Seychelles\",\n",
    "\t\"Singapore\",\n",
    "\t\"St. Kitts and Nevis\",\n",
    "\t\"St. Lucia\",\n",
    "\t\"Tonga\"\n",
    "]\n",
    "\n",
    "\n",
    "# liste des pays à shooter chez gapminder pour deuxième partie \n",
    "# certains pays comme l’Afghanistan ont bien des médailles en 2008 mais pas dans les disciplines sélectionnées\n",
    "\"\"\"\n",
    "+Afghanistan\n",
    "+Antigua and Barbuda\n",
    "+Belize\n",
    "+Bhutan\n",
    "+Bolivia\n",
    "+Brunei\n",
    "+Cambodia\n",
    "+Chad\n",
    "+Comoros\n",
    "+Dominica\n",
    "+Equatorial Guinea\n",
    "+Gambia\n",
    "+Guinea\n",
    "+Lao\n",
    "+Lesotho\n",
    "+Libya\n",
    "+Malawi\n",
    "+Maldives\n",
    "+Marshall Islands\n",
    "+Mauritania\n",
    "+Nepal\n",
    "+Niger\n",
    "+Palau\n",
    "+Palestine\n",
    "+Sao Tome and Principe\n",
    "+South Sudan\n",
    "+St. Vincent and the Grenadines\n",
    "+Timor-Leste\n",
    "+Tuvalu\n",
    "+Vanuatu\n",
    "+Yemen\n",
    "\"\"\""
   ]
  },
  {
   "cell_type": "markdown",
   "metadata": {},
   "source": [
    "## GDP capita"
   ]
  },
  {
   "cell_type": "code",
   "execution_count": 4,
   "metadata": {},
   "outputs": [
    {
     "data": {
      "text/plain": [
       "'\\n# Charger les données\\ngdp = pd.read_csv(\\'./data_raw/gdp_pcap.csv\\')\\n\\n# Normalisation des données\\ngdp = utils.normalize_data(gdp, \"country\")\\n\\n# Sélectionner uniquement les colonnes \\'country\\' et les années souhaitées\\ngdp = pd.DataFrame(gdp[[\\'country\\'] + [str(year) for year in utils.years_to_import]])\\n\\n# Découper utils.years_to_export en deux parties : avant et après 1992\\nyears_before_1992 = utils.years_to_export[:utils.years_to_export.index(1992)]  # Avant 1992 (exclu)\\nyears_after_1992 = utils.years_to_export[utils.years_to_export.index(1992):]  # 1992 et après (inclus)\\n\\n# Diviser les données en deux DataFrames : avant 1992 et à partir de 1992\\ndata_before_1992 = gdp[[col for col in gdp.columns if col == \\'country\\' or (col.isdigit() and int(col) < 1992)]].copy()\\ndata_after_1992 = gdp[[col for col in gdp.columns if col == \\'country\\' or (col.isdigit() and int(col) >= 1992)]].copy()\\n\\n# Traitement des données après 1992\\ndata_after_1992[\\'country\\'] = data_after_1992[\\'country\\'].replace(rename_dict)  # Renommer les pays\\ndata_after_1992 = data_after_1992[~data_after_1992[\\'country\\'].isin(countries_to_remove)]  # Supprimer les pays\\n\\n# Tri les données par ordre alphabétique des pays\\ndata_after_1992 = data_after_1992.sort_values(by=\\'country\\').reset_index(drop=True)\\ndata_before_1992 = data_before_1992.sort_values(by=\\'country\\').reset_index(drop=True)\\n\\n# Appliquer l\\'annotation \\'JO 2020\\' à la colonne 2021 dans data_after_1992\\ndata_after_1992 = data_after_1992.rename(columns={\\'2021\\': \\'2021 (JO 2020)\\'})\\n\\n# Sauvegarder les deux DataFrames dans le même dossier\\nsave_path = os.path.join(\".\", \"data_cleaned\", \"gdp_capita\")\\n\\n# Utiliser les sous-ensembles d\\'années pour chaque DataFrame\\nutils.generate_files_by_year(data_before_1992, save_path, \"_gdp_capita\", years_before_1992)\\nutils.generate_files_by_year(data_after_1992, save_path, \"_gdp_capita\", years_after_1992)\\n'"
      ]
     },
     "execution_count": 4,
     "metadata": {},
     "output_type": "execute_result"
    }
   ],
   "source": [
    "'''\n",
    "# Charger les données\n",
    "gdp = pd.read_csv('./data_raw/gdp_pcap.csv')\n",
    "\n",
    "# Normalisation des données\n",
    "gdp = utils.normalize_data(gdp, \"country\")\n",
    "\n",
    "# Sélectionner uniquement les colonnes 'country' et les années souhaitées\n",
    "gdp = pd.DataFrame(gdp[['country'] + [str(year) for year in utils.years_to_import]])\n",
    "\n",
    "# Découper utils.years_to_export en deux parties : avant et après 1992\n",
    "years_before_1992 = utils.years_to_export[:utils.years_to_export.index(1992)]  # Avant 1992 (exclu)\n",
    "years_after_1992 = utils.years_to_export[utils.years_to_export.index(1992):]  # 1992 et après (inclus)\n",
    "\n",
    "# Diviser les données en deux DataFrames : avant 1992 et à partir de 1992\n",
    "data_before_1992 = gdp[[col for col in gdp.columns if col == 'country' or (col.isdigit() and int(col) < 1992)]].copy()\n",
    "data_after_1992 = gdp[[col for col in gdp.columns if col == 'country' or (col.isdigit() and int(col) >= 1992)]].copy()\n",
    "\n",
    "# Traitement des données après 1992\n",
    "data_after_1992['country'] = data_after_1992['country'].replace(rename_dict)  # Renommer les pays\n",
    "data_after_1992 = data_after_1992[~data_after_1992['country'].isin(countries_to_remove)]  # Supprimer les pays\n",
    "\n",
    "# Tri les données par ordre alphabétique des pays\n",
    "data_after_1992 = data_after_1992.sort_values(by='country').reset_index(drop=True)\n",
    "data_before_1992 = data_before_1992.sort_values(by='country').reset_index(drop=True)\n",
    "\n",
    "# Appliquer l'annotation 'JO 2020' à la colonne 2021 dans data_after_1992\n",
    "data_after_1992 = data_after_1992.rename(columns={'2021': '2021 (JO 2020)'})\n",
    "\n",
    "# Sauvegarder les deux DataFrames dans le même dossier\n",
    "save_path = os.path.join(\".\", \"data_cleaned\", \"gdp_capita\")\n",
    "\n",
    "# Utiliser les sous-ensembles d'années pour chaque DataFrame\n",
    "utils.generate_files_by_year(data_before_1992, save_path, \"_gdp_capita\", years_before_1992)\n",
    "utils.generate_files_by_year(data_after_1992, save_path, \"_gdp_capita\", years_after_1992)\n",
    "'''"
   ]
  },
  {
   "cell_type": "code",
   "execution_count": 5,
   "metadata": {},
   "outputs": [],
   "source": [
    "def process_data_and_save(data, rename_dict, countries_to_remove, save_path, suffix):\n",
    "    \"\"\"\n",
    "    Fonction générique pour traiter les données (GDP, Population) et les sauvegarder année par année.\n",
    "\n",
    "    Parameters:\n",
    "    - data: Le DataFrame contenant les données à traiter\n",
    "    - years_to_import: Liste des années à importer\n",
    "    - years_to_export: Liste des années à exporter (avant ou après une certaine année)\n",
    "    - rename_dict: Dictionnaire pour renommer les pays\n",
    "    - countries_to_remove: Liste des pays à supprimer\n",
    "    - save_path: Chemin de sauvegarde des fichiers\n",
    "    - suffix: Suffixe à ajouter au nom du fichier\n",
    "    \"\"\"\n",
    "    # Normalisation des données\n",
    "    data = utils.normalize_data(data, \"country\")\n",
    "    \n",
    "    # Sélectionner uniquement les colonnes 'country' et les années souhaitées\n",
    "    data = pd.DataFrame(data[['country'] + [str(year) for year in utils.years_to_import]])\n",
    "\n",
    "    # Découper utils.years_to_export en deux parties : avant et après 1992\n",
    "    years_before_1992 = utils.years_to_export[:utils.years_to_export.index(1992)]  # Avant 1992 (exclu)\n",
    "    years_after_1992  = utils.years_to_export[utils.years_to_export.index(1992):]  # 1992 et après (inclus)\n",
    "\n",
    "    # Diviser les données en deux DataFrames : avant 1992 et à partir de 1992\n",
    "    data_before_1992 = data[[col for col in data.columns if col == 'country' or (col.isdigit() and int(col) < 1992)]].copy()\n",
    "    data_after_1992  = data[[col for col in data.columns if col == 'country' or (col.isdigit() and int(col) >= 1992)]].copy()\n",
    "\n",
    "    # Traitement des données après 1992 : renommer et supprimer certains pays\n",
    "    data_after_1992['country'] = data_after_1992['country'].replace(rename_dict)  # Renommer les pays\n",
    "    data_after_1992            = data_after_1992[~data_after_1992['country'].isin(countries_to_remove)]  # Supprimer les pays\n",
    "\n",
    "    # Trier les données par ordre alphabétique des pays\n",
    "    data_after_1992  = data_after_1992.sort_values(by='country').reset_index(drop=True)\n",
    "    data_before_1992 = data_before_1992.sort_values(by='country').reset_index(drop=True)\n",
    "\n",
    "    # Appliquer l'annotation '(JO-2020)' pour l'année 2021 dans data_after_1992\n",
    "    data_after_1992 = data_after_1992.rename(columns={'2021': '2021(JO-2020)'})\n",
    "\n",
    "    # Sauvegarder les deux DataFrames dans le même dossier\n",
    "    save_path = os.path.join(\".\", save_path)\n",
    "    \n",
    "    # Utiliser les sous-ensembles d'années pour chaque DataFrame\n",
    "    utils.generate_files_by_year(data_before_1992, save_path, suffix, years_before_1992)\n",
    "    utils.generate_files_by_year(data_after_1992,  save_path, suffix, years_after_1992)"
   ]
  },
  {
   "cell_type": "markdown",
   "metadata": {},
   "source": [
    "## GDP capita"
   ]
  },
  {
   "cell_type": "code",
   "execution_count": 6,
   "metadata": {},
   "outputs": [],
   "source": [
    "filename  = os.path.join(\".\", \"data_raw\", \"gdp_pcap.csv\")\n",
    "save_path = os.path.join(\".\", \"data_cleaned\", \"gdp_capita\")\n",
    "suffix    = \"_gdp_capita\"\n",
    "\n",
    "process_data_and_save(pd.read_csv(filename), rename_dict, countries_to_remove, save_path, suffix)"
   ]
  },
  {
   "cell_type": "markdown",
   "metadata": {},
   "source": [
    "## Population"
   ]
  },
  {
   "cell_type": "code",
   "execution_count": 7,
   "metadata": {},
   "outputs": [],
   "source": [
    "filename  = os.path.join(\".\", \"data_raw\", \"pop.csv\")\n",
    "save_path = os.path.join(\".\", \"data_cleaned\", \"population\")\n",
    "suffix    = \"_population\"\n",
    "\n",
    "process_data_and_save(pd.read_csv(filename), rename_dict, countries_to_remove, save_path, suffix)"
   ]
  },
  {
   "cell_type": "markdown",
   "metadata": {},
   "source": [
    "## Mortalité infantile"
   ]
  },
  {
   "cell_type": "code",
   "execution_count": 8,
   "metadata": {},
   "outputs": [],
   "source": [
    "filename  = os.path.join(\".\", \"data_raw\", \"child_mortality_0_5_year_olds_dying_per_1000_born.csv\")\n",
    "save_path = os.path.join(\".\", \"data_cleaned\", \"child_mortality\")\n",
    "suffix    = \"_child_mortality\"\n",
    "\n",
    "# Valeurs manquantes imputées par la moyenne\n",
    "data             = pd.read_csv(filename)\n",
    "data.iloc[:, 1:] = data.iloc[:, 1:].fillna(data.iloc[:, 1:].mean())\n",
    "\n",
    "process_data_and_save(data, rename_dict, countries_to_remove, save_path, suffix)"
   ]
  },
  {
   "cell_type": "markdown",
   "metadata": {},
   "source": [
    "## Fertilité"
   ]
  },
  {
   "cell_type": "code",
   "execution_count": 9,
   "metadata": {},
   "outputs": [],
   "source": [
    "filename  = os.path.join(\".\", \"data_raw\", \"children_per_woman_total_fertility.csv\")\n",
    "save_path = os.path.join(\".\", \"data_cleaned\", \"fertility\")\n",
    "suffix    = \"_fertility\"\n",
    "\n",
    "process_data_and_save(pd.read_csv(filename), rename_dict, countries_to_remove, save_path, suffix)"
   ]
  },
  {
   "cell_type": "markdown",
   "metadata": {},
   "source": [
    "## Espérance de vie"
   ]
  },
  {
   "cell_type": "markdown",
   "metadata": {},
   "source": [
    "A faire"
   ]
  },
  {
   "cell_type": "markdown",
   "metadata": {},
   "source": []
  }
 ],
 "metadata": {
  "kernelspec": {
   "display_name": "GML",
   "language": "python",
   "name": "python3"
  },
  "language_info": {
   "codemirror_mode": {
    "name": "ipython",
    "version": 3
   },
   "file_extension": ".py",
   "mimetype": "text/x-python",
   "name": "python",
   "nbconvert_exporter": "python",
   "pygments_lexer": "ipython3",
   "version": "3.12.3"
  }
 },
 "nbformat": 4,
 "nbformat_minor": 2
}
