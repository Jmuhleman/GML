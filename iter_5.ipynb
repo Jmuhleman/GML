{
 "cells": [
  {
   "cell_type": "code",
   "execution_count": 76,
   "id": "initial_id",
   "metadata": {
    "ExecuteTime": {
     "end_time": "2024-12-10T14:46:52.278010Z",
     "start_time": "2024-12-10T14:46:52.271492Z"
    }
   },
   "outputs": [],
   "source": [
    "import import_ipynb\n",
    "import utils\n",
    "import numpy as np\n",
    "import pandas as pd\n",
    "from sklearn.model_selection import train_test_split\n"
   ]
  },
  {
   "cell_type": "code",
   "execution_count": null,
   "id": "50ca3aee",
   "metadata": {},
   "outputs": [],
   "source": []
  },
  {
   "cell_type": "code",
   "execution_count": 77,
   "id": "53af981f-89f0-496b-a48f-4108b8415b34",
   "metadata": {
    "ExecuteTime": {
     "end_time": "2024-12-10T14:46:52.646314Z",
     "start_time": "2024-12-10T14:46:52.435412Z"
    }
   },
   "outputs": [],
   "source": [
    "# préparation des données pour l'entrainement de 1992 - 2020\n",
    "data_pop = utils.generate_df_from_files(\"./data_cleaned/population\", \"_population\")\n",
    "data_fertility = utils.generate_df_from_files(\"./data_cleaned/fertility\", \"_fertility\")\n",
    "data_child = utils.generate_df_from_files(\"./data_cleaned/child_mortality\", \"_child_mortality\")\n",
    "data_capita = utils.generate_df_from_files(\"./data_cleaned/gdp_capita\", \"_gdp_capita\")\n",
    "data_climat = utils.generate_df_from_files(\"./\", \"climate_cleaned\")[0]\n"
   ]
  },
  {
   "cell_type": "code",
   "execution_count": 78,
   "id": "946a9466",
   "metadata": {},
   "outputs": [],
   "source": [
    "# add columns of data_climat to q_climates\n",
    "\n"
   ]
  },
  {
   "cell_type": "code",
   "execution_count": 79,
   "id": "65a3db1b",
   "metadata": {},
   "outputs": [],
   "source": [
    "\n",
    "def organize_in_dict(data_list):\n",
    "    data_dict = {}\n",
    "    for e in data_list:\n",
    "        year = int(e.columns[1][:4])\n",
    "        if year == 2021:\n",
    "            year = 2020\n",
    "        data_dict[year] = e.set_index('country')\n",
    "    return data_dict\n",
    "\n",
    "data_pop = organize_in_dict(data_pop)\n",
    "data_fertility = organize_in_dict(data_fertility)\n",
    "data_child = organize_in_dict(data_child)\n",
    "data_capita = organize_in_dict(data_capita)\n",
    "data_climat.set_index('country', inplace=True)"
   ]
  },
  {
   "cell_type": "code",
   "execution_count": null,
   "id": "91e7df3e",
   "metadata": {},
   "outputs": [],
   "source": []
  },
  {
   "cell_type": "code",
   "execution_count": 80,
   "id": "28b87abb-15db-411a-bdda-7d8ddc519b91",
   "metadata": {},
   "outputs": [],
   "source": [
    "years = [y for y in range(1992, 2021, 4)]"
   ]
  },
  {
   "cell_type": "code",
   "execution_count": 81,
   "id": "826fb32e-8929-4b15-bacb-a156c32ec991",
   "metadata": {
    "ExecuteTime": {
     "end_time": "2024-12-10T14:46:52.646314Z",
     "start_time": "2024-12-10T14:46:52.435412Z"
    }
   },
   "outputs": [
    {
     "name": "stdout",
     "output_type": "stream",
     "text": [
      "1992\n",
      "1996\n",
      "2000\n",
      "2004\n",
      "2008\n",
      "2012\n",
      "2016\n",
      "2020\n",
      "(1144, 8)\n"
     ]
    }
   ],
   "source": [
    "X_list = []\n",
    "country_names = {}\n",
    "\n",
    "for annee in years:\n",
    "    print(annee)\n",
    "    concatenated_data = pd.concat(\n",
    "        [ data_pop[annee],\n",
    "          data_fertility[annee],\n",
    "          data_child[annee],\n",
    "          data_capita[annee],\n",
    "          data_climat ]\n",
    "        , axis=1, join='inner')\n",
    "\n",
    "    X_list.append(concatenated_data)\n",
    "    country_names[annee] = np.array(concatenated_data.index)\n",
    "\n",
    "X = np.vstack(X_list)\n",
    "print(X.shape)"
   ]
  },
  {
   "cell_type": "code",
   "execution_count": null,
   "id": "f290360e-bd29-446d-9045-32e17a27df1b",
   "metadata": {},
   "outputs": [],
   "source": []
  },
  {
   "cell_type": "code",
   "execution_count": 82,
   "id": "2bf014c267af67ef",
   "metadata": {
    "ExecuteTime": {
     "end_time": "2024-12-10T14:46:52.681983Z",
     "start_time": "2024-12-10T14:46:52.652608Z"
    }
   },
   "outputs": [
    {
     "name": "stdout",
     "output_type": "stream",
     "text": [
      "1992\n",
      "1996\n",
      "2000\n",
      "2004\n",
      "2008\n",
      "2012\n",
      "2016\n",
      "2020\n"
     ]
    },
    {
     "data": {
      "text/plain": [
       "(1144,)"
      ]
     },
     "execution_count": 82,
     "metadata": {},
     "output_type": "execute_result"
    }
   ],
   "source": [
    "#preparation des labels pour classification 1992-->2020 labels à 3 classes\n",
    "import pandas as pd\n",
    "\n",
    "label_class_3 = pd.read_csv(\"labels_class_3_class.csv\")\n",
    "label_class_3.set_index('year', inplace=True)\n",
    "\n",
    "labels_list = []\n",
    "for year in years:\n",
    "    print(year)\n",
    "    label = label_class_3.loc[year]\n",
    "    labels_list.append(label[country_names[year]])\n",
    "\n",
    "y_class_3 = np.hstack(labels_list)\n",
    "y_class_3.shape\n"
   ]
  },
  {
   "cell_type": "code",
   "execution_count": 83,
   "id": "fe1ad53ea4cedbcc",
   "metadata": {
    "ExecuteTime": {
     "end_time": "2024-12-10T14:46:52.713323Z",
     "start_time": "2024-12-10T14:46:52.684506Z"
    }
   },
   "outputs": [
    {
     "name": "stdout",
     "output_type": "stream",
     "text": [
      "1992\n",
      "1996\n",
      "2000\n",
      "2004\n",
      "2008\n",
      "2012\n",
      "2016\n",
      "2020\n"
     ]
    },
    {
     "data": {
      "text/plain": [
       "(1144,)"
      ]
     },
     "execution_count": 83,
     "metadata": {},
     "output_type": "execute_result"
    }
   ],
   "source": [
    "# création des label pour tous les événements 1992->2020\n",
    "import pandas as pd\n",
    "df_delegations = pd.read_csv(\"./second_part_countries_cleaned_normalized.csv\")\n",
    "df_delegations.set_index('year', inplace=True)\n",
    "\n",
    "labels_list = []\n",
    "for year in years:\n",
    "    print(year)\n",
    "    label = df_delegations.loc[year]\n",
    "    labels_list.append(label[country_names[year]])\n",
    "\n",
    "y = np.hstack(labels_list)\n",
    "y.shape"
   ]
  },
  {
   "cell_type": "code",
   "execution_count": 84,
   "id": "bb64239d-1c2e-4aac-95d5-98f4065de581",
   "metadata": {},
   "outputs": [],
   "source": [
    "import itertools"
   ]
  },
  {
   "cell_type": "code",
   "execution_count": 85,
   "id": "9e0de06f23c4e37",
   "metadata": {
    "ExecuteTime": {
     "end_time": "2024-12-10T14:46:52.731145Z",
     "start_time": "2024-12-10T14:46:52.717254Z"
    }
   },
   "outputs": [],
   "source": [
    "\n",
    "country_names_all = list(itertools.chain.from_iterable([country_names[year] for year in years]))\n",
    "\n",
    "# séparation des données en train et test\n",
    "X_train, X_test, y_train, y_test, country_train, country_test, cl_train, cl_test = train_test_split(\n",
    "    X, y, country_names_all, y_class_3,  test_size=0.2, random_state=42)\n"
   ]
  },
  {
   "cell_type": "code",
   "execution_count": 86,
   "id": "85c3d2a3-3232-4d00-ae7d-f8d9bc3a7a38",
   "metadata": {},
   "outputs": [
    {
     "name": "stdout",
     "output_type": "stream",
     "text": [
      "795\n",
      "108\n",
      "12\n"
     ]
    }
   ],
   "source": [
    "print(len(cl_train[ cl_train == 0]))\n",
    "print(len(cl_train[ cl_train == 1]))\n",
    "print(len(cl_train[ cl_train == 2]))"
   ]
  },
  {
   "cell_type": "code",
   "execution_count": 131,
   "id": "96f20104da4bb856",
   "metadata": {
    "ExecuteTime": {
     "end_time": "2024-12-10T14:46:52.748300Z",
     "start_time": "2024-12-10T14:46:52.739128Z"
    }
   },
   "outputs": [
    {
     "data": {
      "image/png": "[encoded data removed]",
      "text/plain": [
       "<Figure size 1000x1000 with 2 Axes>"
      ]
     },
     "metadata": {},
     "output_type": "display_data"
    },
    {
     "name": "stdout",
     "output_type": "stream",
     "text": [
      "\n",
      "Cluster to Country and Class Mapping:\n",
      "Cluster (0, 0): 11 countries -> ['Great Britain', 'Luxembourg', 'Belgium', 'USA', 'Slovenia', 'Spain', 'Japan', 'Italy', 'Denmark', 'Netherlands', 'Ireland']\n",
      "Class distribution in Cluster (0, 0): {0: 1, 1: 1, 2: 1}\n",
      "Cluster (0, 1): 16 countries -> ['Ukraine', 'Hungary', 'Slovakia', 'Armenia', 'Romania', 'South Korea', 'Latvia', 'Estonia', 'Belarus', 'Turkey', 'Russia', 'Georgia', 'Peru', 'Poland', 'Czech Republic', 'Lithuania']\n",
      "Class distribution in Cluster (0, 1): {0: 1, 1: 1}\n",
      "Cluster (0, 2): 10 countries -> ['Hong Kong China', 'Austria', 'Iceland', 'Sweden', 'Switzerland', 'Canada', 'Norway', 'New Zealand', 'Finland', 'Germany']\n",
      "Class distribution in Cluster (0, 2): {0: 1, 1: 1, 2: 1}\n",
      "Cluster (0, 3): 6 countries -> ['Chile', 'Iran', 'Kazakhstan', 'Israel', 'Argentina', 'Uzbekistan']\n",
      "Class distribution in Cluster (0, 3): {0: 1}\n",
      "Cluster (0, 4): 5 countries -> ['Oman', 'Saudi Arabia', 'UAE', 'Kuwait', 'Qatar']\n",
      "Class distribution in Cluster (0, 4): {0: 1}\n",
      "Cluster (1, 0): 5 countries -> ['France', 'Cyprus', 'Australia', 'Croatia', 'Portugal']\n",
      "Class distribution in Cluster (1, 0): {0: 1, 1: 1}\n",
      "Cluster (1, 1): 10 countries -> ['Serbia', 'Lebanon', 'Mexico', 'Greece', 'Moldova', 'Albania', 'Bulgaria', 'Montenegro', 'Bosnia and Herzegovina', 'Uruguay']\n",
      "Class distribution in Cluster (1, 1): {0: 1}\n",
      "Cluster (1, 2): 2 countries -> ['India', 'China']\n",
      "Class distribution in Cluster (1, 2): {0: 1, 1: 1}\n",
      "Cluster (1, 3): 4 countries -> ['Kyrgyzstan', 'Mongolia', 'North Korea', 'Tajikistan']\n",
      "Class distribution in Cluster (1, 3): {0: 1}\n",
      "Cluster (1, 4): 10 countries -> ['Jordan', 'Namibia', 'Morocco', 'Djibouti', 'Turkmenistan', 'Egypt', 'Algeria', 'Botswana', 'Syria', 'Tunisia']\n",
      "Class distribution in Cluster (1, 4): {0: 1}\n",
      "Cluster (2, 0): 4 countries -> ['Costa Rica', 'Trinidad and Tobago', 'Thailand', 'Cuba']\n",
      "Class distribution in Cluster (2, 0): {0: 1, 1: 1}\n",
      "Cluster (2, 1): 6 countries -> ['Paraguay', 'Venezuela', 'Bahamas', 'Brazil', 'Colombia', 'El Salvador']\n",
      "Class distribution in Cluster (2, 1): {0: 1}\n",
      "Cluster (2, 2): 4 countries -> ['Myanmar', 'Eswatini', 'Azerbaijan', 'South Africa']\n",
      "Class distribution in Cluster (2, 2): {0: 1}\n",
      "Cluster (2, 3): 2 countries -> ['Pakistan', 'Zimbabwe']\n",
      "Class distribution in Cluster (2, 3): {0: 1}\n",
      "Cluster (2, 4): 3 countries -> ['Iraq', 'Eritrea', 'Sudan']\n",
      "Class distribution in Cluster (2, 4): {0: 1}\n",
      "Cluster (3, 0): 5 countries -> ['Dominican Republic', 'Indonesia', 'Guatemala', 'Honduras', 'Vietnam']\n",
      "Class distribution in Cluster (3, 0): {0: 1}\n",
      "Cluster (3, 1): 3 countries -> ['Ecuador', 'Bangladesh', 'Philippines']\n",
      "Class distribution in Cluster (3, 1): {0: 1}\n",
      "Cluster (3, 2): 3 countries -> ['Kenya', 'Ghana', 'Madagascar']\n",
      "Class distribution in Cluster (3, 2): {0: 1}\n",
      "Cluster (3, 3): 6 countries -> ['Zambia', 'Senegal', 'Ethiopia', 'Mozambique', 'Rwanda', 'Burundi']\n",
      "Class distribution in Cluster (3, 3): {0: 1}\n",
      "Cluster (3, 4): 4 countries -> ['Mali', 'Angola', 'Somalia', 'Burkina Faso']\n",
      "Class distribution in Cluster (3, 4): {0: 1}\n",
      "Cluster (4, 0): 8 countries -> ['Panama', 'Sri Lanka', 'Fiji', 'Malaysia', 'Guyana', 'Suriname', 'Jamaica', 'Solomon Islands']\n",
      "Class distribution in Cluster (4, 0): {0: 1}\n",
      "Cluster (4, 1): 4 countries -> ['Nicaragua', 'Gabon', 'Papua New Guinea', 'Haiti']\n",
      "Class distribution in Cluster (4, 1): {0: 1}\n",
      "Cluster (4, 2): 5 countries -> ['Sierra Leone', 'Congo Dem. Rep.', 'Guinea-Bissau', 'Ivory Coast', 'Liberia']\n",
      "Class distribution in Cluster (4, 2): {0: 1}\n",
      "Cluster (4, 3): 5 countries -> ['Uganda', 'Togo', 'Central African Republic', 'Tanzania', 'Cameroon']\n",
      "Class distribution in Cluster (4, 3): {0: 1}\n",
      "Cluster (4, 4): 2 countries -> ['Nigeria', 'Benin']\n",
      "Class distribution in Cluster (4, 4): {0: 1}\n"
     ]
    }
   ],
   "source": [
    "import numpy as np\n",
    "from minisom import MiniSom\n",
    "import matplotlib.pyplot as plt\n",
    "import pandas as pd\n",
    "\n",
    "X_som_df = pd.DataFrame(X_train)\n",
    "X_som_df = X_som_df.drop_duplicates()\n",
    "X_som = X_som_df.values\n",
    "\n",
    "country_train_df = pd.DataFrame({'Country': country_train, 'Data': [tuple(row) for row in X_train], 'Class': cl_train})\n",
    "country_train_df = country_train_df.drop_duplicates(subset='Data', keep='first')\n",
    "aligned_country_train = country_train_df['Country'].values\n",
    "aligned_class_train = country_train_df['Class'].values\n",
    "\n",
    "som_dimensions = (5, 5) \n",
    "som = MiniSom(x=som_dimensions[0], y=som_dimensions[1], \n",
    "              input_len=X_som.shape[1],\n",
    "              sigma=1.0, learning_rate=0.5, random_seed=42)\n",
    "\n",
    "som.random_weights_init(X_som)\n",
    "som.train_random(data=X_som, num_iteration=1000)\n",
    "\n",
    "country_to_neuron = {}\n",
    "for i, x in enumerate(X_som):\n",
    "    winner = som.winner(x)\n",
    "    country_to_neuron[aligned_country_train[i]] = winner\n",
    "\n",
    "clusters = {}\n",
    "for country, winner in country_to_neuron.items():\n",
    "    if winner not in clusters:\n",
    "        clusters[winner] = {'countries': set(), 'classes': set()}\n",
    "    \n",
    "    clusters[winner]['countries'].add(country)\n",
    "    cluster_class = aligned_class_train[np.where(aligned_country_train == country)[0][0]]\n",
    "    clusters[winner]['classes'].add(cluster_class)\n",
    "\n",
    "plt.figure(figsize=(10, 10))\n",
    "plt.title(\"Self-Organizing Map\")\n",
    "plt.imshow(som.distance_map().T, cmap='bone_r')\n",
    "plt.colorbar(label='Distance')\n",
    "plt.grid()\n",
    "plt.show()\n",
    "\n",
    "sorted_clusters = sorted(clusters.items(), key=lambda item: (item[0][0], item[0][1]))\n",
    "print(\"\\nCluster to Country and Class Mapping:\")\n",
    "for cluster, data in sorted_clusters:\n",
    "    countries = list(data['countries'])\n",
    "    class_counts = {cls: list(data['classes']).count(cls) for cls in data['classes']}\n",
    "    \n",
    "    print(f\"Cluster {cluster}: {len(countries)} countries -> {countries[:]}\")\n",
    "    print(f\"Class distribution in Cluster {cluster}: {class_counts}\")\n"
   ]
  },
  {
   "cell_type": "code",
   "execution_count": null,
   "id": "faaa3ef878da7e38",
   "metadata": {
    "ExecuteTime": {
     "end_time": "2024-12-10T15:54:38.743573Z",
     "start_time": "2024-12-10T15:54:38.068936Z"
    },
    "scrolled": true
   },
   "outputs": [],
   "source": []
  },
  {
   "cell_type": "code",
   "execution_count": null,
   "id": "1bd3c990",
   "metadata": {},
   "outputs": [],
   "source": []
  },
  {
   "cell_type": "code",
   "execution_count": null,
   "id": "e9bccd38",
   "metadata": {},
   "outputs": [],
   "source": []
  },
  {
   "cell_type": "code",
   "execution_count": null,
   "id": "21eb6e12",
   "metadata": {},
   "outputs": [],
   "source": []
  },
  {
   "cell_type": "code",
   "execution_count": null,
   "id": "8ee965ed",
   "metadata": {},
   "outputs": [],
   "source": []
  },
  {
   "cell_type": "code",
   "execution_count": null,
   "id": "ac2291de",
   "metadata": {},
   "outputs": [],
   "source": []
  }
 ],
 "metadata": {
  "kernelspec": {
   "display_name": "PCD",
   "language": "python",
   "name": "python3"
  },
  "language_info": {
   "codemirror_mode": {
    "name": "ipython",
    "version": 3
   },
   "file_extension": ".py",
   "mimetype": "text/x-python",
   "name": "python",
   "nbconvert_exporter": "python",
   "pygments_lexer": "ipython3",
   "version": "3.11.7"
  }
 },
 "nbformat": 4,
 "nbformat_minor": 5
}
