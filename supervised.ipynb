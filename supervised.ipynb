{
 "cells": [
  {
   "cell_type": "code",
   "execution_count": 395,
   "metadata": {},
   "outputs": [
    {
     "data": {
      "text/plain": [
       "' \\ndata_pop = utils.generate_df_from_files(\"./data_cleaned/population\", \"_population\")\\ndata_fertility = utils.generate_df_from_files(\"./data_cleaned/fertility\", \"_fertility\")\\ndata_child = utils.generate_df_from_files(\"./data_cleaned/child_mortality\", \"_child_mortality\")\\ndata_capita = utils.generate_df_from_files(\"./data_cleaned/gdp_capita\", \"_gdp_capita\")\\n#data_life = utils.generate_df_from_files(\"./data_cleaned/life_expectancy_by_years\", \"_life_expectancy\")\\n# 11 = dataset de 1992 12 = dataset de 1996 ...\\nannee = 15\\ndata_pop = data_pop[annee:]\\ndata_fertility = data_fertility[annee:]\\ndata_child = data_child[annee:]\\ndata_capita = data_capita[annee:]\\n\\nX = np.concatenate((\\n    data_pop[0].iloc[:, 1:], \\n    data_fertility[0].iloc[:,1:], \\n    data_child[0].iloc[:,1:], \\n    data_capita[0].iloc[:,1:] \\n), axis=1)\\n\\n\\n'"
      ]
     },
     "execution_count": 395,
     "metadata": {},
     "output_type": "execute_result"
    }
   ],
   "source": [
    "# création d'un dataset avec chaque année et chaque variable économique\n",
    "import import_ipynb\n",
    "import utils\n",
    "import numpy as np\n",
    "# pour 1 evenement \n",
    "\"\"\" \n",
    "data_pop = utils.generate_df_from_files(\"./data_cleaned/population\", \"_population\")\n",
    "data_fertility = utils.generate_df_from_files(\"./data_cleaned/fertility\", \"_fertility\")\n",
    "data_child = utils.generate_df_from_files(\"./data_cleaned/child_mortality\", \"_child_mortality\")\n",
    "data_capita = utils.generate_df_from_files(\"./data_cleaned/gdp_capita\", \"_gdp_capita\")\n",
    "#data_life = utils.generate_df_from_files(\"./data_cleaned/life_expectancy_by_years\", \"_life_expectancy\")\n",
    "# 11 = dataset de 1992 12 = dataset de 1996 ...\n",
    "annee = 15\n",
    "data_pop = data_pop[annee:]\n",
    "data_fertility = data_fertility[annee:]\n",
    "data_child = data_child[annee:]\n",
    "data_capita = data_capita[annee:]\n",
    "\n",
    "X = np.concatenate((\n",
    "    data_pop[0].iloc[:, 1:], \n",
    "    data_fertility[0].iloc[:,1:], \n",
    "    data_child[0].iloc[:,1:], \n",
    "    data_capita[0].iloc[:,1:] \n",
    "), axis=1)\n",
    "\n",
    "\n",
    "\"\"\""
   ]
  },
  {
   "cell_type": "code",
   "execution_count": 396,
   "metadata": {},
   "outputs": [],
   "source": [
    "# methode pour les 8 evenements de la seconde partie\n",
    "data_pop = utils.generate_df_from_files(\"./data_cleaned/population\", \"_population\")\n",
    "data_fertility = utils.generate_df_from_files(\"./data_cleaned/fertility\", \"_fertility\")\n",
    "data_child = utils.generate_df_from_files(\"./data_cleaned/child_mortality\", \"_child_mortality\")\n",
    "data_capita = utils.generate_df_from_files(\"./data_cleaned/gdp_capita\", \"_gdp_capita\")\n",
    "\n",
    "X_list = []\n",
    "\n",
    "for annee in range(11, 19):\n",
    "        \n",
    "    data_pop_slice = data_pop[annee].iloc[:, :]\n",
    "    data_fertility_slice = data_fertility[annee].iloc[:, 1:]\n",
    "    data_child_slice = data_child[annee].iloc[:, 1:]\n",
    "    data_capita_slice = data_capita[annee].iloc[:, 1:]\n",
    "\n",
    "    concatenated_data = np.concatenate((\n",
    "        data_pop_slice, \n",
    "        data_fertility_slice, \n",
    "        data_child_slice, \n",
    "        data_capita_slice\n",
    "    ), axis=1)\n",
    "\n",
    "    X_list.append(concatenated_data)\n",
    "\n",
    "X = np.vstack(X_list)"
   ]
  },
  {
   "cell_type": "code",
   "execution_count": null,
   "metadata": {},
   "outputs": [],
   "source": []
  },
  {
   "cell_type": "code",
   "execution_count": 397,
   "metadata": {},
   "outputs": [],
   "source": [
    "# création des label pour tous les événements 1992->2020\n",
    "import pandas as pd\n",
    "df_delegations = pd.read_csv(\"./second_part_countries_cleaned_normalized.csv\")\n",
    "\n",
    "labels_list = []\n",
    "for i in range(len(df_delegations)):\n",
    "    label = df_delegations.iloc[i, :-1]\n",
    "    labels_list.append(label)\n",
    "\n",
    "y = pd.concat(labels_list, axis=0, ignore_index=True)\n"
   ]
  },
  {
   "cell_type": "code",
   "execution_count": 398,
   "metadata": {},
   "outputs": [
    {
     "data": {
      "text/plain": [
       "(1304,)"
      ]
     },
     "execution_count": 398,
     "metadata": {},
     "output_type": "execute_result"
    }
   ],
   "source": [
    "y.shape"
   ]
  },
  {
   "cell_type": "code",
   "execution_count": 399,
   "metadata": {},
   "outputs": [
    {
     "data": {
      "text/plain": [
       "(1304, 5)"
      ]
     },
     "execution_count": 399,
     "metadata": {},
     "output_type": "execute_result"
    }
   ],
   "source": [
    "X.shape"
   ]
  },
  {
   "cell_type": "code",
   "execution_count": 400,
   "metadata": {},
   "outputs": [
    {
     "data": {
      "text/plain": [
       "array(['Albania', 'Algeria', 'Andorra', ..., 'Vietnam', 'Zambia',\n",
       "       'Zimbabwe'], dtype=object)"
      ]
     },
     "execution_count": 400,
     "metadata": {},
     "output_type": "execute_result"
    }
   ],
   "source": [
    "X[:, 0]"
   ]
  },
  {
   "cell_type": "code",
   "execution_count": null,
   "metadata": {},
   "outputs": [
    {
     "name": "stdout",
     "output_type": "stream",
     "text": [
      "Epoch 1/150\n"
     ]
    },
    {
     "name": "stderr",
     "output_type": "stream",
     "text": [
      "c:\\Users\\Julien\\miniconda3\\envs\\PCD\\Lib\\site-packages\\keras\\src\\layers\\core\\dense.py:87: UserWarning: Do not pass an `input_shape`/`input_dim` argument to a layer. When using Sequential models, prefer using an `Input(shape)` object as the first layer in the model instead.\n",
      "  super().__init__(activity_regularizer=activity_regularizer, **kwargs)\n"
     ]
    },
    {
     "name": "stdout",
     "output_type": "stream",
     "text": [
      "\u001b[1m27/27\u001b[0m \u001b[32m━━━━━━━━━━━━━━━━━━━━\u001b[0m\u001b[37m\u001b[0m \u001b[1m4s\u001b[0m 23ms/step - loss: 0.2596 - mae: 0.3653 - val_loss: 0.2209 - val_mae: 0.3828\n",
      "Epoch 2/150\n",
      "\u001b[1m27/27\u001b[0m \u001b[32m━━━━━━━━━━━━━━━━━━━━\u001b[0m\u001b[37m\u001b[0m \u001b[1m0s\u001b[0m 9ms/step - loss: 0.1879 - mae: 0.3598 - val_loss: 0.1746 - val_mae: 0.3636\n",
      "Epoch 3/150\n",
      "\u001b[1m27/27\u001b[0m \u001b[32m━━━━━━━━━━━━━━━━━━━━\u001b[0m\u001b[37m\u001b[0m \u001b[1m0s\u001b[0m 15ms/step - loss: 0.1512 - mae: 0.3337 - val_loss: 0.1707 - val_mae: 0.3598\n",
      "Epoch 4/150\n",
      "\u001b[1m27/27\u001b[0m \u001b[32m━━━━━━━━━━━━━━━━━━━━\u001b[0m\u001b[37m\u001b[0m \u001b[1m0s\u001b[0m 7ms/step - loss: 0.1592 - mae: 0.3452 - val_loss: 0.1662 - val_mae: 0.3561\n",
      "Epoch 5/150\n",
      "\u001b[1m27/27\u001b[0m \u001b[32m━━━━━━━━━━━━━━━━━━━━\u001b[0m\u001b[37m\u001b[0m \u001b[1m0s\u001b[0m 7ms/step - loss: 0.1517 - mae: 0.3380 - val_loss: 0.1675 - val_mae: 0.3559\n",
      "Epoch 6/150\n",
      "\u001b[1m27/27\u001b[0m \u001b[32m━━━━━━━━━━━━━━━━━━━━\u001b[0m\u001b[37m\u001b[0m \u001b[1m0s\u001b[0m 8ms/step - loss: 0.1488 - mae: 0.3299 - val_loss: 0.1655 - val_mae: 0.3543\n",
      "Epoch 7/150\n",
      "\u001b[1m27/27\u001b[0m \u001b[32m━━━━━━━━━━━━━━━━━━━━\u001b[0m\u001b[37m\u001b[0m \u001b[1m0s\u001b[0m 6ms/step - loss: 0.1608 - mae: 0.3480 - val_loss: 0.1659 - val_mae: 0.3532\n",
      "Epoch 8/150\n",
      "\u001b[1m27/27\u001b[0m \u001b[32m━━━━━━━━━━━━━━━━━━━━\u001b[0m\u001b[37m\u001b[0m \u001b[1m0s\u001b[0m 8ms/step - loss: 0.1501 - mae: 0.3352 - val_loss: 0.1600 - val_mae: 0.3515\n",
      "Epoch 9/150\n",
      "\u001b[1m27/27\u001b[0m \u001b[32m━━━━━━━━━━━━━━━━━━━━\u001b[0m\u001b[37m\u001b[0m \u001b[1m0s\u001b[0m 12ms/step - loss: 0.1459 - mae: 0.3329 - val_loss: 0.1627 - val_mae: 0.3516\n",
      "Epoch 10/150\n",
      "\u001b[1m27/27\u001b[0m \u001b[32m━━━━━━━━━━━━━━━━━━━━\u001b[0m\u001b[37m\u001b[0m \u001b[1m0s\u001b[0m 7ms/step - loss: 0.1506 - mae: 0.3396 - val_loss: 0.1608 - val_mae: 0.3507\n",
      "Epoch 11/150\n",
      "\u001b[1m27/27\u001b[0m \u001b[32m━━━━━━━━━━━━━━━━━━━━\u001b[0m\u001b[37m\u001b[0m \u001b[1m0s\u001b[0m 7ms/step - loss: 0.1504 - mae: 0.3356 - val_loss: 0.1601 - val_mae: 0.3503\n",
      "Epoch 12/150\n",
      "\u001b[1m27/27\u001b[0m \u001b[32m━━━━━━━━━━━━━━━━━━━━\u001b[0m\u001b[37m\u001b[0m \u001b[1m0s\u001b[0m 6ms/step - loss: 0.1442 - mae: 0.3313 - val_loss: 0.1603 - val_mae: 0.3506\n",
      "Epoch 13/150\n",
      "\u001b[1m27/27\u001b[0m \u001b[32m━━━━━━━━━━━━━━━━━━━━\u001b[0m\u001b[37m\u001b[0m \u001b[1m1s\u001b[0m 16ms/step - loss: 0.1444 - mae: 0.3323 - val_loss: 0.1607 - val_mae: 0.3509\n",
      "Epoch 14/150\n",
      "\u001b[1m27/27\u001b[0m \u001b[32m━━━━━━━━━━━━━━━━━━━━\u001b[0m\u001b[37m\u001b[0m \u001b[1m1s\u001b[0m 16ms/step - loss: 0.1425 - mae: 0.3334 - val_loss: 0.1592 - val_mae: 0.3500\n",
      "Epoch 15/150\n",
      "\u001b[1m27/27\u001b[0m \u001b[32m━━━━━━━━━━━━━━━━━━━━\u001b[0m\u001b[37m\u001b[0m \u001b[1m1s\u001b[0m 15ms/step - loss: 0.1420 - mae: 0.3310 - val_loss: 0.1569 - val_mae: 0.3497\n",
      "Epoch 16/150\n",
      "\u001b[1m27/27\u001b[0m \u001b[32m━━━━━━━━━━━━━━━━━━━━\u001b[0m\u001b[37m\u001b[0m \u001b[1m0s\u001b[0m 7ms/step - loss: 0.1399 - mae: 0.3298 - val_loss: 0.1560 - val_mae: 0.3496\n",
      "Epoch 17/150\n",
      "\u001b[1m27/27\u001b[0m \u001b[32m━━━━━━━━━━━━━━━━━━━━\u001b[0m\u001b[37m\u001b[0m \u001b[1m0s\u001b[0m 10ms/step - loss: 0.1449 - mae: 0.3354 - val_loss: 0.1562 - val_mae: 0.3490\n",
      "Epoch 18/150\n",
      "\u001b[1m27/27\u001b[0m \u001b[32m━━━━━━━━━━━━━━━━━━━━\u001b[0m\u001b[37m\u001b[0m \u001b[1m0s\u001b[0m 5ms/step - loss: 0.1380 - mae: 0.3257 - val_loss: 0.1547 - val_mae: 0.3485\n",
      "Epoch 19/150\n",
      "\u001b[1m27/27\u001b[0m \u001b[32m━━━━━━━━━━━━━━━━━━━━\u001b[0m\u001b[37m\u001b[0m \u001b[1m0s\u001b[0m 16ms/step - loss: 0.1387 - mae: 0.3282 - val_loss: 0.1546 - val_mae: 0.3481\n",
      "Epoch 20/150\n",
      "\u001b[1m27/27\u001b[0m \u001b[32m━━━━━━━━━━━━━━━━━━━━\u001b[0m\u001b[37m\u001b[0m \u001b[1m1s\u001b[0m 15ms/step - loss: 0.1448 - mae: 0.3347 - val_loss: 0.1552 - val_mae: 0.3483\n",
      "Epoch 21/150\n",
      "\u001b[1m27/27\u001b[0m \u001b[32m━━━━━━━━━━━━━━━━━━━━\u001b[0m\u001b[37m\u001b[0m \u001b[1m0s\u001b[0m 13ms/step - loss: 0.1347 - mae: 0.3225 - val_loss: 0.1545 - val_mae: 0.3483\n",
      "Epoch 22/150\n",
      "\u001b[1m27/27\u001b[0m \u001b[32m━━━━━━━━━━━━━━━━━━━━\u001b[0m\u001b[37m\u001b[0m \u001b[1m0s\u001b[0m 6ms/step - loss: 0.1415 - mae: 0.3313 - val_loss: 0.1547 - val_mae: 0.3490\n",
      "Epoch 23/150\n",
      "\u001b[1m27/27\u001b[0m \u001b[32m━━━━━━━━━━━━━━━━━━━━\u001b[0m\u001b[37m\u001b[0m \u001b[1m1s\u001b[0m 17ms/step - loss: 0.1379 - mae: 0.3260 - val_loss: 0.1564 - val_mae: 0.3493\n",
      "Epoch 24/150\n",
      "\u001b[1m27/27\u001b[0m \u001b[32m━━━━━━━━━━━━━━━━━━━━\u001b[0m\u001b[37m\u001b[0m \u001b[1m1s\u001b[0m 17ms/step - loss: 0.1477 - mae: 0.3383 - val_loss: 0.1554 - val_mae: 0.3492\n",
      "Epoch 25/150\n",
      "\u001b[1m27/27\u001b[0m \u001b[32m━━━━━━━━━━━━━━━━━━━━\u001b[0m\u001b[37m\u001b[0m \u001b[1m1s\u001b[0m 17ms/step - loss: 0.1370 - mae: 0.3269 - val_loss: 0.1554 - val_mae: 0.3493\n",
      "Epoch 26/150\n",
      "\u001b[1m27/27\u001b[0m \u001b[32m━━━━━━━━━━━━━━━━━━━━\u001b[0m\u001b[37m\u001b[0m \u001b[1m0s\u001b[0m 14ms/step - loss: 0.1392 - mae: 0.3293 - val_loss: 0.1551 - val_mae: 0.3490\n",
      "Epoch 27/150\n",
      "\u001b[1m27/27\u001b[0m \u001b[32m━━━━━━━━━━━━━━━━━━━━\u001b[0m\u001b[37m\u001b[0m \u001b[1m0s\u001b[0m 14ms/step - loss: 0.1488 - mae: 0.3430 - val_loss: 0.1556 - val_mae: 0.3489\n",
      "Epoch 28/150\n",
      "\u001b[1m27/27\u001b[0m \u001b[32m━━━━━━━━━━━━━━━━━━━━\u001b[0m\u001b[37m\u001b[0m \u001b[1m1s\u001b[0m 17ms/step - loss: 0.1408 - mae: 0.3309 - val_loss: 0.1556 - val_mae: 0.3486\n",
      "Epoch 29/150\n",
      "\u001b[1m27/27\u001b[0m \u001b[32m━━━━━━━━━━━━━━━━━━━━\u001b[0m\u001b[37m\u001b[0m \u001b[1m1s\u001b[0m 15ms/step - loss: 0.1450 - mae: 0.3361 - val_loss: 0.1551 - val_mae: 0.3481\n",
      "Epoch 30/150\n",
      "\u001b[1m27/27\u001b[0m \u001b[32m━━━━━━━━━━━━━━━━━━━━\u001b[0m\u001b[37m\u001b[0m \u001b[1m0s\u001b[0m 10ms/step - loss: 0.1443 - mae: 0.3337 - val_loss: 0.1550 - val_mae: 0.3480\n",
      "Epoch 31/150\n",
      "\u001b[1m27/27\u001b[0m \u001b[32m━━━━━━━━━━━━━━━━━━━━\u001b[0m\u001b[37m\u001b[0m \u001b[1m0s\u001b[0m 14ms/step - loss: 0.1369 - mae: 0.3235 - val_loss: 0.1546 - val_mae: 0.3479\n",
      "Epoch 32/150\n",
      "\u001b[1m27/27\u001b[0m \u001b[32m━━━━━━━━━━━━━━━━━━━━\u001b[0m\u001b[37m\u001b[0m \u001b[1m0s\u001b[0m 14ms/step - loss: 0.1373 - mae: 0.3249 - val_loss: 0.1544 - val_mae: 0.3481\n",
      "Epoch 33/150\n",
      "\u001b[1m27/27\u001b[0m \u001b[32m━━━━━━━━━━━━━━━━━━━━\u001b[0m\u001b[37m\u001b[0m \u001b[1m1s\u001b[0m 16ms/step - loss: 0.1421 - mae: 0.3313 - val_loss: 0.1551 - val_mae: 0.3488\n",
      "Epoch 34/150\n",
      "\u001b[1m27/27\u001b[0m \u001b[32m━━━━━━━━━━━━━━━━━━━━\u001b[0m\u001b[37m\u001b[0m \u001b[1m1s\u001b[0m 18ms/step - loss: 0.1354 - mae: 0.3247 - val_loss: 0.1552 - val_mae: 0.3486\n",
      "Epoch 35/150\n",
      "\u001b[1m27/27\u001b[0m \u001b[32m━━━━━━━━━━━━━━━━━━━━\u001b[0m\u001b[37m\u001b[0m \u001b[1m1s\u001b[0m 20ms/step - loss: 0.1384 - mae: 0.3254 - val_loss: 0.1557 - val_mae: 0.3485\n",
      "Epoch 36/150\n",
      "\u001b[1m27/27\u001b[0m \u001b[32m━━━━━━━━━━━━━━━━━━━━\u001b[0m\u001b[37m\u001b[0m \u001b[1m1s\u001b[0m 19ms/step - loss: 0.1424 - mae: 0.3318 - val_loss: 0.1546 - val_mae: 0.3493\n",
      "Epoch 37/150\n",
      "\u001b[1m27/27\u001b[0m \u001b[32m━━━━━━━━━━━━━━━━━━━━\u001b[0m\u001b[37m\u001b[0m \u001b[1m1s\u001b[0m 15ms/step - loss: 0.1426 - mae: 0.3354 - val_loss: 0.1542 - val_mae: 0.3493\n",
      "Epoch 38/150\n",
      "\u001b[1m27/27\u001b[0m \u001b[32m━━━━━━━━━━━━━━━━━━━━\u001b[0m\u001b[37m\u001b[0m \u001b[1m0s\u001b[0m 6ms/step - loss: 0.1453 - mae: 0.3364 - val_loss: 0.1550 - val_mae: 0.3490\n",
      "Epoch 39/150\n",
      "\u001b[1m27/27\u001b[0m \u001b[32m━━━━━━━━━━━━━━━━━━━━\u001b[0m\u001b[37m\u001b[0m \u001b[1m0s\u001b[0m 7ms/step - loss: 0.1321 - mae: 0.3183 - val_loss: 0.1541 - val_mae: 0.3486\n",
      "Epoch 40/150\n",
      "\u001b[1m27/27\u001b[0m \u001b[32m━━━━━━━━━━━━━━━━━━━━\u001b[0m\u001b[37m\u001b[0m \u001b[1m0s\u001b[0m 9ms/step - loss: 0.1421 - mae: 0.3360 - val_loss: 0.1540 - val_mae: 0.3483\n",
      "Epoch 41/150\n",
      "\u001b[1m27/27\u001b[0m \u001b[32m━━━━━━━━━━━━━━━━━━━━\u001b[0m\u001b[37m\u001b[0m \u001b[1m0s\u001b[0m 14ms/step - loss: 0.1374 - mae: 0.3257 - val_loss: 0.1561 - val_mae: 0.3490\n",
      "Epoch 42/150\n",
      "\u001b[1m27/27\u001b[0m \u001b[32m━━━━━━━━━━━━━━━━━━━━\u001b[0m\u001b[37m\u001b[0m \u001b[1m0s\u001b[0m 4ms/step - loss: 0.1320 - mae: 0.3184 - val_loss: 0.1532 - val_mae: 0.3485\n",
      "Epoch 43/150\n",
      "\u001b[1m27/27\u001b[0m \u001b[32m━━━━━━━━━━━━━━━━━━━━\u001b[0m\u001b[37m\u001b[0m \u001b[1m1s\u001b[0m 16ms/step - loss: 0.1350 - mae: 0.3216 - val_loss: 0.1540 - val_mae: 0.3481\n",
      "Epoch 44/150\n",
      "\u001b[1m27/27\u001b[0m \u001b[32m━━━━━━━━━━━━━━━━━━━━\u001b[0m\u001b[37m\u001b[0m \u001b[1m0s\u001b[0m 4ms/step - loss: 0.1445 - mae: 0.3363 - val_loss: 0.1538 - val_mae: 0.3483\n",
      "Epoch 45/150\n",
      "\u001b[1m27/27\u001b[0m \u001b[32m━━━━━━━━━━━━━━━━━━━━\u001b[0m\u001b[37m\u001b[0m \u001b[1m0s\u001b[0m 14ms/step - loss: 0.1435 - mae: 0.3341 - val_loss: 0.1550 - val_mae: 0.3486\n",
      "Epoch 46/150\n",
      "\u001b[1m27/27\u001b[0m \u001b[32m━━━━━━━━━━━━━━━━━━━━\u001b[0m\u001b[37m\u001b[0m \u001b[1m0s\u001b[0m 13ms/step - loss: 0.1377 - mae: 0.3232 - val_loss: 0.1560 - val_mae: 0.3493\n",
      "Epoch 47/150\n",
      "\u001b[1m27/27\u001b[0m \u001b[32m━━━━━━━━━━━━━━━━━━━━\u001b[0m\u001b[37m\u001b[0m \u001b[1m0s\u001b[0m 8ms/step - loss: 0.1447 - mae: 0.3328 - val_loss: 0.1562 - val_mae: 0.3492\n",
      "Epoch 48/150\n",
      "\u001b[1m27/27\u001b[0m \u001b[32m━━━━━━━━━━━━━━━━━━━━\u001b[0m\u001b[37m\u001b[0m \u001b[1m1s\u001b[0m 15ms/step - loss: 0.1422 - mae: 0.3309 - val_loss: 0.1562 - val_mae: 0.3498\n",
      "Epoch 49/150\n",
      "\u001b[1m27/27\u001b[0m \u001b[32m━━━━━━━━━━━━━━━━━━━━\u001b[0m\u001b[37m\u001b[0m \u001b[1m0s\u001b[0m 14ms/step - loss: 0.1361 - mae: 0.3246 - val_loss: 0.1560 - val_mae: 0.3496\n",
      "Epoch 50/150\n",
      "\u001b[1m27/27\u001b[0m \u001b[32m━━━━━━━━━━━━━━━━━━━━\u001b[0m\u001b[37m\u001b[0m \u001b[1m0s\u001b[0m 14ms/step - loss: 0.1413 - mae: 0.3308 - val_loss: 0.1565 - val_mae: 0.3493\n",
      "Epoch 51/150\n",
      "\u001b[1m27/27\u001b[0m \u001b[32m━━━━━━━━━━━━━━━━━━━━\u001b[0m\u001b[37m\u001b[0m \u001b[1m1s\u001b[0m 16ms/step - loss: 0.1356 - mae: 0.3235 - val_loss: 0.1548 - val_mae: 0.3485\n",
      "Epoch 52/150\n",
      "\u001b[1m27/27\u001b[0m \u001b[32m━━━━━━━━━━━━━━━━━━━━\u001b[0m\u001b[37m\u001b[0m \u001b[1m0s\u001b[0m 14ms/step - loss: 0.1317 - mae: 0.3201 - val_loss: 0.1539 - val_mae: 0.3479\n",
      "Epoch 53/150\n",
      "\u001b[1m27/27\u001b[0m \u001b[32m━━━━━━━━━━━━━━━━━━━━\u001b[0m\u001b[37m\u001b[0m \u001b[1m0s\u001b[0m 14ms/step - loss: 0.1326 - mae: 0.3199 - val_loss: 0.1549 - val_mae: 0.3485\n",
      "Epoch 54/150\n",
      "\u001b[1m27/27\u001b[0m \u001b[32m━━━━━━━━━━━━━━━━━━━━\u001b[0m\u001b[37m\u001b[0m \u001b[1m0s\u001b[0m 9ms/step - loss: 0.1297 - mae: 0.3141 - val_loss: 0.1543 - val_mae: 0.3484\n",
      "Epoch 55/150\n",
      "\u001b[1m27/27\u001b[0m \u001b[32m━━━━━━━━━━━━━━━━━━━━\u001b[0m\u001b[37m\u001b[0m \u001b[1m1s\u001b[0m 15ms/step - loss: 0.1407 - mae: 0.3302 - val_loss: 0.1550 - val_mae: 0.3479\n",
      "Epoch 56/150\n",
      "\u001b[1m27/27\u001b[0m \u001b[32m━━━━━━━━━━━━━━━━━━━━\u001b[0m\u001b[37m\u001b[0m \u001b[1m0s\u001b[0m 15ms/step - loss: 0.1386 - mae: 0.3222 - val_loss: 0.1552 - val_mae: 0.3486\n",
      "Epoch 57/150\n",
      "\u001b[1m27/27\u001b[0m \u001b[32m━━━━━━━━━━━━━━━━━━━━\u001b[0m\u001b[37m\u001b[0m \u001b[1m0s\u001b[0m 6ms/step - loss: 0.1426 - mae: 0.3328 - val_loss: 0.1550 - val_mae: 0.3485\n",
      "Epoch 58/150\n",
      "\u001b[1m27/27\u001b[0m \u001b[32m━━━━━━━━━━━━━━━━━━━━\u001b[0m\u001b[37m\u001b[0m \u001b[1m0s\u001b[0m 10ms/step - loss: 0.1337 - mae: 0.3196 - val_loss: 0.1541 - val_mae: 0.3489\n",
      "Epoch 59/150\n",
      "\u001b[1m27/27\u001b[0m \u001b[32m━━━━━━━━━━━━━━━━━━━━\u001b[0m\u001b[37m\u001b[0m \u001b[1m0s\u001b[0m 7ms/step - loss: 0.1406 - mae: 0.3328 - val_loss: 0.1550 - val_mae: 0.3480\n",
      "Epoch 60/150\n",
      "\u001b[1m27/27\u001b[0m \u001b[32m━━━━━━━━━━━━━━━━━━━━\u001b[0m\u001b[37m\u001b[0m \u001b[1m0s\u001b[0m 14ms/step - loss: 0.1452 - mae: 0.3365 - val_loss: 0.1563 - val_mae: 0.3490\n",
      "Epoch 61/150\n",
      "\u001b[1m27/27\u001b[0m \u001b[32m━━━━━━━━━━━━━━━━━━━━\u001b[0m\u001b[37m\u001b[0m \u001b[1m0s\u001b[0m 7ms/step - loss: 0.1389 - mae: 0.3251 - val_loss: 0.1556 - val_mae: 0.3495\n",
      "Epoch 62/150\n",
      "\u001b[1m27/27\u001b[0m \u001b[32m━━━━━━━━━━━━━━━━━━━━\u001b[0m\u001b[37m\u001b[0m \u001b[1m0s\u001b[0m 7ms/step - loss: 0.1455 - mae: 0.3375 - val_loss: 0.1565 - val_mae: 0.3495\n",
      "Epoch 63/150\n",
      "\u001b[1m27/27\u001b[0m \u001b[32m━━━━━━━━━━━━━━━━━━━━\u001b[0m\u001b[37m\u001b[0m \u001b[1m0s\u001b[0m 10ms/step - loss: 0.1434 - mae: 0.3334 - val_loss: 0.1564 - val_mae: 0.3496\n",
      "Epoch 64/150\n",
      "\u001b[1m27/27\u001b[0m \u001b[32m━━━━━━━━━━━━━━━━━━━━\u001b[0m\u001b[37m\u001b[0m \u001b[1m0s\u001b[0m 10ms/step - loss: 0.1430 - mae: 0.3313 - val_loss: 0.1564 - val_mae: 0.3499\n",
      "Epoch 65/150\n",
      "\u001b[1m27/27\u001b[0m \u001b[32m━━━━━━━━━━━━━━━━━━━━\u001b[0m\u001b[37m\u001b[0m \u001b[1m0s\u001b[0m 9ms/step - loss: 0.1428 - mae: 0.3348 - val_loss: 0.1551 - val_mae: 0.3494\n",
      "Epoch 66/150\n",
      "\u001b[1m27/27\u001b[0m \u001b[32m━━━━━━━━━━━━━━━━━━━━\u001b[0m\u001b[37m\u001b[0m \u001b[1m0s\u001b[0m 6ms/step - loss: 0.1335 - mae: 0.3202 - val_loss: 0.1557 - val_mae: 0.3494\n",
      "Epoch 67/150\n",
      "\u001b[1m27/27\u001b[0m \u001b[32m━━━━━━━━━━━━━━━━━━━━\u001b[0m\u001b[37m\u001b[0m \u001b[1m0s\u001b[0m 8ms/step - loss: 0.1404 - mae: 0.3303 - val_loss: 0.1558 - val_mae: 0.3489\n",
      "Epoch 68/150\n",
      "\u001b[1m27/27\u001b[0m \u001b[32m━━━━━━━━━━━━━━━━━━━━\u001b[0m\u001b[37m\u001b[0m \u001b[1m0s\u001b[0m 7ms/step - loss: 0.1384 - mae: 0.3281 - val_loss: 0.1556 - val_mae: 0.3490\n",
      "Epoch 69/150\n",
      "\u001b[1m27/27\u001b[0m \u001b[32m━━━━━━━━━━━━━━━━━━━━\u001b[0m\u001b[37m\u001b[0m \u001b[1m0s\u001b[0m 7ms/step - loss: 0.1437 - mae: 0.3363 - val_loss: 0.1560 - val_mae: 0.3491\n",
      "Epoch 70/150\n",
      "\u001b[1m27/27\u001b[0m \u001b[32m━━━━━━━━━━━━━━━━━━━━\u001b[0m\u001b[37m\u001b[0m \u001b[1m0s\u001b[0m 11ms/step - loss: 0.1415 - mae: 0.3293 - val_loss: 0.1559 - val_mae: 0.3487\n",
      "Epoch 71/150\n",
      "\u001b[1m27/27\u001b[0m \u001b[32m━━━━━━━━━━━━━━━━━━━━\u001b[0m\u001b[37m\u001b[0m \u001b[1m0s\u001b[0m 11ms/step - loss: 0.1329 - mae: 0.3178 - val_loss: 0.1540 - val_mae: 0.3483\n",
      "Epoch 72/150\n",
      "\u001b[1m27/27\u001b[0m \u001b[32m━━━━━━━━━━━━━━━━━━━━\u001b[0m\u001b[37m\u001b[0m \u001b[1m0s\u001b[0m 6ms/step - loss: 0.1402 - mae: 0.3264 - val_loss: 0.1555 - val_mae: 0.3488\n",
      "Epoch 73/150\n",
      "\u001b[1m27/27\u001b[0m \u001b[32m━━━━━━━━━━━━━━━━━━━━\u001b[0m\u001b[37m\u001b[0m \u001b[1m0s\u001b[0m 10ms/step - loss: 0.1343 - mae: 0.3204 - val_loss: 0.1557 - val_mae: 0.3491\n",
      "Epoch 74/150\n"
     ]
    }
   ],
   "source": [
    "import numpy as np\n",
    "from sklearn.model_selection import train_test_split\n",
    "from tensorflow.keras.models import Sequential\n",
    "from tensorflow.keras.layers import Dense, Dropout\n",
    "\n",
    "country_names = X[:, 0]\n",
    "\n",
    "X=X[:, 1:]\n",
    "\n",
    "X = np.array(X, dtype=np.float32)\n",
    "y = np.array(y, dtype=np.float32) \n",
    "\n",
    "X_train, X_test, y_train, y_test, country_train, country_test = train_test_split(\n",
    "    X, y, country_names, test_size=0.2, random_state=42\n",
    ")\n",
    "model = Sequential([\n",
    "    Dense(32, activation='relu', input_shape=(X_train.shape[1],)),\n",
    "    Dense(10, activation='relu'),\n",
    "    Dropout(0.4),\n",
    "    Dense(4, activation='relu'),\n",
    "    Dense(1)\n",
    "])\n",
    "model.compile(optimizer='adam', loss='mean_squared_error', metrics=['mae'])\n",
    "history = model.fit(X_train, y_train, epochs=50, batch_size=32, validation_split=0.2, verbose=1)\n"
   ]
  },
  {
   "cell_type": "code",
   "execution_count": null,
   "metadata": {},
   "outputs": [
    {
     "data": {
      "image/png": "[encoded data removed]",
      "text/plain": [
       "<Figure size 640x480 with 1 Axes>"
      ]
     },
     "metadata": {},
     "output_type": "display_data"
    }
   ],
   "source": [
    "# plot de history pour voir l'évolution de la loss et de la mae\n",
    "import matplotlib.pyplot as plt\n",
    "\n",
    "plt.plot(history.history['loss'], label='Train Loss')\n",
    "plt.plot(history.history['val_loss'], label='Validation Loss')\n",
    "plt.legend()\n",
    "plt.show()"
   ]
  },
  {
   "cell_type": "code",
   "execution_count": null,
   "metadata": {},
   "outputs": [],
   "source": []
  },
  {
   "cell_type": "code",
   "execution_count": null,
   "metadata": {},
   "outputs": [
    {
     "name": "stdout",
     "output_type": "stream",
     "text": [
      "\u001b[1m9/9\u001b[0m \u001b[32m━━━━━━━━━━━━━━━━━━━━\u001b[0m\u001b[37m\u001b[0m \u001b[1m0s\u001b[0m 15ms/step\n",
      "Mean Absolute Error: 0.33161746796929703\n",
      "Mean Squared Error: 0.14195736092940436\n"
     ]
    }
   ],
   "source": [
    "# calcul de la mse\n",
    "from sklearn.metrics import mean_absolute_error, mean_squared_error\n",
    "predictions = model.predict(X_test)\n",
    "mae = mean_absolute_error(y_test, predictions)\n",
    "mse = mean_squared_error(y_test, predictions)\n",
    "print(f\"Mean Absolute Error: {mae}\")\n",
    "print(f\"Mean Squared Error: {mse}\")\n",
    "\n"
   ]
  },
  {
   "cell_type": "code",
   "execution_count": null,
   "metadata": {},
   "outputs": [
    {
     "name": "stdout",
     "output_type": "stream",
     "text": [
      "\u001b[1m9/9\u001b[0m \u001b[32m━━━━━━━━━━━━━━━━━━━━\u001b[0m\u001b[37m\u001b[0m \u001b[1m0s\u001b[0m 15ms/step\n",
      "Prediction: 0.42928239703178406, Real: 0.3333333432674408 pays 0.0035313538600065\n",
      "Prediction: 0.3035091757774353, Real: 0.0 pays 0.0032155473666731\n",
      "Prediction: 0.4182479977607727, Real: 0.52173912525177 pays 0.0333503967219607\n",
      "Prediction: 0.32199302315711975, Real: 0.5 pays 0.0100655501278586\n",
      "Prediction: 0.4475458562374115, Real: 1.0 pays 1.0\n",
      "Prediction: 0.37393277883529663, Real: 0.5 pays 0.0006603699283286\n",
      "Prediction: 0.2944428026676178, Real: 0.38461539149284363 pays 0.0221944923398682\n",
      "Prediction: 0.4228253662586212, Real: 1.0 pays 0.0003075211091812\n",
      "Prediction: 0.4172830581665039, Real: 0.0 pays 0.0044823986990628\n",
      "Prediction: 0.3788487911224365, Real: 0.0 pays 0.0028493793273104\n"
     ]
    }
   ],
   "source": [
    "# faire des prédictions avec les pays de test\n",
    "predictions = model.predict(X_test)\n",
    "\n",
    "# affichage des prédictions\n",
    "for i in range(10):\n",
    "    print(f\"Prediction: {predictions[i][0]}, Real: {y_test[i]}\", \"pays\", country_test[i])"
   ]
  },
  {
   "cell_type": "code",
   "execution_count": null,
   "metadata": {},
   "outputs": [],
   "source": []
  },
  {
   "cell_type": "code",
   "execution_count": null,
   "metadata": {},
   "outputs": [],
   "source": [
    "\n",
    "\n"
   ]
  },
  {
   "cell_type": "code",
   "execution_count": null,
   "metadata": {},
   "outputs": [],
   "source": []
  }
 ],
 "metadata": {
  "kernelspec": {
   "display_name": "PCD",
   "language": "python",
   "name": "python3"
  },
  "language_info": {
   "codemirror_mode": {
    "name": "ipython",
    "version": 3
   },
   "file_extension": ".py",
   "mimetype": "text/x-python",
   "name": "python",
   "nbconvert_exporter": "python",
   "pygments_lexer": "ipython3",
   "version": "3.11.7"
  }
 },
 "nbformat": 4,
 "nbformat_minor": 2
}
