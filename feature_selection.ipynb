{
 "cells": [
  {
   "cell_type": "markdown",
   "metadata": {},
   "source": [
    "# Feature Selection"
   ]
  },
  {
   "cell_type": "code",
   "execution_count": 10,
   "metadata": {},
   "outputs": [],
   "source": [
    "import import_ipynb\n",
    "import utils\n",
    "import numpy as np\n",
    "import pandas as pd\n",
    "from sklearn.model_selection import train_test_split\n",
    "from sklearn.feature_selection import f_regression, f_classif\n",
    "from sklearn.feature_selection import mutual_info_regression, mutual_info_classif\n",
    "from sklearn.feature_selection import SelectKBest"
   ]
  },
  {
   "cell_type": "code",
   "execution_count": 5,
   "metadata": {},
   "outputs": [
    {
     "name": "stdout",
     "output_type": "stream",
     "text": [
      "   year    country       pop  fertility     child    capita  Avg_Temperature  \\\n",
      "0  1992    Albania  0.002779   0.259972  0.102065  0.025418         0.550000   \n",
      "1  1992    Algeria  0.022542   0.449794  0.133229  0.064224         0.500000   \n",
      "2  1992     Angola  0.010508   0.844567  0.707830  0.030393         0.516667   \n",
      "3  1992  Argentina  0.028559   0.273728  0.069277  0.137042         0.423077   \n",
      "4  1992    Armenia  0.003025   0.206327  0.126412  0.024514         0.480000   \n",
      "\n",
      "   Avg_Precipitation  Avg_Seasonality  Avg_Aridity  score  class  \n",
      "0           0.600000         0.475000     0.450000    1.0      0  \n",
      "1           0.360000         0.240000     0.640000   14.0      0  \n",
      "2           0.483333         0.333333     0.500000    1.0      0  \n",
      "3           0.469231         0.338462     0.453846   12.0      0  \n",
      "4           0.460000         0.420000     0.440000    0.0      0  \n"
     ]
    }
   ],
   "source": [
    "# préparation des données pour l'entrainement de 1992 - 2020\n",
    "data_pop = utils.generate_df_from_files(\"./data_cleaned/population\", \"_population\")\n",
    "data_fertility = utils.generate_df_from_files(\"./data_cleaned/fertility\", \"_fertility\")\n",
    "data_child = utils.generate_df_from_files(\"./data_cleaned/child_mortality\", \"_child_mortality\")\n",
    "data_capita = utils.generate_df_from_files(\"./data_cleaned/gdp_capita\", \"_gdp_capita\")\n",
    "data_climat = utils.generate_df_from_files(\"./\", \"climate_cleaned\")[0]\n",
    "\n",
    "#years = [1948, 1952, 1956, 1960, 1964, 1968, 1972, 1976, 1980, 1984, 1988, 1992, 1996, 2000, 2004, 2008, 2012, 2016, 2020] #19\n",
    "years = [1992, 1996, 2000, 2004, 2008, 2012, 2016, 2020] # 8\n",
    "\n",
    "# Labels des pays\n",
    "countries = data_pop[11][\"country\"].values\n",
    "\n",
    "data_medals = pd.read_csv(\"./second_part_countries_cleaned_no_normalized.csv\")\n",
    "data_medals = data_medals.T\n",
    "data_medals.columns = years\n",
    "data_medals['country'] = data_medals.index\n",
    "data_medals.reset_index(drop=True, inplace=True)\n",
    "data_medals = data_medals.drop(data_medals.index[-1])\n",
    "# Réorganiser le DataFrame : passer les années en une seule colonne 'year'\n",
    "data_medals_long = pd.melt(data_medals, id_vars=['country'], var_name='year', value_name='medals')\n",
    "\n",
    "# Changer le nom de la colonne 2021(JO-2020) par 2020\n",
    "data_pop[18] = data_pop[18].rename(columns={\"2021(JO-2020)\": \"2020\"})\n",
    "data_fertility[18] = data_fertility[18].rename(columns={\"2021(JO-2020)\": \"2020\"})\n",
    "data_child[18] = data_child[18].rename(columns={\"2021(JO-2020)\": \"2020\"})\n",
    "data_capita[18] = data_capita[18].rename(columns={\"2021(JO-2020)\": \"2020\"})\n",
    "\n",
    "# Préparation des données pour les classes en 3 classes pour le score de médailles\n",
    "label_class_3 = pd.read_csv(\"labels_class_3_class.csv\")\n",
    "label_class_3 = label_class_3.T\n",
    "label_class_3 .columns = years\n",
    "label_class_3['country'] = label_class_3.index\n",
    "label_class_3.reset_index(drop=True, inplace=True)\n",
    "label_class_3 = label_class_3.drop(label_class_3.index[-1])\n",
    "\n",
    "# Réorganiser le DataFrame : passer les années en une seule colonne 'year'\n",
    "label_class_3_long = pd.melt(label_class_3, id_vars=['country'], var_name='year', value_name='class')\n",
    "\n",
    "\n",
    "# Initialiser une liste pour stocker toutes les années de données combinées\n",
    "final_data = []\n",
    "\n",
    "# Parcourir chaque année pour combiner les données\n",
    "for i, year in enumerate(years):\n",
    "\n",
    "    j = i + 11 # 1992 est le 11ème élément de la liste des années jusqu'à 2020\n",
    "\n",
    "    # Vérifier si l'année existe dans les colonnes des DataFrames\n",
    "    year_str = str(year)  # Utiliser le format chaîne pour être sûr\n",
    "    \n",
    "    if year_str not in data_pop[j].columns:\n",
    "        print(f\"⚠️ L'année {year} n'existe pas dans le DataFrame data_pop[{j}]. Colonnes disponibles : {data_pop[j].columns}\")\n",
    "        continue\n",
    "\n",
    "    # Récupérer les colonnes pertinentes pour chaque dataset\n",
    "    pop_df = data_pop[j][[\"country\", year_str]].rename(columns={year_str: \"pop\"})\n",
    "    fertility_df = data_fertility[j][[\"country\", year_str]].rename(columns={year_str: \"fertility\"})\n",
    "    child_df = data_child[j][[\"country\", year_str]].rename(columns={year_str: \"child\"})\n",
    "    capita_df = data_capita[j][[\"country\", year_str]].rename(columns={year_str: \"capita\"})\n",
    "\n",
    "    # Joindre les DataFrames sur \"country\"\n",
    "    merged_df = pd.DataFrame({\"country\": countries})\n",
    "    merged_df = merged_df.merge(pop_df, on=\"country\", how=\"left\")\n",
    "    merged_df = merged_df.merge(fertility_df, on=\"country\", how=\"left\")\n",
    "    merged_df = merged_df.merge(child_df, on=\"country\", how=\"left\")\n",
    "    merged_df = merged_df.merge(capita_df, on=\"country\", how=\"left\")\n",
    "\n",
    "    # Ajouter l'année dans le DataFrame\n",
    "    merged_df[\"year\"] = year\n",
    "\n",
    "    # Réordonner les colonnes pour mettre \"year\" avant \"country\"\n",
    "    cols = [\"year\"] + [col for col in merged_df.columns if col != \"year\"]\n",
    "    merged_df = merged_df[cols]\n",
    "\n",
    "    # Ajouter les données climatiques (fixes pour chaque pays)\n",
    "    merged_df = merged_df.merge(data_climat, on=\"country\", how=\"left\")\n",
    "\n",
    "    # Ajouter au DataFrame final\n",
    "    final_data.append(merged_df)\n",
    "\n",
    "# Concaténer toutes les années en un seul DataFrame\n",
    "final_df = pd.concat(final_data, ignore_index=True)\n",
    "\n",
    "# Rajouter les médailles\n",
    "final_df[\"score\"] = data_medals_long[\"medals\"]\n",
    "\n",
    "# Rajouter les classes pour score\n",
    "final_df[\"class\"] = label_class_3_long[\"class\"]\n",
    "\n",
    "# Remplir les valeurs manquantes par 0 pour éviter les NaN dans t-SNE\n",
    "final_df = final_df.fillna(0)\n",
    "\n",
    "# Afficher un aperçu\n",
    "print(final_df.head())\n",
    "\n",
    "# Créer un array numpy pour t-SNE avec les colonnes pertinentes\n",
    "X = final_df[['pop', 'fertility', 'child', 'capita', 'Avg_Temperature', 'Avg_Precipitation', 'Avg_Seasonality', 'Avg_Aridity']].values\n",
    "y_regression = final_df['score'].values  # Score de médailles pour régression\n",
    "y_classification = final_df['class'].values  # Score de médailles pour classification\n",
    "countries_name = final_df['country'].values  # Noms des pays pour annotations"
   ]
  },
  {
   "cell_type": "markdown",
   "metadata": {},
   "source": [
    "## F-Test"
   ]
  },
  {
   "cell_type": "markdown",
   "metadata": {},
   "source": [
    "Le F-test pour la sélection de variables (feature selection) est une méthode statistique utilisée pour déterminer si des variables explicatives (features) sont significativement liées à la variable cible dans des tâches supervisées, notamment la régression ou la classification."
   ]
  },
  {
   "cell_type": "markdown",
   "metadata": {},
   "source": [
    "## Pour la régression"
   ]
  },
  {
   "cell_type": "code",
   "execution_count": 11,
   "metadata": {},
   "outputs": [
    {
     "name": "stdout",
     "output_type": "stream",
     "text": [
      "F-Test pour la Régression :\n",
      "             Feature     F-Score       P-Value\n",
      "1          fertility  205.113741  6.563531e-43\n",
      "0                pop  148.739592  3.004949e-32\n",
      "3             capita  147.518403  5.177608e-32\n",
      "2              child  142.810974  4.238449e-31\n",
      "4    Avg_Temperature  106.669455  5.742112e-24\n",
      "5  Avg_Precipitation   34.361138  5.984948e-09\n",
      "6    Avg_Seasonality   17.662199  2.843989e-05\n",
      "7        Avg_Aridity    0.093634  7.596623e-01\n"
     ]
    }
   ],
   "source": [
    "# Application du F-test pour la régression\n",
    "f_scores_regression, p_values_regression = f_regression(X, y_regression)\n",
    "\n",
    "# Création d'un DataFrame pour visualiser les scores et p-values\n",
    "features = ['pop', 'fertility', 'child', 'capita', 'Avg_Temperature', 'Avg_Precipitation', 'Avg_Seasonality', 'Avg_Aridity']\n",
    "f_test_results_regression = pd.DataFrame({\n",
    "    'Feature': features,\n",
    "    'F-Score': f_scores_regression,\n",
    "    'P-Value': p_values_regression,\n",
    "})\n",
    "\n",
    "# Trier par F-Score pour voir les plus significatives\n",
    "f_test_results_regression = f_test_results_regression.sort_values(by='F-Score', ascending=False)\n",
    "print(\"F-Test pour la Régression :\")\n",
    "print(f_test_results_regression)"
   ]
  },
  {
   "cell_type": "markdown",
   "metadata": {},
   "source": [
    "## Pour la classification"
   ]
  },
  {
   "cell_type": "code",
   "execution_count": 12,
   "metadata": {},
   "outputs": [
    {
     "name": "stdout",
     "output_type": "stream",
     "text": [
      "\n",
      "F-Test pour la Classification :\n",
      "             Feature    F-Score       P-Value\n",
      "1          fertility  80.086045  2.841133e-33\n",
      "2              child  53.493904  6.215268e-23\n",
      "3             capita  52.116829  2.192047e-22\n",
      "0                pop  42.979266  1.009278e-18\n",
      "4    Avg_Temperature  30.655487  1.076142e-13\n",
      "5  Avg_Precipitation   9.208776  1.077987e-04\n",
      "6    Avg_Seasonality   4.218362  1.495301e-02\n",
      "7        Avg_Aridity   0.385406  6.802626e-01\n"
     ]
    }
   ],
   "source": [
    "# Application du F-test pour la classification\n",
    "f_scores_classification, p_values_classification = f_classif(X, y_classification)\n",
    "\n",
    "# Création d'un DataFrame pour visualiser les scores et p-values\n",
    "f_test_results_classification = pd.DataFrame({\n",
    "    'Feature': features,\n",
    "    'F-Score': f_scores_classification,\n",
    "    'P-Value': p_values_classification\n",
    "})\n",
    "\n",
    "# Trier par F-Score pour voir les plus significatives\n",
    "f_test_results_classification = f_test_results_classification.sort_values(by='F-Score', ascending=False)\n",
    "print(\"\\nF-Test pour la Classification :\")\n",
    "print(f_test_results_classification)"
   ]
  },
  {
   "cell_type": "markdown",
   "metadata": {},
   "source": [
    "## Mutual Information"
   ]
  },
  {
   "cell_type": "markdown",
   "metadata": {},
   "source": [
    "L'information mutuelle (MI) est une mesure issue de la théorie de l'information qui quantifie la dépendance entre deux variables aléatoires. En feature selection (sélection de variables), l'information mutuelle permet d'évaluer combien une variable explicative \n",
    "𝑋\n",
    "X réduit l'incertitude sur la variable cible \n",
    "𝑌\n",
    "Y. Contrairement au F-test, l'information mutuelle détecte aussi bien les relations linéaires que non linéaires."
   ]
  },
  {
   "cell_type": "markdown",
   "metadata": {},
   "source": [
    "## Pour la régression"
   ]
  },
  {
   "cell_type": "code",
   "execution_count": 13,
   "metadata": {},
   "outputs": [
    {
     "name": "stdout",
     "output_type": "stream",
     "text": [
      "Information Mutuelle pour la Régression :\n",
      "             Feature  MI-Score\n",
      "4    Avg_Temperature  0.418123\n",
      "6    Avg_Seasonality  0.397034\n",
      "5  Avg_Precipitation  0.377275\n",
      "7        Avg_Aridity  0.373886\n",
      "1          fertility  0.325647\n",
      "0                pop  0.294987\n",
      "2              child  0.287947\n",
      "3             capita  0.242650\n"
     ]
    }
   ],
   "source": [
    "# Application de l'information mutuelle pour la régression\n",
    "mi_scores_regression = mutual_info_regression(X, y_regression)\n",
    "\n",
    "# Création d'un DataFrame pour visualiser les scores MI\n",
    "mi_results_regression = pd.DataFrame({\n",
    "    'Feature': features,\n",
    "    'MI-Score': mi_scores_regression\n",
    "})\n",
    "\n",
    "# Trier par MI-Score pour voir les plus informatives\n",
    "mi_results_regression = mi_results_regression.sort_values(by='MI-Score', ascending=False)\n",
    "print(\"Information Mutuelle pour la Régression :\")\n",
    "print(mi_results_regression)"
   ]
  },
  {
   "cell_type": "markdown",
   "metadata": {},
   "source": [
    "## Pour la classification"
   ]
  },
  {
   "cell_type": "code",
   "execution_count": 14,
   "metadata": {},
   "outputs": [
    {
     "name": "stdout",
     "output_type": "stream",
     "text": [
      "\n",
      "Information Mutuelle pour la Classification :\n",
      "             Feature  MI-Score\n",
      "5  Avg_Precipitation  0.200327\n",
      "6    Avg_Seasonality  0.192193\n",
      "4    Avg_Temperature  0.180176\n",
      "0                pop  0.179098\n",
      "7        Avg_Aridity  0.167591\n",
      "1          fertility  0.127430\n",
      "2              child  0.126643\n",
      "3             capita  0.113089\n"
     ]
    }
   ],
   "source": [
    "# Application de l'information mutuelle pour la classification\n",
    "mi_scores_classification = mutual_info_classif(X, y_classification)\n",
    "\n",
    "# Création d'un DataFrame pour visualiser les scores MI\n",
    "mi_results_classification = pd.DataFrame({\n",
    "    'Feature': features,\n",
    "    'MI-Score': mi_scores_classification\n",
    "})\n",
    "\n",
    "# Trier par MI-Score pour voir les plus informatives\n",
    "mi_results_classification = mi_results_classification.sort_values(by='MI-Score', ascending=False)\n",
    "print(\"\\nInformation Mutuelle pour la Classification :\")\n",
    "print(mi_results_classification)\n"
   ]
  },
  {
   "cell_type": "markdown",
   "metadata": {},
   "source": [
    "## Comparaison"
   ]
  },
  {
   "cell_type": "code",
   "execution_count": 15,
   "metadata": {},
   "outputs": [
    {
     "name": "stdout",
     "output_type": "stream",
     "text": [
      "\n",
      "Comparaison F-Score et MI-Score (Régression) :\n",
      "             Feature     F-Score       P-Value  MI-Score\n",
      "0          fertility  205.113741  6.563531e-43  0.325647\n",
      "1                pop  148.739592  3.004949e-32  0.294987\n",
      "2             capita  147.518403  5.177608e-32  0.242650\n",
      "3              child  142.810974  4.238449e-31  0.287947\n",
      "4    Avg_Temperature  106.669455  5.742112e-24  0.418123\n",
      "5  Avg_Precipitation   34.361138  5.984948e-09  0.377275\n",
      "6    Avg_Seasonality   17.662199  2.843989e-05  0.397034\n",
      "7        Avg_Aridity    0.093634  7.596623e-01  0.373886\n",
      "\n",
      "Comparaison F-Score et MI-Score (Classification) :\n",
      "             Feature    F-Score       P-Value  MI-Score\n",
      "0          fertility  80.086045  2.841133e-33  0.127430\n",
      "1              child  53.493904  6.215268e-23  0.126643\n",
      "2             capita  52.116829  2.192047e-22  0.113089\n",
      "3                pop  42.979266  1.009278e-18  0.179098\n",
      "4    Avg_Temperature  30.655487  1.076142e-13  0.180176\n",
      "5  Avg_Precipitation   9.208776  1.077987e-04  0.200327\n",
      "6    Avg_Seasonality   4.218362  1.495301e-02  0.192193\n",
      "7        Avg_Aridity   0.385406  6.802626e-01  0.167591\n"
     ]
    }
   ],
   "source": [
    "# Comparaison pour la régression\n",
    "comparison_regression = pd.merge(f_test_results_regression, mi_results_regression, on='Feature')\n",
    "print(\"\\nComparaison F-Score et MI-Score (Régression) :\")\n",
    "print(comparison_regression)\n",
    "\n",
    "# Comparaison pour la classification\n",
    "comparison_classification = pd.merge(f_test_results_classification, mi_results_classification, on='Feature')\n",
    "print(\"\\nComparaison F-Score et MI-Score (Classification) :\")\n",
    "print(comparison_classification)\n"
   ]
  },
  {
   "cell_type": "markdown",
   "metadata": {},
   "source": [
    "### Explication des scores :\n",
    "**F-Score :** mesure la relation linéaire entre les variables explicatives et la cible.\n",
    "\n",
    "**MI-Score :** mesure la dépendance (linéaire et non linéaire) entre les variables explicatives et la cible."
   ]
  },
  {
   "cell_type": "markdown",
   "metadata": {},
   "source": [
    "### **Analyse des résultats :**\n",
    "\n",
    "Voici une analyse des résultats pour la **régression** et la **classification**.\n",
    "\n",
    "---\n",
    "\n",
    "### **1. Régression :**\n",
    "\n",
    "| **Feature**        | **F-Score** | **MI-Score** | **Interprétation**                                   |\n",
    "|--------------------|-------------|-------------|-----------------------------------------------------|\n",
    "| **fertility**       | 205.11      | 0.33        | Très significative avec un bon MI-score.             |\n",
    "| **pop**             | 148.74      | 0.29        | Forte relation linéaire et non linéaire.             |\n",
    "| **capita**          | 147.52      | 0.24        | Significative mais légèrement plus faible en MI.     |\n",
    "| **child**           | 142.81      | 0.29        | Indique une corrélation importante et non linéaire.  |\n",
    "| **Avg_Temperature** | 106.67      | 0.42        | Relation non linéaire forte : le MI-score est élevé. |\n",
    "| **Avg_Precipitation** | 34.36     | 0.38        | Relation moins linéaire, mais significative en MI.   |\n",
    "| **Avg_Seasonality** | 17.66       | 0.40        | Relation non linéaire claire malgré un faible F-Score. |\n",
    "| **Avg_Aridity**     | 0.09        | 0.37        | Le F-test la juge insignifiante, mais MI montre une contribution. |\n",
    "\n",
    "#### **Observation globale :**\n",
    "- Les variables comme **Avg_Temperature**, **Avg_Seasonality**, et **Avg_Aridity** ont des **F-Scores faibles** mais des **MI-Scores élevés**, indiquant des **relations non linéaires** avec la variable cible.\n",
    "- La variable **fertility** est significative dans les deux méthodes.\n",
    "\n",
    "---\n",
    "\n",
    "### **2. Classification :**\n",
    "\n",
    "| **Feature**        | **F-Score** | **MI-Score** | **Interprétation**                                   |\n",
    "|--------------------|-------------|-------------|-----------------------------------------------------|\n",
    "| **fertility**       | 80.09       | 0.13        | Très significative linéaire, mais MI-score modéré.   |\n",
    "| **child**           | 53.49       | 0.13        | Bonne dépendance linéaire et non linéaire.           |\n",
    "| **capita**          | 52.11       | 0.11        | Significative dans les deux cas, mais faible en MI.  |\n",
    "| **pop**             | 42.98       | 0.18        | Contribution plus forte en MI qu’en F-score.         |\n",
    "| **Avg_Temperature** | 30.66       | 0.18        | Relation non linéaire, reflétée dans un MI-score plus élevé. |\n",
    "| **Avg_Precipitation** | 9.20      | 0.20        | Peu linéaire (F-score faible) mais forte dépendance globale. |\n",
    "| **Avg_Seasonality** | 4.21        | 0.19        | Contribution principalement non linéaire.            |\n",
    "| **Avg_Aridity**     | 0.39        | 0.17        | Le F-score est insignifiant, mais MI montre une relation. |\n",
    "\n",
    "#### **Observation globale :**\n",
    "- Les variables comme **Avg_Temperature**, **Avg_Precipitation**, et **Avg_Seasonality** sont clairement **non linéaires** dans leur relation avec la classe des médailles.\n",
    "- La variable **fertility** reste une variable-clé dans les deux cas.\n",
    "\n",
    "---\n",
    "\n",
    "### **Comparaison globale F-Test vs Information Mutuelle :**\n",
    "\n",
    "| **Points clés**     | **F-Test**                             | **Information Mutuelle**                    |\n",
    "|--------------------|----------------------------------------|---------------------------------------------|\n",
    "| **Type de relation**| Détecte uniquement les relations linéaires. | Détecte les relations linéaires et non linéaires. |\n",
    "| **Variables influentes** | Forte influence de **fertility**, **capita** | Influence non linéaire des variables climatiques. |\n",
    "| **Faibles contributeurs** | **Avg_Aridity** ignorée par le F-test. | **Avg_Aridity** montre une contribution modérée. |\n",
    "\n",
    "---\n",
    "\n",
    "### **Recommandation :**\n",
    "- Inclure **Avg_Temperature**, **Avg_Precipitation**, et **Avg_Seasonality** dans le modèle, car elles présentent des **dépendances non linéaires** avec la cible.\n",
    "- Nous pouvons ignorer les variables avec un **MI-Score très faible** (< 0.1).\n",
    "\n",
    "---\n",
    "\n",
    "Ces résultats montrent l'intérêt de combiner plusieurs approches de sélection pour capturer à la fois les relations linéaires et non linéaires des données.\n",
    "\n"
   ]
  }
 ],
 "metadata": {
  "kernelspec": {
   "display_name": "pcd",
   "language": "python",
   "name": "python3"
  },
  "language_info": {
   "codemirror_mode": {
    "name": "ipython",
    "version": 3
   },
   "file_extension": ".py",
   "mimetype": "text/x-python",
   "name": "python",
   "nbconvert_exporter": "python",
   "pygments_lexer": "ipython3",
   "version": "3.11.9"
  }
 },
 "nbformat": 4,
 "nbformat_minor": 2
}
