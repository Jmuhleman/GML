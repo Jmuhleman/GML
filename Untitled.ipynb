{
 "cells": [
  {
   "cell_type": "code",
   "execution_count": 195,
   "id": "6d5106f6-d631-4748-9b64-c7942bf1a5b9",
   "metadata": {},
   "outputs": [],
   "source": [
    "import pandas as pd\n",
    "\n",
    "df = pd.read_csv('archive/olympic_results.csv')"
   ]
  },
  {
   "cell_type": "code",
   "execution_count": 196,
   "id": "47420ad3-8a29-4741-80c9-0225ccc33553",
   "metadata": {},
   "outputs": [
    {
     "data": {
      "text/plain": [
       "array(['beijing-2022', 'tokyo-2020', 'pyeongchang-2018', 'rio-2016',\n",
       "       'sochi-2014', 'london-2012', 'vancouver-2010', 'beijing-2008',\n",
       "       'turin-2006', 'athens-2004', 'salt-lake-city-2002', 'sydney-2000',\n",
       "       'nagano-1998', 'atlanta-1996', 'lillehammer-1994',\n",
       "       'barcelona-1992', 'albertville-1992', 'seoul-1988', 'calgary-1988',\n",
       "       'los-angeles-1984', 'sarajevo-1984', 'moscow-1980',\n",
       "       'lake-placid-1980', 'montreal-1976', 'innsbruck-1976',\n",
       "       'munich-1972', 'sapporo-1972', 'mexico-city-1968', 'grenoble-1968',\n",
       "       'tokyo-1964', 'innsbruck-1964', 'rome-1960', 'squaw-valley-1960',\n",
       "       'melbourne-1956', 'cortina-d-ampezzo-1956', 'helsinki-1952',\n",
       "       'oslo-1952', 'london-1948', 'st-moritz-1948', 'berlin-1936',\n",
       "       'garmisch-partenkirchen-1936', 'los-angeles-1932',\n",
       "       'lake-placid-1932', 'amsterdam-1928', 'st-moritz-1928',\n",
       "       'paris-1924', 'chamonix-1924', 'antwerp-1920', 'stockholm-1912',\n",
       "       'london-1908', 'st-louis-1904', 'paris-1900', 'athens-1896'],\n",
       "      dtype=object)"
      ]
     },
     "execution_count": 196,
     "metadata": {},
     "output_type": "execute_result"
    }
   ],
   "source": [
    "df['slug_game'].unique()"
   ]
  },
  {
   "cell_type": "code",
   "execution_count": 197,
   "id": "546b6781-8620-4a34-80c8-87511320125d",
   "metadata": {},
   "outputs": [
    {
     "data": {
      "text/plain": [
       "array(['tokyo-2020', 'rio-2016', 'london-2012', 'beijing-2008',\n",
       "       'athens-2004', 'sydney-2000', 'atlanta-1996', 'barcelona-1992',\n",
       "       'seoul-1988', 'los-angeles-1984', 'moscow-1980', 'montreal-1976',\n",
       "       'munich-1972', 'mexico-city-1968', 'tokyo-1964', 'rome-1960',\n",
       "       'melbourne-1956', 'helsinki-1952', 'london-1948'], dtype=object)"
      ]
     },
     "execution_count": 197,
     "metadata": {},
     "output_type": "execute_result"
    }
   ],
   "source": [
    "# éditions d'été de 1948 à 2020\n",
    "game_slugs = [\n",
    "    'tokyo-2020',  'rio-2016',\n",
    "    'london-2012', 'beijing-2008',\n",
    "    'athens-2004', 'sydney-2000', 'atlanta-1996',\n",
    "    'barcelona-1992', 'seoul-1988',\n",
    "    'los-angeles-1984',  'moscow-1980', 'montreal-1976',\n",
    "    'munich-1972', 'mexico-city-1968',\n",
    "    'tokyo-1964', 'rome-1960',\n",
    "    'melbourne-1956', 'helsinki-1952','london-1948'\n",
    "]\n",
    "\n",
    "df = df[df['slug_game'].apply(lambda x: x in game_slugs)]\n",
    "\n",
    "df['slug_game'].unique()"
   ]
  },
  {
   "cell_type": "code",
   "execution_count": 198,
   "id": "fcaa205b-f6ed-4ebe-931a-7a0d503a10ac",
   "metadata": {},
   "outputs": [],
   "source": [
    "# sports continus de 1948 à 1988\n",
    "sports_summer_before = ['Shooting', 'Diving', 'Canoe Sprint', 'Cycling Road', 'Football',\n",
    "                 'Boxing', 'Basketball', 'Cycling Track', 'Fencing',\n",
    "                 'Water Polo', 'Wrestling', 'Artistic Gymnastics',\n",
    "                 'Weightlifting', 'Modern Pentathlon', 'Hockey'\n",
    "                 'Athletics', 'Swimming', 'Sailing', 'Rowing']\n",
    "\n",
    "# éditions de 1948 à 1988\n",
    "editions_to_1988 = ['seoul-1988',\n",
    "    'los-angeles-1984',  'moscow-1980', 'montreal-1976',\n",
    "    'munich-1972', 'mexico-city-1968',\n",
    "    'tokyo-1964', 'rome-1960',\n",
    "    'melbourne-1956', 'helsinki-1952','london-1948'\n",
    "]\n",
    "\n",
    "\n",
    "df_summer_before_1988 = df[df['discipline_title'].apply(lambda x: x in sports_summer_before)]\n",
    "df_summer_before_1988 = df_summer_before_1988[df_summer_before_1988['slug_game'].apply(lambda x: x in editions_to_1988)]\n"
   ]
  },
  {
   "cell_type": "code",
   "execution_count": 199,
   "id": "9ef27e6e-2c11-4379-886d-0256145d7c08",
   "metadata": {},
   "outputs": [],
   "source": [
    "# sports continus de 1992 à 2020\n",
    "sports_summer_after = ['Shooting', 'Diving', 'Canoe Sprint', 'Cycling Road', 'Football',\n",
    "                 'Boxing', 'Basketball', 'Cycling Track', 'Fencing', 'Table Tennis', 'Badminton',\n",
    "                 'Water Polo', 'Wrestling', 'Artistic Gymnastics', 'Canoe Slalom', 'Rhythmic Gymnastics',\n",
    "                 'Weightlifting', 'Modern Pentathlon', 'Hockey', 'Volleyball', 'Artistic Swimming', \n",
    "                 'Athletics', 'Swimming', 'Sailing', 'Rowing', 'Tennis', 'Equestrian', 'Archery', 'Handball', 'Judo']\n",
    "\n",
    "# éditions de 1992 à 2020\n",
    "editions_after_1988 = ['tokyo-2020',  'rio-2016',\n",
    "    'london-2012', 'beijing-2008',\n",
    "    'athens-2004', 'sydney-2000', 'atlanta-1996',\n",
    "    'barcelona-1992']\n",
    "\n",
    "\n",
    "df_summer_after_1988 = df[df['discipline_title'].apply(lambda x: x in sports_summer_after)]\n",
    "df_summer_after_1988 = df_summer_after_1988[df_summer_after_1988['slug_game'].apply(lambda x: x in editions_after_1988)]"
   ]
  },
  {
   "cell_type": "code",
   "execution_count": null,
   "metadata": {},
   "outputs": [],
   "source": []
  },
  {
   "cell_type": "code",
   "execution_count": 200,
   "id": "19757763-ac17-4894-b65e-64ddf399487f",
   "metadata": {},
   "outputs": [
    {
     "name": "stderr",
     "output_type": "stream",
     "text": [
      "C:\\Users\\Julien\\AppData\\Local\\Temp\\ipykernel_10160\\657590650.py:4: SettingWithCopyWarning: \n",
      "A value is trying to be set on a copy of a slice from a DataFrame.\n",
      "Try using .loc[row_indexer,col_indexer] = value instead\n",
      "\n",
      "See the caveats in the documentation: https://pandas.pydata.org/pandas-docs/stable/user_guide/indexing.html#returning-a-view-versus-a-copy\n",
      "  df_cl['rank_position'] = df_cl['rank_position'].astype(int)\n",
      "C:\\Users\\Julien\\AppData\\Local\\Temp\\ipykernel_10160\\657590650.py:4: SettingWithCopyWarning: \n",
      "A value is trying to be set on a copy of a slice from a DataFrame.\n",
      "Try using .loc[row_indexer,col_indexer] = value instead\n",
      "\n",
      "See the caveats in the documentation: https://pandas.pydata.org/pandas-docs/stable/user_guide/indexing.html#returning-a-view-versus-a-copy\n",
      "  df_cl['rank_position'] = df_cl['rank_position'].astype(int)\n"
     ]
    }
   ],
   "source": [
    "def extract_10_first(df):\n",
    "    df['rank_position'] = pd.to_numeric(df['rank_position'], errors='coerce')\n",
    "    df_cl = df.dropna(subset=['rank_position'])\n",
    "    df_cl['rank_position'] = df_cl['rank_position'].astype(int)\n",
    "    df_cl = df_cl[df_cl['rank_position'] <= 10]\n",
    "    return df_cl\n",
    "\n",
    "\n",
    "\n",
    "filtered_df = extract_10_first(df_summer_after_1988)\n",
    "df_after = filtered_df.groupby(by=['discipline_title', 'country_name', 'slug_game']).count()\n",
    "\n",
    "\n",
    "\n",
    "filtered_df_before = extract_10_first(df_summer_before_1988)\n",
    "df_before = filtered_df_before.groupby(by=['discipline_title', 'country_name', 'slug_game']).count()\n"
   ]
  },
  {
   "cell_type": "code",
   "execution_count": 201,
   "metadata": {},
   "outputs": [],
   "source": [
    "df_clean_after = df_after['rank_position']\n",
    "df_clean_after.to_csv('data_rank.csv')\n",
    "\n",
    "\n",
    "df_clean_before = df_before['rank_position']\n",
    "df_clean_before.to_csv('data_rank_before.csv')\n"
   ]
  },
  {
   "cell_type": "code",
   "execution_count": 202,
   "metadata": {},
   "outputs": [
    {
     "data": {
      "text/plain": [
       "array(['Fencing', 'Canoe Sprint', 'Rowing', 'Basketball', 'Football',\n",
       "       'Cycling Road', 'Modern Pentathlon', 'Cycling Track',\n",
       "       'Weightlifting', 'Boxing', 'Diving', 'Swimming', 'Sailing',\n",
       "       'Shooting', 'Wrestling', 'Water Polo'], dtype=object)"
      ]
     },
     "execution_count": 202,
     "metadata": {},
     "output_type": "execute_result"
    }
   ],
   "source": [
    "filtered_df_before['discipline_title'].unique()"
   ]
  },
  {
   "cell_type": "code",
   "execution_count": 203,
   "id": "b369e114-32e3-472f-bd9e-ff766bf56f76",
   "metadata": {},
   "outputs": [
    {
     "ename": "KeyError",
     "evalue": "'column'",
     "output_type": "error",
     "traceback": [
      "\u001b[1;31m---------------------------------------------------------------------------\u001b[0m",
      "\u001b[1;31mKeyError\u001b[0m                                  Traceback (most recent call last)",
      "File \u001b[1;32mc:\\Users\\Julien\\miniconda3\\envs\\PCD\\Lib\\site-packages\\pandas\\core\\indexes\\base.py:3805\u001b[0m, in \u001b[0;36mIndex.get_loc\u001b[1;34m(self, key)\u001b[0m\n\u001b[0;32m   3804\u001b[0m \u001b[38;5;28;01mtry\u001b[39;00m:\n\u001b[1;32m-> 3805\u001b[0m     \u001b[38;5;28;01mreturn\u001b[39;00m \u001b[38;5;28mself\u001b[39m\u001b[38;5;241m.\u001b[39m_engine\u001b[38;5;241m.\u001b[39mget_loc(casted_key)\n\u001b[0;32m   3806\u001b[0m \u001b[38;5;28;01mexcept\u001b[39;00m \u001b[38;5;167;01mKeyError\u001b[39;00m \u001b[38;5;28;01mas\u001b[39;00m err:\n",
      "File \u001b[1;32mindex.pyx:167\u001b[0m, in \u001b[0;36mpandas._libs.index.IndexEngine.get_loc\u001b[1;34m()\u001b[0m\n",
      "File \u001b[1;32mindex.pyx:196\u001b[0m, in \u001b[0;36mpandas._libs.index.IndexEngine.get_loc\u001b[1;34m()\u001b[0m\n",
      "File \u001b[1;32mpandas\\\\_libs\\\\hashtable_class_helper.pxi:7081\u001b[0m, in \u001b[0;36mpandas._libs.hashtable.PyObjectHashTable.get_item\u001b[1;34m()\u001b[0m\n",
      "File \u001b[1;32mpandas\\\\_libs\\\\hashtable_class_helper.pxi:7089\u001b[0m, in \u001b[0;36mpandas._libs.hashtable.PyObjectHashTable.get_item\u001b[1;34m()\u001b[0m\n",
      "\u001b[1;31mKeyError\u001b[0m: 'column'",
      "\nThe above exception was the direct cause of the following exception:\n",
      "\u001b[1;31mKeyError\u001b[0m                                  Traceback (most recent call last)",
      "Cell \u001b[1;32mIn[203], line 7\u001b[0m\n\u001b[0;32m      4\u001b[0m no_string \u001b[38;5;241m=\u001b[39m [\u001b[38;5;124m'\u001b[39m\u001b[38;5;124mnan\u001b[39m\u001b[38;5;124m'\u001b[39m, \u001b[38;5;124m'\u001b[39m\u001b[38;5;124mDSQ\u001b[39m\u001b[38;5;124m'\u001b[39m, \u001b[38;5;124m'\u001b[39m\u001b[38;5;124mDQB\u001b[39m\u001b[38;5;124m'\u001b[39m, \u001b[38;5;124m'\u001b[39m\u001b[38;5;124mDNF\u001b[39m\u001b[38;5;124m'\u001b[39m]\n\u001b[0;32m      6\u001b[0m \u001b[38;5;66;03m# Filtrer le DataFrame\u001b[39;00m\n\u001b[1;32m----> 7\u001b[0m df_filtered \u001b[38;5;241m=\u001b[39m df_summer_after_1988[\u001b[38;5;241m~\u001b[39mdf_summer_after_1988[\u001b[38;5;124m'\u001b[39m\u001b[38;5;124mcolumn\u001b[39m\u001b[38;5;124m'\u001b[39m]\u001b[38;5;241m.\u001b[39misin(no_string)]\n\u001b[0;32m      9\u001b[0m \u001b[38;5;66;03m# Optionnel : Si vous souhaitez également retirer les valeurs NaN\u001b[39;00m\n\u001b[0;32m     10\u001b[0m df_filtered \u001b[38;5;241m=\u001b[39m df_filtered\u001b[38;5;241m.\u001b[39mreplace(\u001b[38;5;124m'\u001b[39m\u001b[38;5;124mnan\u001b[39m\u001b[38;5;124m'\u001b[39m, np\u001b[38;5;241m.\u001b[39mnan)\u001b[38;5;241m.\u001b[39mdropna(subset\u001b[38;5;241m=\u001b[39m[\u001b[38;5;124m'\u001b[39m\u001b[38;5;124mcolumn\u001b[39m\u001b[38;5;124m'\u001b[39m])\n",
      "File \u001b[1;32mc:\\Users\\Julien\\miniconda3\\envs\\PCD\\Lib\\site-packages\\pandas\\core\\frame.py:4102\u001b[0m, in \u001b[0;36mDataFrame.__getitem__\u001b[1;34m(self, key)\u001b[0m\n\u001b[0;32m   4100\u001b[0m \u001b[38;5;28;01mif\u001b[39;00m \u001b[38;5;28mself\u001b[39m\u001b[38;5;241m.\u001b[39mcolumns\u001b[38;5;241m.\u001b[39mnlevels \u001b[38;5;241m>\u001b[39m \u001b[38;5;241m1\u001b[39m:\n\u001b[0;32m   4101\u001b[0m     \u001b[38;5;28;01mreturn\u001b[39;00m \u001b[38;5;28mself\u001b[39m\u001b[38;5;241m.\u001b[39m_getitem_multilevel(key)\n\u001b[1;32m-> 4102\u001b[0m indexer \u001b[38;5;241m=\u001b[39m \u001b[38;5;28mself\u001b[39m\u001b[38;5;241m.\u001b[39mcolumns\u001b[38;5;241m.\u001b[39mget_loc(key)\n\u001b[0;32m   4103\u001b[0m \u001b[38;5;28;01mif\u001b[39;00m is_integer(indexer):\n\u001b[0;32m   4104\u001b[0m     indexer \u001b[38;5;241m=\u001b[39m [indexer]\n",
      "File \u001b[1;32mc:\\Users\\Julien\\miniconda3\\envs\\PCD\\Lib\\site-packages\\pandas\\core\\indexes\\base.py:3812\u001b[0m, in \u001b[0;36mIndex.get_loc\u001b[1;34m(self, key)\u001b[0m\n\u001b[0;32m   3807\u001b[0m     \u001b[38;5;28;01mif\u001b[39;00m \u001b[38;5;28misinstance\u001b[39m(casted_key, \u001b[38;5;28mslice\u001b[39m) \u001b[38;5;129;01mor\u001b[39;00m (\n\u001b[0;32m   3808\u001b[0m         \u001b[38;5;28misinstance\u001b[39m(casted_key, abc\u001b[38;5;241m.\u001b[39mIterable)\n\u001b[0;32m   3809\u001b[0m         \u001b[38;5;129;01mand\u001b[39;00m \u001b[38;5;28many\u001b[39m(\u001b[38;5;28misinstance\u001b[39m(x, \u001b[38;5;28mslice\u001b[39m) \u001b[38;5;28;01mfor\u001b[39;00m x \u001b[38;5;129;01min\u001b[39;00m casted_key)\n\u001b[0;32m   3810\u001b[0m     ):\n\u001b[0;32m   3811\u001b[0m         \u001b[38;5;28;01mraise\u001b[39;00m InvalidIndexError(key)\n\u001b[1;32m-> 3812\u001b[0m     \u001b[38;5;28;01mraise\u001b[39;00m \u001b[38;5;167;01mKeyError\u001b[39;00m(key) \u001b[38;5;28;01mfrom\u001b[39;00m \u001b[38;5;21;01merr\u001b[39;00m\n\u001b[0;32m   3813\u001b[0m \u001b[38;5;28;01mexcept\u001b[39;00m \u001b[38;5;167;01mTypeError\u001b[39;00m:\n\u001b[0;32m   3814\u001b[0m     \u001b[38;5;66;03m# If we have a listlike key, _check_indexing_error will raise\u001b[39;00m\n\u001b[0;32m   3815\u001b[0m     \u001b[38;5;66;03m#  InvalidIndexError. Otherwise we fall through and re-raise\u001b[39;00m\n\u001b[0;32m   3816\u001b[0m     \u001b[38;5;66;03m#  the TypeError.\u001b[39;00m\n\u001b[0;32m   3817\u001b[0m     \u001b[38;5;28mself\u001b[39m\u001b[38;5;241m.\u001b[39m_check_indexing_error(key)\n",
      "\u001b[1;31mKeyError\u001b[0m: 'column'"
     ]
    }
   ],
   "source": [
    "#df_summer_after_1988[(df_summer_after_1988['discipline_title'] == 'Shooting') & (df_summer_after_1988['slug_game'] == 'tokyo-2020')].sort_values(by = 'rank_position')\n",
    "# df_summer_after_1988[df_summer_after_1988['discipline_title'] == 'Shooting'].sort_values(by = 'rank_position')\n",
    "\n",
    "no_string = ['nan', 'DSQ', 'DQB', 'DNF']\n",
    "\n",
    "# Filtrer le DataFrame\n",
    "df_filtered = df_summer_after_1988[~df_summer_after_1988['column'].isin(no_string)]\n",
    "\n",
    "# Optionnel : Si vous souhaitez également retirer les valeurs NaN\n",
    "df_filtered = df_filtered.replace('nan', np.nan).dropna(subset=['column'])\n"
   ]
  },
  {
   "cell_type": "code",
   "execution_count": null,
   "id": "767082c0",
   "metadata": {},
   "outputs": [],
   "source": [
    "df_summer_after_1988['rank_position'] = df_summer_after_1988['rank_position'].astype('int')\n",
    "\n",
    "df_top_10_tokyo = df_summer_after_1988[(df_summer_after_1988['slug_game'] == 'tokyo-2020') & (df_summer_after_1988['rank_position'] <= 10)]\n",
    "\n",
    "# Trouver toutes les valeurs uniques de 'event_title' pour chaque 'discipline_title'\n",
    "unique_events_per_discipline = df_tokyo_2020.groupby('discipline_title')['event_title'].unique().reset_index()\n",
    "\n",
    "# Afficher le résultat\n",
    "print(unique_events_per_discipline)"
   ]
  }
 ],
 "metadata": {
  "kernelspec": {
   "display_name": "PCD",
   "language": "python",
   "name": "python3"
  },
  "language_info": {
   "codemirror_mode": {
    "name": "ipython",
    "version": 3
   },
   "file_extension": ".py",
   "mimetype": "text/x-python",
   "name": "python",
   "nbconvert_exporter": "python",
   "pygments_lexer": "ipython3",
   "version": "3.11.7"
  }
 },
 "nbformat": 4,
 "nbformat_minor": 5
}
