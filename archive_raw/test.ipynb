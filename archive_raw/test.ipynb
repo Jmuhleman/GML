{
 "cells": [
  {
   "cell_type": "code",
   "execution_count": 20,
   "metadata": {},
   "outputs": [],
   "source": [
    "import numpy as np\n",
    "import pandas as pd"
   ]
  },
  {
   "cell_type": "code",
   "execution_count": 31,
   "metadata": {},
   "outputs": [],
   "source": [
    "jo        = pd.read_csv('country_names.csv')\n",
    "gapminder = pd.read_csv('countries_names_gapminder.csv')\n",
    "\n",
    "\n",
    "# Ensure the country names are in a single column (assume the column name is 'country_name')\n",
    "# Adjust the column name if necessary\n",
    "jo_countries = set(jo['country_name'])\n",
    "gapminder_countries = set(gapminder['0'])\n",
    "\n",
    "# Find countries that are in `jo` but not in `gapminder`\n",
    "unique_to_jo = jo_countries - gapminder_countries\n",
    "\n",
    "# Find countries that are in `gapminder` but not in `jo`\n",
    "unique_to_gapminder = gapminder_countries - jo_countries\n",
    "\n",
    "# Show the results\n",
    "print(\"Countries unique to jo dataset:\", unique_to_jo)\n",
    "print(\"Countries unique to gapminder dataset:\", unique_to_gapminder)"
   ]
  },
  {
   "cell_type": "code",
   "execution_count": 27,
   "metadata": {},
   "outputs": [],
   "source": [
    "identical_countries = gapminder.equals(jo['country_name'])\n",
    "print(identical_countries)"
   ]
  },
  {
   "cell_type": "code",
   "execution_count": null,
   "metadata": {},
   "outputs": [],
   "source": [
    "#countries_not_in_gapminder = set(jo['country_name']) - set(gapminder['country_name'])\n",
    "print(f'{len(common_countries)}, {len(jo)}, {len(gapminder)}')"
   ]
  },
  {
   "cell_type": "code",
   "execution_count": 16,
   "metadata": {},
   "outputs": [],
   "source": [
    "gapminder.head(10)"
   ]
  },
  {
   "cell_type": "code",
   "execution_count": null,
   "metadata": {},
   "outputs": [],
   "source": []
  }
 ],
 "metadata": {
  "kernelspec": {
   "display_name": "PCD",
   "language": "python",
   "name": "python3"
  },
  "language_info": {
   "codemirror_mode": {
    "name": "ipython",
    "version": 3
   },
   "file_extension": ".py",
   "mimetype": "text/x-python",
   "name": "python",
   "nbconvert_exporter": "python",
   "pygments_lexer": "ipython3",
   "version": "3.11.7"
  }
 },
 "nbformat": 4,
 "nbformat_minor": 2
}
