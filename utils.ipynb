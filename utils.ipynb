{
 "cells": [
  {
   "cell_type": "markdown",
   "metadata": {},
   "source": [
    "## Fonctions normalisation, génération des fichiers, dataset"
   ]
  },
  {
   "cell_type": "code",
   "execution_count": null,
   "metadata": {},
   "outputs": [],
   "source": [
    "import pandas as pd\n",
    "import numpy as np\n",
    "import glob\n",
    "import os\n",
    "from sklearn.preprocessing import MinMaxScaler"
   ]
  },
  {
   "cell_type": "code",
   "execution_count": null,
   "metadata": {},
   "outputs": [],
   "source": [
    "years_to_import = [1948, 1952, 1956, 1960, 1964, 1968, 1972, 1976, 1980, 1984, \n",
    "                   1988, 1992, 1996, 2000, 2004, 2008, 2012, 2016, 2021] # JO de 2020 ont eu lieu en 2021"
   ]
  },
  {
   "cell_type": "code",
   "execution_count": null,
   "metadata": {},
   "outputs": [],
   "source": [
    "years_to_export = [1948, 1952, 1956, 1960, 1964, 1968, 1972, 1976, 1980, 1984, \n",
    "                   1988, 1992, 1996, 2000, 2004, 2008, 2012, 2016, 2020]"
   ]
  },
  {
   "cell_type": "code",
   "execution_count": null,
   "metadata": {},
   "outputs": [],
   "source": [
    "def convert_to_numeric(value):\n",
    "    \"\"\"\n",
    "    Converts strings with 'B', 'M', or 'k' suffixes to numeric values.\n",
    "    \n",
    "    Parameters:\n",
    "    value (str or float): The value to convert.\n",
    "\n",
    "    Returns:\n",
    "    float: The numeric value.\n",
    "    \"\"\"\n",
    "    if isinstance(value, str):\n",
    "        if 'B' in value:\n",
    "            return float(value.replace('B', '')) * 1_000_000_000\n",
    "        elif 'M' in value:\n",
    "            return float(value.replace('M', '')) * 1_000_000\n",
    "        elif 'k' in value:\n",
    "            return float(value.replace('k', '')) * 1_000\n",
    "    return float(value)  # If it's already numeric or doesn't have suffixes"
   ]
  },
  {
   "cell_type": "code",
   "execution_count": null,
   "metadata": {},
   "outputs": [],
   "source": [
    "def normalize_data(data, exclude_columns=[]):\n",
    "    \"\"\"\n",
    "    Normalizes the numeric columns of a dataset to a range between 0 and 1 using Min-Max Scaling.\n",
    "    \n",
    "    Parameters:\n",
    "    data (pd.DataFrame): The dataset to normalize.\n",
    "    exclude_columns (list): List of column names to exclude from normalization (e.g., non-numeric columns).\n",
    "\n",
    "    Returns:\n",
    "    pd.DataFrame: The dataset with normalized numeric columns.\n",
    "    \"\"\"\n",
    "    # Convert columns to numeric if they contain \"B\", \"M\", or \"k\"\n",
    "    for col in data.columns:\n",
    "        if col not in exclude_columns:\n",
    "            data[col] = data[col].apply(convert_to_numeric)\n",
    "    \n",
    "    # Separate excluded columns (e.g., country names) and numeric columns\n",
    "    data_to_normalize = data.drop(columns=exclude_columns)\n",
    "    data_excluded = data[exclude_columns]\n",
    "    \n",
    "    # Apply Min-Max Scaling to numeric columns\n",
    "    scaler = MinMaxScaler()\n",
    "    normalized_data = scaler.fit_transform(data_to_normalize)\n",
    "    \n",
    "    # Convert the normalized data back to a DataFrame\n",
    "    normalized_df = pd.DataFrame(normalized_data, columns=data_to_normalize.columns, index=data.index)\n",
    "    \n",
    "    # Combine excluded columns with the normalized data\n",
    "    final_data = pd.concat([data_excluded, normalized_df], axis=1)\n",
    "    \n",
    "    return final_data"
   ]
  },
  {
   "cell_type": "code",
   "execution_count": null,
   "metadata": {},
   "outputs": [],
   "source": [
    "# import pdb # pdb pour debug interactif (utile ?)\n",
    "\n",
    "\"\"\"\n",
    "Fonction pour générer les fichiers en utilisant un tableau d'années pour nommer les fichiers.\n",
    "\"\"\"\n",
    "def generate_files_by_year(data, path, suffix, years_to_export):\n",
    "    # Vérifie que la longueur de years correspond au nombre de colonnes de data (moins la colonne 'country')\n",
    "    if len(years_to_export) != len(data.columns) - 1:\n",
    "        raise ValueError(\"Projet GML : La longueur du tableau 'years' doit être égale au nombre de colonnes d'années dans 'data'.\")\n",
    "    \n",
    "    os.makedirs(path, exist_ok=True) # Crée le répertoire si nécessaire\n",
    "    \n",
    "    # Itère sur les colonnes du DataFrame et les années fournies simultanément\n",
    "    for col, year in zip(data.columns[1:], years_to_export):  # data.columns[1:] ignorer la 1ère colonne ('country')\n",
    "        # Assurer que year est une chaîne de caractères pour la génération de fichier\n",
    "        year_str = str(year) # Convertit l'année en chaîne de caractères\n",
    "\n",
    "        year_data = data[['country', col]]  # Sélectionne la colonne 'country' et la colonne de l'année actuelle\n",
    "        filename = os.path.join(path, f\"{year_str}{suffix}.csv\")\n",
    "        year_data.to_csv(filename, index=False)  # Sauvegarde du fichier csv"
   ]
  },
  {
   "cell_type": "code",
   "execution_count": null,
   "metadata": {},
   "outputs": [],
   "source": [
    "\"\"\"\n",
    "Fonction pour générer un array de dataframes à partir des fichiers\n",
    "\"\"\"\n",
    "def generate_df_from_files(path, suffix):\n",
    "\n",
    "    if not os.path.exists(path):\n",
    "        raise ValueError(f\"The directory {path} does not exist.\")\n",
    "    \n",
    "    file_list = glob.glob(os.path.join(path, f\"*{suffix}.csv\"))\n",
    "    dataframes = []\n",
    "\n",
    "    for file in file_list:\n",
    "        df = pd.read_csv(file)\n",
    "        dataframes.append(df)\n",
    "\n",
    "    return dataframes"
   ]
  },
  {
   "cell_type": "code",
   "execution_count": null,
   "metadata": {},
   "outputs": [],
   "source": [
    "\"\"\"\n",
    "Function to load an array of rows (entire rows as individual elements) from a single CSV file.\n",
    "\"\"\"\n",
    "def generate_df_labels_from_file(file_path):\n",
    "    if not os.path.exists(file_path):\n",
    "        raise ValueError(f\"The file {file_path} does not exist.\")\n",
    "    \n",
    "    # Load the CSV into a DataFrame\n",
    "    df = pd.read_csv(file_path)\n",
    "    \n",
    "    # Initialize an array to store rows\n",
    "    rows_array = []\n",
    "\n",
    "    # Append each entire row as a separate element in the list\n",
    "    for _, row in df.iterrows():\n",
    "        rows_array.append(row)\n",
    "\n",
    "    return rows_array"
   ]
  }
 ],
 "metadata": {
  "kernelspec": {
   "display_name": "PCD",
   "language": "python",
   "name": "python3"
  },
  "language_info": {
   "codemirror_mode": {
    "name": "ipython",
    "version": 3
   },
   "file_extension": ".py",
   "mimetype": "text/x-python",
   "name": "python",
   "nbconvert_exporter": "python",
   "pygments_lexer": "ipython3",
   "version": "3.11.7"
  }
 },
 "nbformat": 4,
 "nbformat_minor": 2
}
