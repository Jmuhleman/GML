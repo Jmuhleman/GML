{
 "cells": [
  {
   "cell_type": "code",
   "execution_count": 122,
   "id": "6d5106f6-d631-4748-9b64-c7942bf1a5b9",
   "metadata": {},
   "outputs": [],
   "source": [
    "import pandas as pd\n",
    "\n",
    "df = pd.read_csv('archive_raw/olympic_results.csv')\n"
   ]
  },
  {
   "cell_type": "code",
   "execution_count": 123,
   "id": "2696b1e9",
   "metadata": {},
   "outputs": [],
   "source": [
    "unique_countries = pd.DataFrame(data=sorted(df['country_name'].unique()), columns=['country_name'])\n",
    "\n",
    "# Save the DataFrame to a CSV file\n",
    "unique_countries.to_csv('archive_raw/country_names.csv', index=False)"
   ]
  },
  {
   "cell_type": "code",
   "execution_count": 124,
   "id": "47420ad3-8a29-4741-80c9-0225ccc33553",
   "metadata": {},
   "outputs": [
    {
     "data": {
      "text/plain": [
       "array(['beijing-2022', 'tokyo-2020', 'pyeongchang-2018', 'rio-2016',\n",
       "       'sochi-2014', 'london-2012', 'vancouver-2010', 'beijing-2008',\n",
       "       'turin-2006', 'athens-2004', 'salt-lake-city-2002', 'sydney-2000',\n",
       "       'nagano-1998', 'atlanta-1996', 'lillehammer-1994',\n",
       "       'barcelona-1992', 'albertville-1992', 'seoul-1988', 'calgary-1988',\n",
       "       'los-angeles-1984', 'sarajevo-1984', 'moscow-1980',\n",
       "       'lake-placid-1980', 'montreal-1976', 'innsbruck-1976',\n",
       "       'munich-1972', 'sapporo-1972', 'mexico-city-1968', 'grenoble-1968',\n",
       "       'tokyo-1964', 'innsbruck-1964', 'rome-1960', 'squaw-valley-1960',\n",
       "       'melbourne-1956', 'cortina-d-ampezzo-1956', 'helsinki-1952',\n",
       "       'oslo-1952', 'london-1948', 'st-moritz-1948', 'berlin-1936',\n",
       "       'garmisch-partenkirchen-1936', 'los-angeles-1932',\n",
       "       'lake-placid-1932', 'amsterdam-1928', 'st-moritz-1928',\n",
       "       'paris-1924', 'chamonix-1924', 'antwerp-1920', 'stockholm-1912',\n",
       "       'london-1908', 'st-louis-1904', 'paris-1900', 'athens-1896'],\n",
       "      dtype=object)"
      ]
     },
     "execution_count": 124,
     "metadata": {},
     "output_type": "execute_result"
    }
   ],
   "source": [
    "df['slug_game'].unique()"
   ]
  },
  {
   "cell_type": "code",
   "execution_count": 125,
   "id": "546b6781-8620-4a34-80c8-87511320125d",
   "metadata": {},
   "outputs": [
    {
     "data": {
      "text/plain": [
       "array(['tokyo-2020', 'rio-2016', 'london-2012', 'beijing-2008',\n",
       "       'athens-2004', 'sydney-2000', 'atlanta-1996', 'barcelona-1992',\n",
       "       'seoul-1988', 'los-angeles-1984', 'moscow-1980', 'montreal-1976',\n",
       "       'munich-1972', 'mexico-city-1968', 'tokyo-1964', 'rome-1960',\n",
       "       'melbourne-1956', 'helsinki-1952', 'london-1948'], dtype=object)"
      ]
     },
     "execution_count": 125,
     "metadata": {},
     "output_type": "execute_result"
    }
   ],
   "source": [
    "# éditions d'été de 1948 à 2020\n",
    "game_slugs = [\n",
    "    'tokyo-2020',  'rio-2016',\n",
    "    'london-2012', 'beijing-2008',\n",
    "    'athens-2004', 'sydney-2000', 'atlanta-1996',\n",
    "    'barcelona-1992', 'seoul-1988',\n",
    "    'los-angeles-1984',  'moscow-1980', 'montreal-1976',\n",
    "    'munich-1972', 'mexico-city-1968',\n",
    "    'tokyo-1964', 'rome-1960',\n",
    "    'melbourne-1956', 'helsinki-1952','london-1948'\n",
    "]\n",
    "\n",
    "df = df[df['slug_game'].apply(lambda x: x in game_slugs)]\n",
    "\n",
    "df['slug_game'].unique()"
   ]
  },
  {
   "cell_type": "code",
   "execution_count": 126,
   "id": "fcaa205b-f6ed-4ebe-931a-7a0d503a10ac",
   "metadata": {},
   "outputs": [],
   "source": [
    "# sports continus de 1948 à 1988\n",
    "sports_summer_before = ['Shooting', 'Diving', 'Canoe Sprint', 'Cycling Road', 'Football',\n",
    "                 'Boxing', 'Basketball', 'Cycling Track', 'Fencing',\n",
    "                 'Water Polo', 'Wrestling', 'Artistic Gymnastics',\n",
    "                 'Weightlifting', 'Modern Pentathlon', 'Hockey'\n",
    "                 'Athletics', 'Swimming', 'Sailing', 'Rowing']\n",
    "\n",
    "# éditions de 1948 à 1988\n",
    "editions_to_1988 = ['seoul-1988',\n",
    "    'los-angeles-1984',  'moscow-1980', 'montreal-1976',\n",
    "    'munich-1972', 'mexico-city-1968',\n",
    "    'tokyo-1964', 'rome-1960',\n",
    "    'melbourne-1956', 'helsinki-1952','london-1948'\n",
    "]\n",
    "\n",
    "\n",
    "df_summer_before_1988 = df[df['discipline_title'].apply(lambda x: x in sports_summer_before)]\n",
    "df_summer_before_1988 = df_summer_before_1988[df_summer_before_1988['slug_game'].apply(lambda x: x in editions_to_1988)]\n"
   ]
  },
  {
   "cell_type": "code",
   "execution_count": 127,
   "id": "9ef27e6e-2c11-4379-886d-0256145d7c08",
   "metadata": {},
   "outputs": [],
   "source": [
    "# sports continus de 1992 à 2020\n",
    "sports_summer_after = ['Shooting', 'Diving', 'Canoe Sprint', 'Cycling Road', 'Football',\n",
    "                 'Boxing', 'Basketball', 'Cycling Track', 'Fencing', 'Table Tennis', 'Badminton',\n",
    "                 'Water Polo', 'Wrestling', 'Artistic Gymnastics', 'Canoe Slalom', 'Rhythmic Gymnastics',\n",
    "                 'Weightlifting', 'Modern Pentathlon', 'Hockey', 'Volleyball', 'Artistic Swimming', \n",
    "                 'Athletics', 'Swimming', 'Sailing', 'Rowing', 'Tennis', 'Equestrian', 'Archery', 'Handball', 'Judo']\n",
    "\n",
    "# éditions de 1992 à 2020\n",
    "editions_after_1988 = ['tokyo-2020',  'rio-2016',\n",
    "    'london-2012', 'beijing-2008',\n",
    "    'athens-2004', 'sydney-2000', 'atlanta-1996',\n",
    "    'barcelona-1992']\n",
    "\n",
    "\n",
    "df_summer_after_1988 = df[df['discipline_title'].apply(lambda x: x in sports_summer_after)]\n",
    "df_summer_after_1988 = df_summer_after_1988[df_summer_after_1988['slug_game'].apply(lambda x: x in editions_after_1988)]"
   ]
  },
  {
   "cell_type": "code",
   "execution_count": null,
   "metadata": {},
   "outputs": [],
   "source": []
  },
  {
   "cell_type": "code",
   "execution_count": 128,
   "id": "19757763-ac17-4894-b65e-64ddf399487f",
   "metadata": {},
   "outputs": [
    {
     "name": "stderr",
     "output_type": "stream",
     "text": [
      "C:\\Users\\Julien\\AppData\\Local\\Temp\\ipykernel_13652\\3581285298.py:4: SettingWithCopyWarning: \n",
      "A value is trying to be set on a copy of a slice from a DataFrame.\n",
      "Try using .loc[row_indexer,col_indexer] = value instead\n",
      "\n",
      "See the caveats in the documentation: https://pandas.pydata.org/pandas-docs/stable/user_guide/indexing.html#returning-a-view-versus-a-copy\n",
      "  df_cl['rank_position'] = df_cl['rank_position'].astype(int)\n",
      "C:\\Users\\Julien\\AppData\\Local\\Temp\\ipykernel_13652\\3581285298.py:4: SettingWithCopyWarning: \n",
      "A value is trying to be set on a copy of a slice from a DataFrame.\n",
      "Try using .loc[row_indexer,col_indexer] = value instead\n",
      "\n",
      "See the caveats in the documentation: https://pandas.pydata.org/pandas-docs/stable/user_guide/indexing.html#returning-a-view-versus-a-copy\n",
      "  df_cl['rank_position'] = df_cl['rank_position'].astype(int)\n"
     ]
    }
   ],
   "source": [
    "def extract_10_first(df):\n",
    "    df['rank_position'] = pd.to_numeric(df['rank_position'], errors='coerce')\n",
    "    df_cl = df.dropna(subset=['rank_position'])\n",
    "    df_cl['rank_position'] = df_cl['rank_position'].astype(int)\n",
    "    df_cl = df_cl[df_cl['rank_position'] <= 10]\n",
    "    return df_cl\n",
    "\n",
    "\n",
    "\n",
    "filtered_df = extract_10_first(df_summer_after_1988)\n",
    "df_after = filtered_df.groupby(by=['country_name', 'slug_game']).count()\n",
    "\n",
    "\n",
    "\n",
    "filtered_df_before = extract_10_first(df_summer_before_1988)\n",
    "df_before = filtered_df_before.groupby(by=['country_name', 'slug_game']).count()\n"
   ]
  },
  {
   "cell_type": "code",
   "execution_count": null,
   "id": "efcc4427",
   "metadata": {},
   "outputs": [],
   "source": []
  },
  {
   "cell_type": "code",
   "execution_count": 129,
   "metadata": {},
   "outputs": [],
   "source": [
    "df_clean_after = df_after['rank_position']\n",
    "df_clean_after.to_csv('data_rank_after.csv')\n",
    "\n",
    "\n",
    "df_clean_before = df_before['rank_position']\n",
    "df_clean_before.to_csv('data_rank_before.csv')\n"
   ]
  },
  {
   "cell_type": "code",
   "execution_count": 130,
   "id": "d63f36cd",
   "metadata": {},
   "outputs": [],
   "source": [
    "#df_summer_after_1988[ (df_summer_after_1988['country_name'] == 'Algeria') & (df_summer_after_1988['slug_game'] == 'athens-2004')\n",
    "#                    & (df_summer_after_1988['rank_position'] <= 10)]"
   ]
  },
  {
   "cell_type": "code",
   "execution_count": 131,
   "metadata": {},
   "outputs": [],
   "source": [
    "data = pd.read_csv('data_rank_after.csv')\n",
    "df = pd.DataFrame(data)\n",
    "\n",
    "df['year'] = df['slug_game'].str.extract(r'(\\d{4})')\n",
    "\n",
    "df_pivot = df.pivot_table(index='country_name', columns='year', values='rank_position', aggfunc='first')\n",
    "\n",
    "df_pivot.reset_index(inplace=True)\n",
    "df_pivot.fillna(0, inplace=True)\n",
    "\n",
    "df_pivot = df_pivot.transpose()\n",
    "\n",
    "df_pivot = df_pivot.iloc[0:].reset_index(drop=True)\n",
    "\n",
    "df_pivot.columns = df_pivot.iloc[0]\n",
    "df_pivot = df_pivot.drop(0).reset_index(drop=True)\n",
    "\n",
    "df_pivot.to_csv('second_part.csv')\n"
   ]
  },
  {
   "cell_type": "code",
   "execution_count": null,
   "id": "c016fb8c",
   "metadata": {},
   "outputs": [],
   "source": []
  },
  {
   "cell_type": "code",
   "execution_count": 132,
   "metadata": {},
   "outputs": [],
   "source": [
    "data = pd.read_csv('data_rank_before.csv')\n",
    "df = pd.DataFrame(data)\n",
    "\n",
    "df['year'] = df['slug_game'].str.extract(r'(\\d{4})')\n",
    "\n",
    "df_pivot = df.pivot_table(index='country_name', columns='year', values='rank_position', aggfunc='first')\n",
    "\n",
    "df_pivot.reset_index(inplace=True)\n",
    "df_pivot.fillna(0, inplace=True)\n",
    "\n",
    "df_pivot = df_pivot.transpose()\n",
    "\n",
    "\n",
    "df_pivot = df_pivot.iloc[0:].reset_index(drop=True)\n",
    "\n",
    "df_pivot.columns = df_pivot.iloc[0]\n",
    "df_pivot = df_pivot.drop(0).reset_index(drop=True)\n",
    "\n",
    "\n",
    "df_pivot.to_csv('first_part.csv')"
   ]
  },
  {
   "cell_type": "code",
   "execution_count": null,
   "id": "93ebb7af",
   "metadata": {},
   "outputs": [],
   "source": [
    "first_part = pd.read_csv('first_part.csv')\n",
    "second_part = pd.read_csv('second_part.csv')\n",
    "\n",
    "years = [1948, 1952, 1956, 1960, 1964, 1968, 1972, 1976, 1980, 1984, \n",
    "         1988, 1992, 1996, 2000, 2004, 2008, 2012, 2016, 2020]\n",
    "\n",
    "second_part.rename(columns={'Unnamed: 0': 'year'}, inplace=True)\n",
    "second_part['year'] = years[11:]\n",
    "second_part.set_index('year', inplace=True)\n",
    "\n",
    "first_part.rename(columns={'Unnamed: 0': 'year'}, inplace=True)\n",
    "first_part['year'] = years[:11]\n",
    "first_part.set_index('year', inplace=True)\n",
    "\n",
    "#supprimer les csv \n",
    "import os\n",
    "os.remove('first_part.csv')\n",
    "os.remove('second_part.csv')\n",
    "os.remove('data_rank_after.csv')\n",
    "os.remove('data_rank_before.csv')\n",
    "\n",
    "second_part.to_csv('second_part.csv')\n",
    "first_part.to_csv('first_part.csv')\n",
    "\n",
    "\n"
   ]
  },
  {
   "cell_type": "code",
   "execution_count": 134,
   "id": "7e887bdd",
   "metadata": {},
   "outputs": [],
   "source": [
    "# expot list of countries \n",
    "country_list = first_part.columns[1:].tolist() + second_part.columns[1:].tolist()\n",
    "country_list = list(set(country_list))\n",
    "country_list.sort()\n",
    "with open('country_list.txt', 'w') as f:\n",
    "    for country in country_list:\n",
    "        f.write(f\"{country}\\n\")"
   ]
  },
  {
   "cell_type": "code",
   "execution_count": null,
   "id": "8b59628d",
   "metadata": {},
   "outputs": [],
   "source": [
    "\n"
   ]
  },
  {
   "cell_type": "code",
   "execution_count": null,
   "id": "9b1cc3f6",
   "metadata": {},
   "outputs": [],
   "source": []
  },
  {
   "cell_type": "code",
   "execution_count": null,
   "id": "c603bba3",
   "metadata": {},
   "outputs": [],
   "source": []
  }
 ],
 "metadata": {
  "kernelspec": {
   "display_name": "PCD",
   "language": "python",
   "name": "python3"
  },
  "language_info": {
   "codemirror_mode": {
    "name": "ipython",
    "version": 3
   },
   "file_extension": ".py",
   "mimetype": "text/x-python",
   "name": "python",
   "nbconvert_exporter": "python",
   "pygments_lexer": "ipython3",
   "version": "3.11.7"
  }
 },
 "nbformat": 4,
 "nbformat_minor": 5
}
