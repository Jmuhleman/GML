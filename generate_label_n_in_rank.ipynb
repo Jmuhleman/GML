{
 "cells": [
  {
   "cell_type": "code",
   "execution_count": 51,
   "id": "6d5106f6-d631-4748-9b64-c7942bf1a5b9",
   "metadata": {
    "ExecuteTime": {
     "end_time": "2024-12-10T14:10:57.722163Z",
     "start_time": "2024-12-10T14:10:57.717454Z"
    }
   },
   "outputs": [],
   "source": [
    "# Importation des bibliothèques Python\n",
    "import pandas as pd\n",
    "import os"
   ]
  },
  {
   "cell_type": "code",
   "execution_count": 52,
   "id": "61a98d74",
   "metadata": {
    "ExecuteTime": {
     "end_time": "2024-12-10T14:10:59.008158Z",
     "start_time": "2024-12-10T14:10:58.263710Z"
    }
   },
   "outputs": [],
   "source": [
    "# Charger les données\n",
    "df = pd.read_csv('archive_raw/olympic_results.csv')"
   ]
  },
  {
   "cell_type": "code",
   "execution_count": 53,
   "id": "2696b1e9",
   "metadata": {
    "ExecuteTime": {
     "end_time": "2024-12-10T14:10:59.041756Z",
     "start_time": "2024-12-10T14:10:59.011603Z"
    }
   },
   "outputs": [],
   "source": [
    "# Création de la liste des pays uniques, triés, et sauvegardée\n",
    "unique_countries = pd.DataFrame(data=sorted(df['country_name'].unique()), columns=['country_name'])\n",
    "unique_countries.to_csv('archive_raw/country_names.csv', index=False)"
   ]
  },
  {
   "cell_type": "code",
   "execution_count": 54,
   "id": "546b6781-8620-4a34-80c8-87511320125d",
   "metadata": {
    "ExecuteTime": {
     "end_time": "2024-12-10T14:10:59.052771Z",
     "start_time": "2024-12-10T14:10:59.043346Z"
    }
   },
   "outputs": [],
   "source": [
    "# Choix des slugs des jeux Olympiques (de 1948 à 2020)\n",
    "game_slugs = [\n",
    "    'tokyo-2020', \n",
    "    'rio-2016', \n",
    "    'london-2012',\n",
    "    'beijing-2008',\n",
    "    'athens-2004', \n",
    "    'sydney-2000', \n",
    "    'atlanta-1996', \n",
    "    'barcelona-1992', \n",
    "    'seoul-1988',\n",
    "    'los-angeles-1984',\n",
    "    'moscow-1980',\n",
    "    'montreal-1976',\n",
    "    'munich-1972',\n",
    "    'mexico-city-1968',\n",
    "    'tokyo-1964',\n",
    "    'rome-1960',\n",
    "    'melbourne-1956',\n",
    "    'helsinki-1952',\n",
    "    'london-1948'\n",
    "]\n"
   ]
  },
  {
   "cell_type": "code",
   "execution_count": 55,
   "id": "8e38111c",
   "metadata": {
    "ExecuteTime": {
     "end_time": "2024-12-10T14:10:59.191386Z",
     "start_time": "2024-12-10T14:10:59.055598Z"
    }
   },
   "outputs": [],
   "source": [
    "# Filtrer les éditions d'été des JO avec les slugs\n",
    "df = df[df['slug_game'].apply(lambda x: x in game_slugs)]"
   ]
  },
  {
   "cell_type": "code",
   "execution_count": 56,
   "id": "1b3dfb7f",
   "metadata": {
    "ExecuteTime": {
     "end_time": "2024-12-10T14:10:59.203423Z",
     "start_time": "2024-12-10T14:10:59.195546Z"
    }
   },
   "outputs": [],
   "source": [
    "# Préparer la séparation des éditions pour les périodes 1948-1988 et 1992-2020 (JO 2020 ont eu lieu en 2021)\n",
    "editions_before_1988 = [\n",
    "    'seoul-1988', 'los-angeles-1984', 'moscow-1980', 'montreal-1976', 'munich-1972',\n",
    "    'mexico-city-1968', 'tokyo-1964', 'rome-1960', 'melbourne-1956', 'helsinki-1952', 'london-1948'\n",
    "]\n",
    "editions_after_1988 = [\n",
    "    'tokyo-2020', 'rio-2016', 'london-2012', 'beijing-2008', 'athens-2004', 'sydney-2000',\n",
    "    'atlanta-1996', 'barcelona-1992'\n",
    "]"
   ]
  },
  {
   "cell_type": "code",
   "execution_count": 57,
   "id": "1a644b02",
   "metadata": {
    "ExecuteTime": {
     "end_time": "2024-12-10T14:10:59.214926Z",
     "start_time": "2024-12-10T14:10:59.205013Z"
    }
   },
   "outputs": [],
   "source": [
    "# Préparer le filtrage des sports pour les périodes 1948-1988 et 1992-2020 (JO 2020 ont eu lieu en 2021)\n",
    "sports_summer_before_1988 = [\n",
    "    'Shooting', 'Diving', 'Canoe Sprint', 'Cycling Road', 'Football', 'Boxing', 'Basketball',\n",
    "    'Cycling Track', 'Fencing', 'Water Polo', 'Wrestling', 'Artistic Gymnastics', 'Weightlifting',\n",
    "    'Modern Pentathlon', 'Hockey', 'Athletics', 'Swimming', 'Sailing', 'Rowing'\n",
    "]\n",
    "sports_summer_after_1988 = [\n",
    "    'Shooting', 'Diving', 'Canoe Sprint', 'Cycling Road', 'Football', 'Boxing', 'Basketball',\n",
    "    'Cycling Track', 'Fencing', 'Table Tennis', 'Badminton', 'Water Polo', 'Wrestling',\n",
    "    'Artistic Gymnastics', 'Canoe Slalom', 'Rhythmic Gymnastics', 'Weightlifting', 'Modern Pentathlon',\n",
    "    'Hockey', 'Volleyball', 'Artistic Swimming', 'Athletics', 'Swimming', 'Sailing', 'Rowing',\n",
    "    'Tennis', 'Equestrian', 'Archery', 'Handball', 'Judo'\n",
    "]"
   ]
  },
  {
   "cell_type": "code",
   "execution_count": 58,
   "id": "6edd6cbc",
   "metadata": {
    "ExecuteTime": {
     "end_time": "2024-12-10T14:10:59.479630Z",
     "start_time": "2024-12-10T14:10:59.217387Z"
    }
   },
   "outputs": [],
   "source": [
    "# Filtrer les sports pour les périodes 1948-1988 et 1992-2020 (JO 2020 ont eu lieu en 2021)\n",
    "df_summer_before_1988 = df[df['discipline_title'].apply(lambda x: x in sports_summer_before_1988)]\n",
    "df_summer_before_1988 = df_summer_before_1988[df_summer_before_1988['slug_game'].apply(lambda x: x in editions_before_1988)]\n",
    "\n",
    "df_summer_after_1988  = df[df['discipline_title'].apply(lambda x: x in sports_summer_after_1988)]\n",
    "df_summer_after_1988  = df_summer_after_1988[df_summer_after_1988['slug_game'].apply(lambda x: x in editions_after_1988)]"
   ]
  },
  {
   "cell_type": "code",
   "execution_count": 59,
   "id": "19757763-ac17-4894-b65e-64ddf399487f",
   "metadata": {
    "ExecuteTime": {
     "end_time": "2024-12-10T14:10:59.643460Z",
     "start_time": "2024-12-10T14:10:59.480141Z"
    }
   },
   "outputs": [
    {
     "name": "stderr",
     "output_type": "stream",
     "text": [
      "C:\\Users\\Julien\\AppData\\Local\\Temp\\ipykernel_5712\\645130061.py:5: SettingWithCopyWarning: \n",
      "A value is trying to be set on a copy of a slice from a DataFrame.\n",
      "Try using .loc[row_indexer,col_indexer] = value instead\n",
      "\n",
      "See the caveats in the documentation: https://pandas.pydata.org/pandas-docs/stable/user_guide/indexing.html#returning-a-view-versus-a-copy\n",
      "  df_cl['rank_position'] = df_cl['rank_position'].astype(int)\n",
      "C:\\Users\\Julien\\AppData\\Local\\Temp\\ipykernel_5712\\645130061.py:5: SettingWithCopyWarning: \n",
      "A value is trying to be set on a copy of a slice from a DataFrame.\n",
      "Try using .loc[row_indexer,col_indexer] = value instead\n",
      "\n",
      "See the caveats in the documentation: https://pandas.pydata.org/pandas-docs/stable/user_guide/indexing.html#returning-a-view-versus-a-copy\n",
      "  df_cl['rank_position'] = df_cl['rank_position'].astype(int)\n"
     ]
    }
   ],
   "source": [
    "# Extraire les rangs pour les positions <= n (par défaut : 10)\n",
    "def extract_n_first(df, n_athletes=10):\n",
    "    df['rank_position'] = pd.to_numeric(df['rank_position'], errors='coerce')\n",
    "    df_cl = df.dropna(subset=['rank_position'])\n",
    "    df_cl['rank_position'] = df_cl['rank_position'].astype(int)\n",
    "    df_cl = df_cl[df_cl['rank_position'] <= n_athletes]\n",
    "    return df_cl\n",
    "\n",
    "# Application de la fonction avec n_athletes, groupement par pays et par édition\n",
    "n_athletes = 10\n",
    "\n",
    "filtered_df_before = extract_n_first(df_summer_before_1988, n_athletes)\n",
    "df_before          = filtered_df_before.groupby(by=['country_name', 'slug_game']).count().reset_index()\n",
    "\n",
    "filtered_df        = extract_n_first(df_summer_after_1988, n_athletes)\n",
    "df_after           = filtered_df.groupby(by=['country_name', 'slug_game']).count().reset_index()\n",
    "\n",
    "df_clean_before    = df_before[['country_name', 'rank_position', 'slug_game']].copy()\n",
    "df_clean_after     = df_after [['country_name', 'rank_position', 'slug_game']].copy()"
   ]
  },
  {
   "cell_type": "code",
   "execution_count": 60,
   "id": "34d29d9ae600e7e9",
   "metadata": {
    "ExecuteTime": {
     "end_time": "2024-12-10T14:10:59.667699Z",
     "start_time": "2024-12-10T14:10:59.646820Z"
    }
   },
   "outputs": [],
   "source": [
    "# Extraire l'année et créer un tableau croisé dynamique en une seule étape\n",
    "df_clean_before['year'] = df_clean_before['slug_game'].str.extract(r'(\\d{4})')\n",
    "df_pivot = df_clean_before.pivot_table(index='country_name', columns='year', values='rank_position', aggfunc='first')\n",
    "\n",
    "df_pivot.reset_index(inplace=True)\n",
    "\n",
    "# Remplacer les valeurs manquantes par 0\n",
    "df_pivot.fillna(0, inplace=True)\n",
    "\n",
    "# Transposer et réinitialiser l'index, puis utiliser la première ligne comme noms de colonnes\n",
    "df_pivot         = df_pivot.transpose()\n",
    "df_pivot         = df_pivot.iloc[0:].reset_index(drop=True)\n",
    "df_pivot.columns = df_pivot.iloc[0]\n",
    "first_part       = df_pivot.drop(0).reset_index(drop=True)"
   ]
  },
  {
   "cell_type": "code",
   "execution_count": 61,
   "id": "8ad94e1a03bc8d5f",
   "metadata": {
    "ExecuteTime": {
     "end_time": "2024-12-10T14:10:59.690547Z",
     "start_time": "2024-12-10T14:10:59.668208Z"
    }
   },
   "outputs": [],
   "source": [
    "# Extraire l'année et créer un tableau croisé dynamique en une seule étape\n",
    "df_clean_after['year'] = df_clean_after['slug_game'].str.extract(r'(\\d{4})')\n",
    "df_pivot = df_clean_after.pivot_table(index='country_name', columns='year', values='rank_position', aggfunc='first')\n",
    "\n",
    "df_pivot.reset_index(inplace=True)\n",
    "\n",
    "# Remplacer les valeurs manquantes par 0\n",
    "df_pivot.fillna(0, inplace=True)\n",
    "\n",
    "# Transposer et réinitialiser l'index, puis utiliser la première ligne comme noms de colonnes\n",
    "df_pivot         = df_pivot.transpose()\n",
    "df_pivot         = df_pivot.iloc[0:].reset_index(drop=True)\n",
    "df_pivot.columns = df_pivot.iloc[0]\n",
    "second_part      = df_pivot.drop(0).reset_index(drop=True)\n",
    "\n"
   ]
  },
  {
   "cell_type": "code",
   "execution_count": 62,
   "id": "aeb93fa9",
   "metadata": {
    "ExecuteTime": {
     "end_time": "2024-12-10T14:10:59.700435Z",
     "start_time": "2024-12-10T14:10:59.692394Z"
    }
   },
   "outputs": [],
   "source": [
    "# Définition des années pour les fichiers finaux\n",
    "years = [1948, 1952, 1956, 1960, 1964, 1968, 1972, 1976, 1980, 1984, \n",
    "         1988, 1992, 1996, 2000, 2004, 2008, 2012, 2016, 2020]"
   ]
  },
  {
   "cell_type": "code",
   "execution_count": 63,
   "id": "93ebb7af",
   "metadata": {
    "ExecuteTime": {
     "end_time": "2024-12-10T14:10:59.718486Z",
     "start_time": "2024-12-10T14:10:59.702655Z"
    }
   },
   "outputs": [],
   "source": [
    "# Ajout des années et organisation de first_part pour 1948-1988\n",
    "first_part.rename(columns={'Unnamed: 0': 'year'}, inplace=True)\n",
    "first_part['year'] = years[:11]\n",
    "first_part.set_index('year', inplace=True)\n",
    "\n",
    "# Ajout des années et organisation de second_part pour 1992-2020 (JO 2020 ont eu lieu en 2021)\n",
    "second_part.rename(columns={'Unnamed: 0': 'year'}, inplace=True)\n",
    "second_part['year'] = years[11:]\n",
    "second_part.set_index('year', inplace=True)\n",
    "\n",
    "first_part.to_csv('first_part.csv')\n",
    "second_part.to_csv('second_part.csv')\n"
   ]
  },
  {
   "cell_type": "code",
   "execution_count": 64,
   "id": "7e887bdd",
   "metadata": {
    "ExecuteTime": {
     "end_time": "2024-12-10T14:10:59.762668Z",
     "start_time": "2024-12-10T14:10:59.749622Z"
    }
   },
   "outputs": [],
   "source": [
    "# Sauvegarde de la version brute de la liste des pays\n",
    "country_list = second_part.columns[:].tolist()\n",
    "country_list.sort()\n",
    "with open('country_list_brut.txt', 'w') as f:\n",
    "    for country in country_list:\n",
    "        f.write(f\"{country}\\n\")"
   ]
  },
  {
   "cell_type": "code",
   "execution_count": 65,
   "id": "44f4eff14f6ae879",
   "metadata": {
    "ExecuteTime": {
     "end_time": "2024-12-10T14:10:59.826430Z",
     "start_time": "2024-12-10T14:10:59.814291Z"
    }
   },
   "outputs": [],
   "source": [
    "# Mapping des noms de pays et nettoyage\n",
    "name_mapping = {\n",
    "    \"Democratic People's Republic of Korea\" : \"North Korea\",\n",
    "    \"Hong Kong, China\" : \"Hong Kong China\",\n",
    "    \"Islamic Republic of Iran\" : \"Iran\",\n",
    "    \"People's Republic of China\" : \"China\",\n",
    "    \"Republic of Korea\" : \"South Korea\",\n",
    "    \"Republic of Moldova\" : \"Moldova\",\n",
    "    \"Russian Federation\" : \"Russia\",\n",
    "    \"Saint Kitts and Nevis\" : \"St. Kitts and Nevis\",\n",
    "    \"Saint Lucia\" : \"St. Lucia\",\n",
    "    \"Swaziland\" : \"Eswatini\",\n",
    "    \"Syrian Arab Republic\" : \"Syria\",\n",
    "    \"United Arab Emirates\" : \"UAE\",\n",
    "    \"United Republic of Tanzania\" : \"Tanzania\",\n",
    "    \"United States of America\" : \"USA\",\n",
    "    \"Congo\" : \"Congo Rep.\",\n",
    "    \"Democratic Republic of the Congo\" : \"Congo Dem. Rep.\"\n",
    "}\n",
    "\n",
    "# Liste des pays à supprimer dans la liste des délégations olympiques:\n",
    "to_del = [\n",
    "    \"Virgin Islands, British\", \n",
    "    \"US Virgin Islands\", \n",
    "    \"The Former Yugoslav Republic of Macedonia\",\n",
    "    \"Serbia and Montenegro\", \n",
    "    \"Refugee Olympic Team\", \n",
    "    \"Refugee Olympic Athletes\", \n",
    "    \"ROC\", \n",
    "    \"Puerto Rico\", \n",
    "    \"Netherlands Antilles\", \n",
    "    \"Kosovo\",\n",
    "    \"Independent Olympic Athletes\", \n",
    "    \"Guam\", \n",
    "    \"Czechoslovakia\", \n",
    "    \"Chinese Taipei\", \n",
    "    \"Bermuda\", \n",
    "    \"Aruba\", \n",
    "    \"American Samoa\",\n",
    "    \"Unified Team\",\n",
    "    \"Cayman Islands\",\n",
    "    \"Côte d'Ivoire\",\n",
    "    \n",
    "\t\"Andorra\",\n",
    "\t\"Bahrain\",\n",
    "\t\"Barbados\",\n",
    "\t\"Cape Verde\",\n",
    "\t\"Congo Rep.\",\n",
    "\t\"Federated States of Micronesia\",\n",
    "\t\"Grenada\",\n",
    "\t\"Kiribati\",\n",
    "\t\"Malta\",\n",
    "\t\"Mauritius\",\n",
    "\t\"Monaco\",\n",
    "\t\"Nauru\",\n",
    "\t\"North Macedonia\",\n",
    "\t\"Samoa\",\n",
    "\t\"San Marino\",\n",
    "\t\"Seychelles\",\n",
    "\t\"Singapore\",\n",
    "\t\"St. Kitts and Nevis\",\n",
    "\t\"St. Lucia\",\n",
    "\t\"Tonga\"]"
   ]
  },
  {
   "cell_type": "code",
   "execution_count": 66,
   "id": "9b1cc3f6",
   "metadata": {
    "ExecuteTime": {
     "end_time": "2024-12-10T14:11:00.128905Z",
     "start_time": "2024-12-10T14:11:00.117462Z"
    }
   },
   "outputs": [],
   "source": [
    "# Copie et nettoyage des données de second_part pour les noms de pays et les colonnes à supprimer\n",
    "second_part_ = second_part.copy()\n",
    "second_part_ = second_part_.rename(columns=name_mapping)\n",
    "second_part_ = second_part_.drop(columns=[col for col in second_part_.columns if col in to_del])\n"
   ]
  },
  {
   "cell_type": "code",
   "execution_count": 67,
   "id": "67221e92c20d11cb",
   "metadata": {
    "ExecuteTime": {
     "end_time": "2024-12-10T14:11:00.221454Z",
     "start_time": "2024-12-10T14:11:00.214312Z"
    }
   },
   "outputs": [],
   "source": [
    "# Sauvegarde de la version nettoyée de la liste des pays\n",
    "country_list = second_part_.columns[:].tolist()\n",
    "country_list.sort()\n",
    "with open('list_post_traitement.txt', 'w') as f:\n",
    "    for country in country_list:\n",
    "        f.write(f\"{country}\\n\")"
   ]
  },
  {
   "cell_type": "code",
   "execution_count": 68,
   "id": "2ab10a33dbcd785d",
   "metadata": {
    "ExecuteTime": {
     "end_time": "2024-12-10T14:11:00.399623Z",
     "start_time": "2024-12-10T14:11:00.391216Z"
    }
   },
   "outputs": [],
   "source": [
    "# Sauvegarde de la version nettoyée de second_part \n"
   ]
  },
  {
   "cell_type": "markdown",
   "id": "417e08f1",
   "metadata": {},
   "source": [
    "## Normalisation médailles"
   ]
  },
  {
   "cell_type": "code",
   "execution_count": 69,
   "id": "a3ae2f53",
   "metadata": {
    "ExecuteTime": {
     "end_time": "2024-12-10T14:11:00.542187Z",
     "start_time": "2024-12-10T14:11:00.509206Z"
    }
   },
   "outputs": [],
   "source": [
    "# normalisation des nombre de médailles avec min max scaler\n",
    "from sklearn.preprocessing import normalize\n",
    "from sklearn.preprocessing import StandardScaler, MinMaxScaler\n",
    "second_part_.to_csv('second_part_countries_cleaned.csv')\n",
    "medals = pd.read_csv('second_part_countries_cleaned.csv')\n",
    "no_nor = medals.copy()\n",
    "no_nor = medals.reindex(sorted(medals.columns), axis=1)\n",
    "no_nor.to_csv('second_part_countries_cleaned_no_normalized.csv', index=False)\n",
    "\n",
    "normalized_values = normalize(medals.iloc[:, 1:], axis=1, norm='max')  # Option: norm='l1' or 'l2' for other norms\n",
    "\n",
    "normalized_medals_df = pd.concat([medals.iloc[:, 0], pd.DataFrame(normalized_values)], axis=1)\n",
    "normalized_medals_df.columns = medals.columns\n",
    "# trier les pays par ordre alphabetique sur axe x\n",
    "\n",
    "medals = normalized_medals_df.reindex(sorted(medals.columns), axis=1)\n",
    "medals.to_csv('second_part_countries_cleaned_normalized.csv', index=False)"
   ]
  },
  {
   "cell_type": "code",
   "execution_count": 70,
   "id": "1c1b58c6a946865f",
   "metadata": {
    "ExecuteTime": {
     "end_time": "2024-12-10T14:11:00.724252Z",
     "start_time": "2024-12-10T14:11:00.710693Z"
    }
   },
   "outputs": [
    {
     "data": {
      "text/plain": [
       "0    0.853982\n",
       "1    0.890909\n",
       "2    0.857843\n",
       "3    0.739796\n",
       "4    0.610000\n",
       "5    0.638498\n",
       "6    0.580952\n",
       "7    0.550847\n",
       "Name: Germany, dtype: float64"
      ]
     },
     "execution_count": 70,
     "metadata": {},
     "output_type": "execute_result"
    }
   ],
   "source": [
    "medals['Germany']"
   ]
  },
  {
   "cell_type": "code",
   "execution_count": 71,
   "id": "414addb34eb57d5a",
   "metadata": {
    "ExecuteTime": {
     "end_time": "2024-12-10T14:11:00.842809Z",
     "start_time": "2024-12-10T14:11:00.805513Z"
    }
   },
   "outputs": [
    {
     "data": {
      "text/html": [
       "<div>\n",
       "<style scoped>\n",
       "    .dataframe tbody tr th:only-of-type {\n",
       "        vertical-align: middle;\n",
       "    }\n",
       "\n",
       "    .dataframe tbody tr th {\n",
       "        vertical-align: top;\n",
       "    }\n",
       "\n",
       "    .dataframe thead th {\n",
       "        text-align: right;\n",
       "    }\n",
       "</style>\n",
       "<table border=\"1\" class=\"dataframe\">\n",
       "  <thead>\n",
       "    <tr style=\"text-align: right;\">\n",
       "      <th></th>\n",
       "      <th>Albania</th>\n",
       "      <th>Algeria</th>\n",
       "      <th>Angola</th>\n",
       "      <th>Argentina</th>\n",
       "      <th>Armenia</th>\n",
       "      <th>Australia</th>\n",
       "      <th>Austria</th>\n",
       "      <th>Azerbaijan</th>\n",
       "      <th>Bahamas</th>\n",
       "      <th>Bangladesh</th>\n",
       "      <th>...</th>\n",
       "      <th>USA</th>\n",
       "      <th>Uganda</th>\n",
       "      <th>Ukraine</th>\n",
       "      <th>Uruguay</th>\n",
       "      <th>Uzbekistan</th>\n",
       "      <th>Venezuela</th>\n",
       "      <th>Vietnam</th>\n",
       "      <th>Zambia</th>\n",
       "      <th>Zimbabwe</th>\n",
       "      <th>year</th>\n",
       "    </tr>\n",
       "  </thead>\n",
       "  <tbody>\n",
       "    <tr>\n",
       "      <th>0</th>\n",
       "      <td>0.004425</td>\n",
       "      <td>0.061947</td>\n",
       "      <td>0.004425</td>\n",
       "      <td>0.053097</td>\n",
       "      <td>0.000000</td>\n",
       "      <td>0.345133</td>\n",
       "      <td>0.097345</td>\n",
       "      <td>0.000000</td>\n",
       "      <td>0.008850</td>\n",
       "      <td>0.000000</td>\n",
       "      <td>...</td>\n",
       "      <td>1.0</td>\n",
       "      <td>0.000000</td>\n",
       "      <td>0.000000</td>\n",
       "      <td>0.000000</td>\n",
       "      <td>0.000000</td>\n",
       "      <td>0.022124</td>\n",
       "      <td>0.000000</td>\n",
       "      <td>0.013274</td>\n",
       "      <td>0.000000</td>\n",
       "      <td>1992</td>\n",
       "    </tr>\n",
       "    <tr>\n",
       "      <th>1</th>\n",
       "      <td>0.000000</td>\n",
       "      <td>0.050000</td>\n",
       "      <td>0.004545</td>\n",
       "      <td>0.081818</td>\n",
       "      <td>0.077273</td>\n",
       "      <td>0.477273</td>\n",
       "      <td>0.077273</td>\n",
       "      <td>0.036364</td>\n",
       "      <td>0.027273</td>\n",
       "      <td>0.000000</td>\n",
       "      <td>...</td>\n",
       "      <td>1.0</td>\n",
       "      <td>0.009091</td>\n",
       "      <td>0.295455</td>\n",
       "      <td>0.004545</td>\n",
       "      <td>0.072727</td>\n",
       "      <td>0.027273</td>\n",
       "      <td>0.000000</td>\n",
       "      <td>0.018182</td>\n",
       "      <td>0.004545</td>\n",
       "      <td>1996</td>\n",
       "    </tr>\n",
       "    <tr>\n",
       "      <th>2</th>\n",
       "      <td>0.004902</td>\n",
       "      <td>0.053922</td>\n",
       "      <td>0.004902</td>\n",
       "      <td>0.098039</td>\n",
       "      <td>0.034314</td>\n",
       "      <td>0.705882</td>\n",
       "      <td>0.112745</td>\n",
       "      <td>0.088235</td>\n",
       "      <td>0.044118</td>\n",
       "      <td>0.000000</td>\n",
       "      <td>...</td>\n",
       "      <td>1.0</td>\n",
       "      <td>0.000000</td>\n",
       "      <td>0.382353</td>\n",
       "      <td>0.009804</td>\n",
       "      <td>0.088235</td>\n",
       "      <td>0.044118</td>\n",
       "      <td>0.000000</td>\n",
       "      <td>0.004902</td>\n",
       "      <td>0.004902</td>\n",
       "      <td>2000</td>\n",
       "    </tr>\n",
       "    <tr>\n",
       "      <th>3</th>\n",
       "      <td>0.000000</td>\n",
       "      <td>0.056122</td>\n",
       "      <td>0.005102</td>\n",
       "      <td>0.086735</td>\n",
       "      <td>0.045918</td>\n",
       "      <td>0.653061</td>\n",
       "      <td>0.091837</td>\n",
       "      <td>0.096939</td>\n",
       "      <td>0.035714</td>\n",
       "      <td>0.000000</td>\n",
       "      <td>...</td>\n",
       "      <td>1.0</td>\n",
       "      <td>0.015306</td>\n",
       "      <td>0.418367</td>\n",
       "      <td>0.010204</td>\n",
       "      <td>0.081633</td>\n",
       "      <td>0.045918</td>\n",
       "      <td>0.005102</td>\n",
       "      <td>0.005102</td>\n",
       "      <td>0.020408</td>\n",
       "      <td>2004</td>\n",
       "    </tr>\n",
       "    <tr>\n",
       "      <th>4</th>\n",
       "      <td>0.010000</td>\n",
       "      <td>0.055000</td>\n",
       "      <td>0.000000</td>\n",
       "      <td>0.060000</td>\n",
       "      <td>0.055000</td>\n",
       "      <td>0.615000</td>\n",
       "      <td>0.130000</td>\n",
       "      <td>0.075000</td>\n",
       "      <td>0.030000</td>\n",
       "      <td>0.000000</td>\n",
       "      <td>...</td>\n",
       "      <td>1.0</td>\n",
       "      <td>0.015000</td>\n",
       "      <td>0.310000</td>\n",
       "      <td>0.000000</td>\n",
       "      <td>0.080000</td>\n",
       "      <td>0.060000</td>\n",
       "      <td>0.010000</td>\n",
       "      <td>0.000000</td>\n",
       "      <td>0.030000</td>\n",
       "      <td>2008</td>\n",
       "    </tr>\n",
       "    <tr>\n",
       "      <th>5</th>\n",
       "      <td>0.014085</td>\n",
       "      <td>0.028169</td>\n",
       "      <td>0.009390</td>\n",
       "      <td>0.075117</td>\n",
       "      <td>0.032864</td>\n",
       "      <td>0.502347</td>\n",
       "      <td>0.075117</td>\n",
       "      <td>0.126761</td>\n",
       "      <td>0.028169</td>\n",
       "      <td>0.000000</td>\n",
       "      <td>...</td>\n",
       "      <td>1.0</td>\n",
       "      <td>0.009390</td>\n",
       "      <td>0.276995</td>\n",
       "      <td>0.009390</td>\n",
       "      <td>0.089202</td>\n",
       "      <td>0.065728</td>\n",
       "      <td>0.023474</td>\n",
       "      <td>0.000000</td>\n",
       "      <td>0.014085</td>\n",
       "      <td>2012</td>\n",
       "    </tr>\n",
       "    <tr>\n",
       "      <th>6</th>\n",
       "      <td>0.009524</td>\n",
       "      <td>0.061905</td>\n",
       "      <td>0.009524</td>\n",
       "      <td>0.090476</td>\n",
       "      <td>0.061905</td>\n",
       "      <td>0.580952</td>\n",
       "      <td>0.071429</td>\n",
       "      <td>0.142857</td>\n",
       "      <td>0.023810</td>\n",
       "      <td>0.000000</td>\n",
       "      <td>...</td>\n",
       "      <td>1.0</td>\n",
       "      <td>0.014286</td>\n",
       "      <td>0.228571</td>\n",
       "      <td>0.004762</td>\n",
       "      <td>0.119048</td>\n",
       "      <td>0.061905</td>\n",
       "      <td>0.023810</td>\n",
       "      <td>0.004762</td>\n",
       "      <td>0.004762</td>\n",
       "      <td>2016</td>\n",
       "    </tr>\n",
       "    <tr>\n",
       "      <th>7</th>\n",
       "      <td>0.008475</td>\n",
       "      <td>0.038136</td>\n",
       "      <td>0.004237</td>\n",
       "      <td>0.072034</td>\n",
       "      <td>0.038136</td>\n",
       "      <td>0.487288</td>\n",
       "      <td>0.093220</td>\n",
       "      <td>0.067797</td>\n",
       "      <td>0.016949</td>\n",
       "      <td>0.004237</td>\n",
       "      <td>...</td>\n",
       "      <td>1.0</td>\n",
       "      <td>0.029661</td>\n",
       "      <td>0.258475</td>\n",
       "      <td>0.004237</td>\n",
       "      <td>0.122881</td>\n",
       "      <td>0.029661</td>\n",
       "      <td>0.008475</td>\n",
       "      <td>0.016949</td>\n",
       "      <td>0.000000</td>\n",
       "      <td>2020</td>\n",
       "    </tr>\n",
       "  </tbody>\n",
       "</table>\n",
       "<p>8 rows × 144 columns</p>\n",
       "</div>"
      ],
      "text/plain": [
       "    Albania   Algeria    Angola  Argentina   Armenia  Australia   Austria  \\\n",
       "0  0.004425  0.061947  0.004425   0.053097  0.000000   0.345133  0.097345   \n",
       "1  0.000000  0.050000  0.004545   0.081818  0.077273   0.477273  0.077273   \n",
       "2  0.004902  0.053922  0.004902   0.098039  0.034314   0.705882  0.112745   \n",
       "3  0.000000  0.056122  0.005102   0.086735  0.045918   0.653061  0.091837   \n",
       "4  0.010000  0.055000  0.000000   0.060000  0.055000   0.615000  0.130000   \n",
       "5  0.014085  0.028169  0.009390   0.075117  0.032864   0.502347  0.075117   \n",
       "6  0.009524  0.061905  0.009524   0.090476  0.061905   0.580952  0.071429   \n",
       "7  0.008475  0.038136  0.004237   0.072034  0.038136   0.487288  0.093220   \n",
       "\n",
       "   Azerbaijan   Bahamas  Bangladesh  ...  USA    Uganda   Ukraine   Uruguay  \\\n",
       "0    0.000000  0.008850    0.000000  ...  1.0  0.000000  0.000000  0.000000   \n",
       "1    0.036364  0.027273    0.000000  ...  1.0  0.009091  0.295455  0.004545   \n",
       "2    0.088235  0.044118    0.000000  ...  1.0  0.000000  0.382353  0.009804   \n",
       "3    0.096939  0.035714    0.000000  ...  1.0  0.015306  0.418367  0.010204   \n",
       "4    0.075000  0.030000    0.000000  ...  1.0  0.015000  0.310000  0.000000   \n",
       "5    0.126761  0.028169    0.000000  ...  1.0  0.009390  0.276995  0.009390   \n",
       "6    0.142857  0.023810    0.000000  ...  1.0  0.014286  0.228571  0.004762   \n",
       "7    0.067797  0.016949    0.004237  ...  1.0  0.029661  0.258475  0.004237   \n",
       "\n",
       "   Uzbekistan  Venezuela   Vietnam    Zambia  Zimbabwe  year  \n",
       "0    0.000000   0.022124  0.000000  0.013274  0.000000  1992  \n",
       "1    0.072727   0.027273  0.000000  0.018182  0.004545  1996  \n",
       "2    0.088235   0.044118  0.000000  0.004902  0.004902  2000  \n",
       "3    0.081633   0.045918  0.005102  0.005102  0.020408  2004  \n",
       "4    0.080000   0.060000  0.010000  0.000000  0.030000  2008  \n",
       "5    0.089202   0.065728  0.023474  0.000000  0.014085  2012  \n",
       "6    0.119048   0.061905  0.023810  0.004762  0.004762  2016  \n",
       "7    0.122881   0.029661  0.008475  0.016949  0.000000  2020  \n",
       "\n",
       "[8 rows x 144 columns]"
      ]
     },
     "execution_count": 71,
     "metadata": {},
     "output_type": "execute_result"
    }
   ],
   "source": [
    "data_cl = pd.read_csv('second_part_countries_cleaned_normalized.csv')\n",
    "data_cl"
   ]
  },
  {
   "cell_type": "markdown",
   "id": "5cf0508c",
   "metadata": {},
   "source": []
  },
  {
   "cell_type": "code",
   "execution_count": 72,
   "id": "120e8f82",
   "metadata": {
    "ExecuteTime": {
     "end_time": "2024-12-10T14:11:01.046923Z",
     "start_time": "2024-12-10T14:11:01.022473Z"
    }
   },
   "outputs": [],
   "source": [
    "# création de labels pour entrainement de classification \n",
    "# classe 0 -> pays peut performant\n",
    "# classe 1 -> pays moyennement performant\n",
    "# classe 2 -> pays dans les meilleurs classement\n",
    "\n",
    "def classify_2_class(row):\n",
    "    threshold_1 = 0.30\n",
    "    return row.apply(lambda x: 0 if x < threshold_1 else 1)\n",
    "\n",
    "def classify_3_class(row):\n",
    "    threshold_1 = 0.2\n",
    "    threshold_2 = 0.8\n",
    "    return row.apply(lambda x: 0 if x < threshold_1 else (1 if x < threshold_2 else 2))                     \n",
    "\n",
    "year_column = data_cl['year']\n",
    "\n",
    "classified_data_2 = data_cl.drop(columns=['year']).apply(classify_2_class, axis=1)\n",
    "classified_data_2['year'] = year_column\n",
    "\n",
    "classified_data_3 = data_cl.drop(columns=['year']).apply(classify_3_class, axis=1)\n",
    "classified_data_3['year'] = year_column\n",
    "\n",
    "classified_data_2.to_csv('labels_class_2_class.csv', index=False)\n",
    "classified_data_3.to_csv('labels_class_3_class.csv', index=False)"
   ]
  },
  {
   "cell_type": "code",
   "execution_count": 73,
   "id": "89f0a30cb93df9dd",
   "metadata": {
    "ExecuteTime": {
     "end_time": "2024-12-10T14:11:01.131452Z",
     "start_time": "2024-12-10T14:11:01.121144Z"
    }
   },
   "outputs": [],
   "source": [
    "classified_data_2.to_csv('sada.csv', index=False)\n"
   ]
  },
  {
   "cell_type": "markdown",
   "id": "8bedad93",
   "metadata": {},
   "source": [
    "## traitement du climat"
   ]
  },
  {
   "cell_type": "code",
   "execution_count": 74,
   "id": "b8ac42f6",
   "metadata": {
    "ExecuteTime": {
     "end_time": "2024-12-10T14:11:01.566850Z",
     "start_time": "2024-12-10T14:11:01.554831Z"
    }
   },
   "outputs": [],
   "source": [
    "climat = pd.read_csv('climate_raw/climate_in_continuous.csv')\n",
    "climat = climat.drop(columns=['Unnamed: 0'])\n"
   ]
  },
  {
   "cell_type": "code",
   "execution_count": 75,
   "id": "43adeb64",
   "metadata": {
    "ExecuteTime": {
     "end_time": "2024-12-10T14:11:01.896907Z",
     "start_time": "2024-12-10T14:11:01.885784Z"
    }
   },
   "outputs": [],
   "source": [
    "\n",
    "# récupérer les pays qui sont dans les deux datasets climat inter gapminder\n",
    "climat = climat[climat['country'].isin(country_list)] \n",
    "# trier climat par pays\n",
    "climat = climat.sort_values(by='country')\n",
    "climat.to_csv('climate_cleaned.csv', index=False)"
   ]
  },
  {
   "cell_type": "code",
   "execution_count": null,
   "id": "42688259",
   "metadata": {
    "ExecuteTime": {
     "end_time": "2024-12-10T14:11:01.994399Z",
     "start_time": "2024-12-10T14:11:01.988323Z"
    }
   },
   "outputs": [],
   "source": []
  },
  {
   "cell_type": "code",
   "execution_count": 194,
   "id": "a1cef02b",
   "metadata": {
    "ExecuteTime": {
     "end_time": "2024-12-10T14:11:02.135445Z",
     "start_time": "2024-12-10T14:11:02.126236Z"
    }
   },
   "outputs": [],
   "source": []
  },
  {
   "cell_type": "code",
   "execution_count": 194,
   "id": "b47ff4e5",
   "metadata": {
    "ExecuteTime": {
     "end_time": "2024-12-10T14:11:02.197173Z",
     "start_time": "2024-12-10T14:11:02.176618Z"
    }
   },
   "outputs": [],
   "source": []
  },
  {
   "cell_type": "code",
   "execution_count": 194,
   "id": "b45c4398",
   "metadata": {
    "ExecuteTime": {
     "end_time": "2024-12-10T14:11:02.334405Z",
     "start_time": "2024-12-10T14:11:02.324973Z"
    }
   },
   "outputs": [],
   "source": []
  }
 ],
 "metadata": {
  "kernelspec": {
   "display_name": "GML",
   "language": "python",
   "name": "python3"
  },
  "language_info": {
   "codemirror_mode": {
    "name": "ipython",
    "version": 3
   },
   "file_extension": ".py",
   "mimetype": "text/x-python",
   "name": "python",
   "nbconvert_exporter": "python",
   "pygments_lexer": "ipython3",
   "version": "3.12.3"
  }
 },
 "nbformat": 4,
 "nbformat_minor": 5
}
