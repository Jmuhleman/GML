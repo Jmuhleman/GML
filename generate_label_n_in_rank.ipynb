{
 "cells": [
  {
   "cell_type": "code",
   "execution_count": 432,
   "id": "6d5106f6-d631-4748-9b64-c7942bf1a5b9",
   "metadata": {},
   "outputs": [],
   "source": [
    "# Importation des bibliothèques Python\n",
    "import pandas as pd\n",
    "import os"
   ]
  },
  {
   "cell_type": "code",
   "execution_count": 433,
   "id": "61a98d74",
   "metadata": {},
   "outputs": [],
   "source": [
    "# Charger les données\n",
    "df = pd.read_csv('archive_raw/olympic_results.csv')"
   ]
  },
  {
   "cell_type": "code",
   "execution_count": 434,
   "id": "2696b1e9",
   "metadata": {},
   "outputs": [],
   "source": [
    "# Création de la liste des pays uniques, triés, et sauvegardée\n",
    "unique_countries = pd.DataFrame(data=sorted(df['country_name'].unique()), columns=['country_name'])\n",
    "unique_countries.to_csv('archive_raw/country_names.csv', index=False)"
   ]
  },
  {
   "cell_type": "code",
   "execution_count": 435,
   "id": "546b6781-8620-4a34-80c8-87511320125d",
   "metadata": {},
   "outputs": [],
   "source": [
    "# Choix des slugs des jeux Olympiques (de 1948 à 2020)\n",
    "game_slugs = [\n",
    "    'tokyo-2020', \n",
    "    'rio-2016', \n",
    "    'london-2012',\n",
    "    'beijing-2008',\n",
    "    'athens-2004', \n",
    "    'sydney-2000', \n",
    "    'atlanta-1996', \n",
    "    'barcelona-1992', \n",
    "    'seoul-1988',\n",
    "    'los-angeles-1984',\n",
    "    'moscow-1980',\n",
    "    'montreal-1976',\n",
    "    'munich-1972',\n",
    "    'mexico-city-1968',\n",
    "    'tokyo-1964',\n",
    "    'rome-1960',\n",
    "    'melbourne-1956',\n",
    "    'helsinki-1952',\n",
    "    'london-1948'\n",
    "]\n"
   ]
  },
  {
   "cell_type": "code",
   "execution_count": 436,
   "id": "8e38111c",
   "metadata": {},
   "outputs": [],
   "source": [
    "# Filtrer les éditions d'été des JO avec les slugs\n",
    "df = df[df['slug_game'].apply(lambda x: x in game_slugs)]"
   ]
  },
  {
   "cell_type": "code",
   "execution_count": 437,
   "id": "1b3dfb7f",
   "metadata": {},
   "outputs": [],
   "source": [
    "# Préparer la séparation des éditions pour les périodes 1948-1988 et 1992-2020 (JO 2020 ont eu lieu en 2021)\n",
    "editions_before_1988 = [\n",
    "    'seoul-1988', 'los-angeles-1984', 'moscow-1980', 'montreal-1976', 'munich-1972',\n",
    "    'mexico-city-1968', 'tokyo-1964', 'rome-1960', 'melbourne-1956', 'helsinki-1952', 'london-1948'\n",
    "]\n",
    "editions_after_1988 = [\n",
    "    'tokyo-2020', 'rio-2016', 'london-2012', 'beijing-2008', 'athens-2004', 'sydney-2000',\n",
    "    'atlanta-1996', 'barcelona-1992'\n",
    "]"
   ]
  },
  {
   "cell_type": "code",
   "execution_count": 438,
   "id": "1a644b02",
   "metadata": {},
   "outputs": [],
   "source": [
    "# Préparer le filtrage des sports pour les périodes 1948-1988 et 1992-2020 (JO 2020 ont eu lieu en 2021)\n",
    "sports_summer_before_1988 = [\n",
    "    'Shooting', 'Diving', 'Canoe Sprint', 'Cycling Road', 'Football', 'Boxing', 'Basketball',\n",
    "    'Cycling Track', 'Fencing', 'Water Polo', 'Wrestling', 'Artistic Gymnastics', 'Weightlifting',\n",
    "    'Modern Pentathlon', 'Hockey', 'Athletics', 'Swimming', 'Sailing', 'Rowing'\n",
    "]\n",
    "sports_summer_after_1988 = [\n",
    "    'Shooting', 'Diving', 'Canoe Sprint', 'Cycling Road', 'Football', 'Boxing', 'Basketball',\n",
    "    'Cycling Track', 'Fencing', 'Table Tennis', 'Badminton', 'Water Polo', 'Wrestling',\n",
    "    'Artistic Gymnastics', 'Canoe Slalom', 'Rhythmic Gymnastics', 'Weightlifting', 'Modern Pentathlon',\n",
    "    'Hockey', 'Volleyball', 'Artistic Swimming', 'Athletics', 'Swimming', 'Sailing', 'Rowing',\n",
    "    'Tennis', 'Equestrian', 'Archery', 'Handball', 'Judo'\n",
    "]"
   ]
  },
  {
   "cell_type": "code",
   "execution_count": 439,
   "id": "6edd6cbc",
   "metadata": {},
   "outputs": [],
   "source": [
    "# Filtrer les sports pour les périodes 1948-1988 et 1992-2020 (JO 2020 ont eu lieu en 2021)\n",
    "df_summer_before_1988 = df[df['discipline_title'].apply(lambda x: x in sports_summer_before_1988)]\n",
    "df_summer_before_1988 = df_summer_before_1988[df_summer_before_1988['slug_game'].apply(lambda x: x in editions_before_1988)]\n",
    "\n",
    "df_summer_after_1988  = df[df['discipline_title'].apply(lambda x: x in sports_summer_after_1988)]\n",
    "df_summer_after_1988  = df_summer_after_1988[df_summer_after_1988['slug_game'].apply(lambda x: x in editions_after_1988)]"
   ]
  },
  {
   "cell_type": "code",
   "execution_count": 440,
   "id": "19757763-ac17-4894-b65e-64ddf399487f",
   "metadata": {},
   "outputs": [
    {
     "name": "stderr",
     "output_type": "stream",
     "text": [
      "C:\\Users\\Julien\\AppData\\Local\\Temp\\ipykernel_25480\\645130061.py:5: SettingWithCopyWarning: \n",
      "A value is trying to be set on a copy of a slice from a DataFrame.\n",
      "Try using .loc[row_indexer,col_indexer] = value instead\n",
      "\n",
      "See the caveats in the documentation: https://pandas.pydata.org/pandas-docs/stable/user_guide/indexing.html#returning-a-view-versus-a-copy\n",
      "  df_cl['rank_position'] = df_cl['rank_position'].astype(int)\n",
      "C:\\Users\\Julien\\AppData\\Local\\Temp\\ipykernel_25480\\645130061.py:5: SettingWithCopyWarning: \n",
      "A value is trying to be set on a copy of a slice from a DataFrame.\n",
      "Try using .loc[row_indexer,col_indexer] = value instead\n",
      "\n",
      "See the caveats in the documentation: https://pandas.pydata.org/pandas-docs/stable/user_guide/indexing.html#returning-a-view-versus-a-copy\n",
      "  df_cl['rank_position'] = df_cl['rank_position'].astype(int)\n"
     ]
    }
   ],
   "source": [
    "# Extraire les rangs pour les positions <= n (par défaut : 10)\n",
    "def extract_n_first(df, n_athletes=10):\n",
    "    df['rank_position'] = pd.to_numeric(df['rank_position'], errors='coerce')\n",
    "    df_cl = df.dropna(subset=['rank_position'])\n",
    "    df_cl['rank_position'] = df_cl['rank_position'].astype(int)\n",
    "    df_cl = df_cl[df_cl['rank_position'] <= n_athletes]\n",
    "    return df_cl\n",
    "\n",
    "# Application de la fonction avec n_athletes, groupement par pays et par édition\n",
    "n_athletes = 10\n",
    "\n",
    "filtered_df_before = extract_n_first(df_summer_before_1988, n_athletes)\n",
    "df_before          = filtered_df_before.groupby(by=['country_name', 'slug_game']).count().reset_index()\n",
    "\n",
    "filtered_df        = extract_n_first(df_summer_after_1988, n_athletes)\n",
    "df_after           = filtered_df.groupby(by=['country_name', 'slug_game']).count().reset_index()\n",
    "\n",
    "df_clean_before    = df_before[['country_name', 'rank_position', 'slug_game']].copy()\n",
    "df_clean_after     = df_after [['country_name', 'rank_position', 'slug_game']].copy()"
   ]
  },
  {
   "cell_type": "code",
   "execution_count": 441,
   "metadata": {},
   "outputs": [],
   "source": [
    "# Extraire l'année et créer un tableau croisé dynamique en une seule étape\n",
    "df_clean_before['year'] = df_clean_before['slug_game'].str.extract(r'(\\d{4})')\n",
    "df_pivot = df_clean_before.pivot_table(index='country_name', columns='year', values='rank_position', aggfunc='first')\n",
    "\n",
    "df_pivot.reset_index(inplace=True)\n",
    "\n",
    "# Remplacer les valeurs manquantes par 0\n",
    "df_pivot.fillna(0, inplace=True)\n",
    "\n",
    "# Transposer et réinitialiser l'index, puis utiliser la première ligne comme noms de colonnes\n",
    "df_pivot         = df_pivot.transpose()\n",
    "df_pivot         = df_pivot.iloc[0:].reset_index(drop=True)\n",
    "df_pivot.columns = df_pivot.iloc[0]\n",
    "first_part       = df_pivot.drop(0).reset_index(drop=True)"
   ]
  },
  {
   "cell_type": "code",
   "execution_count": 442,
   "metadata": {},
   "outputs": [],
   "source": [
    "# Extraire l'année et créer un tableau croisé dynamique en une seule étape\n",
    "df_clean_after['year'] = df_clean_after['slug_game'].str.extract(r'(\\d{4})')\n",
    "df_pivot = df_clean_after.pivot_table(index='country_name', columns='year', values='rank_position', aggfunc='first')\n",
    "\n",
    "df_pivot.reset_index(inplace=True)\n",
    "\n",
    "# Remplacer les valeurs manquantes par 0\n",
    "df_pivot.fillna(0, inplace=True)\n",
    "\n",
    "# Transposer et réinitialiser l'index, puis utiliser la première ligne comme noms de colonnes\n",
    "df_pivot         = df_pivot.transpose()\n",
    "df_pivot         = df_pivot.iloc[0:].reset_index(drop=True)\n",
    "df_pivot.columns = df_pivot.iloc[0]\n",
    "second_part      = df_pivot.drop(0).reset_index(drop=True)"
   ]
  },
  {
   "cell_type": "code",
   "execution_count": 443,
   "id": "aeb93fa9",
   "metadata": {},
   "outputs": [],
   "source": [
    "# Définition des années pour les fichiers finaux\n",
    "years = [1948, 1952, 1956, 1960, 1964, 1968, 1972, 1976, 1980, 1984, \n",
    "         1988, 1992, 1996, 2000, 2004, 2008, 2012, 2016, 2020]"
   ]
  },
  {
   "cell_type": "code",
   "execution_count": 444,
   "id": "93ebb7af",
   "metadata": {},
   "outputs": [],
   "source": [
    "# Ajout des années et organisation de first_part pour 1948-1988\n",
    "first_part.rename(columns={'Unnamed: 0': 'year'}, inplace=True)\n",
    "first_part['year'] = years[:11]\n",
    "first_part.set_index('year', inplace=True)\n",
    "\n",
    "# Ajout des années et organisation de second_part pour 1992-2020 (JO 2020 ont eu lieu en 2021)\n",
    "second_part.rename(columns={'Unnamed: 0': 'year'}, inplace=True)\n",
    "second_part['year'] = years[11:]\n",
    "second_part.set_index('year', inplace=True)\n",
    "\n",
    "first_part.to_csv('first_part.csv')\n",
    "second_part.to_csv('second_part.csv')\n"
   ]
  },
  {
   "cell_type": "code",
   "execution_count": 445,
   "id": "7e887bdd",
   "metadata": {},
   "outputs": [],
   "source": [
    "# Sauvegarde de la version brute de la liste des pays\n",
    "country_list = second_part.columns[:].tolist()\n",
    "country_list.sort()\n",
    "with open('country_list_brut.txt', 'w') as f:\n",
    "    for country in country_list:\n",
    "        f.write(f\"{country}\\n\")"
   ]
  },
  {
   "cell_type": "code",
   "execution_count": null,
   "metadata": {},
   "outputs": [
    {
     "data": {
      "text/plain": [
       "'\\n+Afghanistan\\n+Antigua and Barbuda\\n+Belize\\n+Bhutan\\n+Bolivia\\n+Brunei\\n+Cambodia\\n+Chad\\n+Comoros\\n+Dominica\\n+Equatorial Guinea\\n+Gambia\\n+Guinea\\n+Lao\\n+Lesotho\\n+Libya\\n+Malawi\\n+Maldives\\n+Marshall Islands\\n+Mauritania\\n+Nepal\\n+Niger\\n+Palau\\n+Palestine\\n+Sao Tome and Principe\\n+South Sudan\\n+St. Vincent and the Grenadines\\n+Timor-Leste\\n+Tuvalu\\n+Vanuatu\\n+Yemen\\n'"
      ]
     },
     "execution_count": 446,
     "metadata": {},
     "output_type": "execute_result"
    }
   ],
   "source": [
    "# Mapping des noms de pays et nettoyage\n",
    "name_mapping = {\n",
    "    \"Côte d'Ivoire\" : \"Cote d'Ivoire\",\n",
    "    \"Democratic People's Republic of Korea\" : \"North Korea\",\n",
    "    \"Hong Kong, China\" : \"Hong Kong China\",\n",
    "    \"Islamic Republic of Iran\" : \"Iran\",\n",
    "    \"People's Republic of China\" : \"China\",\n",
    "    \"Republic of Korea\" : \"South Korea\",\n",
    "    \"Republic of Moldova\" : \"Moldova\",\n",
    "    \"Russian Federation\" : \"Russia\",\n",
    "    \"Saint Kitts and Nevis\" : \"St. Kitts and Nevis\",\n",
    "    \"Saint Lucia\" : \"St. Lucia\",\n",
    "    \"Swaziland\" : \"Eswatini\",\n",
    "    \"Syrian Arab Republic\" : \"Syria\",\n",
    "    \"United Arab Emirates\" : \"UAE\",\n",
    "    \"United Republic of Tanzania\" : \"Tanzania\",\n",
    "    \"United States of America\" : \"USA\",\n",
    "    \"Congo\" : \"Congo Rep.\",\n",
    "    \"Democratic Republic of the Congo\" : \"Congo Dem. Rep.\"\n",
    "}\n",
    "\n",
    "# Liste des pays à supprimer dans la liste des délégations olympiques:\n",
    "to_del = [\n",
    "    \"Virgin Islands, British\", \n",
    "    \"US Virgin Islands\", \n",
    "    \"The Former Yugoslav Republic of Macedonia\",\n",
    "    \"Serbia and Montenegro\", \n",
    "    \"Refugee Olympic Team\", \n",
    "    \"Refugee Olympic Athletes\", \n",
    "    \"ROC\", \n",
    "    \"Puerto Rico\", \n",
    "    \"Netherlands Antilles\", \n",
    "    \"Kosovo\",\n",
    "    \"Independent Olympic Athletes\", \n",
    "    \"Guam\", \n",
    "    \"Czechoslovakia\", \n",
    "    \"Chinese Taipei\", \n",
    "    \"Bermuda\", \n",
    "    \"Aruba\", \n",
    "    \"American Samoa\"\n",
    "]"
   ]
  },
  {
   "cell_type": "code",
   "execution_count": 447,
   "id": "9b1cc3f6",
   "metadata": {},
   "outputs": [],
   "source": [
    "# Copie et nettoyage des données de second_part pour les noms de pays et les colonnes à supprimer\n",
    "second_part_ = second_part.copy()\n",
    "second_part_ = second_part_.rename(columns=name_mapping)\n",
    "second_part_ = second_part_.drop(columns=[col for col in second_part_.columns if col in to_del])"
   ]
  },
  {
   "cell_type": "code",
   "execution_count": 448,
   "metadata": {},
   "outputs": [],
   "source": [
    "# Sauvegarde de la version nettoyée de la liste des pays\n",
    "country_list = second_part_.columns[:].tolist()\n",
    "country_list.sort()\n",
    "with open('list_post_traitement.txt', 'w') as f:\n",
    "    for country in country_list:\n",
    "        f.write(f\"{country}\\n\")"
   ]
  },
  {
   "cell_type": "code",
   "execution_count": 449,
   "metadata": {},
   "outputs": [],
   "source": [
    "# Sauvegarde de la version nettoyée de second_part \n",
    "second_part_.to_csv('second_part_countries_cleaned.csv')"
   ]
  },
  {
   "cell_type": "code",
   "execution_count": null,
   "id": "a3ae2f53",
   "metadata": {},
   "outputs": [],
   "source": []
  }
 ],
 "metadata": {
  "kernelspec": {
   "display_name": "GML",
   "language": "python",
   "name": "python3"
  },
  "language_info": {
   "codemirror_mode": {
    "name": "ipython",
    "version": 3
   },
   "file_extension": ".py",
   "mimetype": "text/x-python",
   "name": "python",
   "nbconvert_exporter": "python",
   "pygments_lexer": "ipython3",
   "version": "3.12.3"
  }
 },
 "nbformat": 4,
 "nbformat_minor": 5
}
